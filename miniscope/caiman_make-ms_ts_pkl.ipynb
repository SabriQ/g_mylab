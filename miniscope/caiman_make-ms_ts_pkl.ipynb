{
 "cells": [
  {
   "cell_type": "code",
   "execution_count": null,
   "metadata": {},
   "outputs": [],
   "source": [
    "try:                 \n",
    "    get_ipython().magic(u'load_ext autoreload')    \n",
    "    get_ipython().magic(u'autoreload 2')           \n",
    "    get_ipython().magic(u'matplotlib qt')          \n",
    "except:              \n",
    "    pass             \n",
    "import logging       \n",
    "import matplotlib.pyplot as plt                    \n",
    "import numpy as np   \n",
    "                     \n",
    "logging.basicConfig(format= \n",
    "                          \"%(relativeCreated)12d [%(filename)s:%(funcName)20s():%(lineno)s] [%(process)d] %(message)s\",\n",
    "                    # filename=\"/tmp/caiman.log\",  \n",
    "                    level=logging.DEBUG)           \n",
    "                     \n",
    "import caiman as cm  \n",
    "from caiman.source_extraction import cnmf                 \n",
    "from caiman.utils.visualization import inspect_correlation_pnr, nb_inspect_correlation_pnr\n",
    "from caiman.motion_correction import MotionCorrect        \n",
    "from caiman.source_extraction.cnmf import params as params\n",
    "from caiman.utils.visualization import plot_contours, nb_view_patches, nb_plot_contour\n",
    "import cv2           \n",
    "                     \n",
    "try:                 \n",
    "    cv2.setNumThreads(0)\n",
    "except:              \n",
    "    pass             \n",
    "import bokeh.plotting as bpl\n",
    "import holoviews as hv\n",
    "bpl.output_notebook()                                                                                                            \n",
    "      "
   ]
  },
  {
   "cell_type": "code",
   "execution_count": 1,
   "metadata": {},
   "outputs": [],
   "source": [
    "               \n",
    "    import glob          \n",
    "    import re            \n",
    "    import os"
   ]
  },
  {
   "cell_type": "code",
   "execution_count": 5,
   "metadata": {},
   "outputs": [
    {
     "name": "stdout",
     "output_type": "stream",
     "text": [
      "['W:\\\\qiushou\\\\miniscope\\\\20190927\\\\191126\\\\H15_M14_S49\\\\timestamp.dat', 'W:\\\\qiushou\\\\miniscope\\\\20190927\\\\191126\\\\H15_M35_S51\\\\timestamp.dat', 'W:\\\\qiushou\\\\miniscope\\\\20190928\\\\191126\\\\H22_M10_S43\\\\timestamp.dat', 'W:\\\\qiushou\\\\miniscope\\\\20190928\\\\191126\\\\H22_M24_S29\\\\timestamp.dat', 'W:\\\\qiushou\\\\miniscope\\\\20190928\\\\191126\\\\H22_M27_S4\\\\timestamp.dat', 'W:\\\\qiushou\\\\miniscope\\\\20190929\\\\191126\\\\H15_M28_S41\\\\timestamp.dat', 'W:\\\\qiushou\\\\miniscope\\\\20190929\\\\191126\\\\H15_M34_S9\\\\timestamp.dat', 'W:\\\\qiushou\\\\miniscope\\\\20190929\\\\191126\\\\H15_M36_S52\\\\timestamp.dat', 'W:\\\\qiushou\\\\miniscope\\\\20190929\\\\191126\\\\H15_M40_S43\\\\timestamp.dat', 'W:\\\\qiushou\\\\miniscope\\\\20190929\\\\191126\\\\H15_M42_S53\\\\timestamp.dat', 'W:\\\\qiushou\\\\miniscope\\\\20190929\\\\191126\\\\H15_M44_S57\\\\timestamp.dat', 'W:\\\\qiushou\\\\miniscope\\\\20190930\\\\191126\\\\H14_M33_S34\\\\timestamp.dat', 'W:\\\\qiushou\\\\miniscope\\\\20190930\\\\191126\\\\H14_M36_S40\\\\timestamp.dat', 'W:\\\\qiushou\\\\miniscope\\\\20190930\\\\191126\\\\H14_M45_S16\\\\timestamp.dat', 'W:\\\\qiushou\\\\miniscope\\\\20190930\\\\191126\\\\H14_M45_S51\\\\timestamp.dat', 'W:\\\\qiushou\\\\miniscope\\\\20190930\\\\191126\\\\H15_M4_S31\\\\timestamp.dat', 'W:\\\\qiushou\\\\miniscope\\\\20190930\\\\191126\\\\H15_M19_S46\\\\timestamp.dat']\n"
     ]
    }
   ],
   "source": [
    "animal_id = '191126' \n",
    "resultDir = 'G:\\data\\miniscope'\n",
    "tsFileList = glob.glob(os.path.join(r'W:\\qiushou\\miniscope\\2019*'\n",
    "                                    ,animal_id     \n",
    "                                    ,\"H*/timestamp.dat\"))\n",
    "def sort_key(s):     \n",
    "    if s:            \n",
    "        try:         \n",
    "            date = re.findall('\\d{8}', s)[0]\n",
    "        except:      \n",
    "            date = -1            \n",
    "        try:         \n",
    "            H = re.findall('H(\\d+)',s)[0]\n",
    "        except:      \n",
    "            H = -1            \n",
    "        try:         \n",
    "            M = re.findall('M(\\d+)',s)[0]\n",
    "        except:      \n",
    "            M = -1            \n",
    "        try:         \n",
    "            S = re.findall('S(\\d+)',s)[0]\n",
    "        except:      \n",
    "            S = -1            \n",
    "        try:         \n",
    "            ms = re.findall('msCam(\\d+)',s)[0]\n",
    "        except:      \n",
    "            ms = -1  \n",
    "        return [int(date),int(H),int(M),int(S),int(ms)]\n",
    "tsFileList.sort(key=sort_key)\n",
    "tsFileList = [i for i in tsFileList ]#if 'H22_M31_S23' not in i"
   ]
  },
  {
   "cell_type": "code",
   "execution_count": 6,
   "metadata": {},
   "outputs": [
    {
     "name": "stdout",
     "output_type": "stream",
     "text": [
      "W:\\qiushou\\miniscope\\20190927\\191126\\H15_M14_S49\\timestamp.dat\n",
      "W:\\qiushou\\miniscope\\20190927\\191126\\H15_M35_S51\\timestamp.dat\n",
      "W:\\qiushou\\miniscope\\20190928\\191126\\H22_M10_S43\\timestamp.dat\n",
      "W:\\qiushou\\miniscope\\20190928\\191126\\H22_M24_S29\\timestamp.dat\n",
      "W:\\qiushou\\miniscope\\20190928\\191126\\H22_M27_S4\\timestamp.dat\n",
      "W:\\qiushou\\miniscope\\20190929\\191126\\H15_M28_S41\\timestamp.dat\n",
      "W:\\qiushou\\miniscope\\20190929\\191126\\H15_M34_S9\\timestamp.dat\n",
      "W:\\qiushou\\miniscope\\20190929\\191126\\H15_M36_S52\\timestamp.dat\n",
      "W:\\qiushou\\miniscope\\20190929\\191126\\H15_M40_S43\\timestamp.dat\n",
      "W:\\qiushou\\miniscope\\20190929\\191126\\H15_M42_S53\\timestamp.dat\n",
      "W:\\qiushou\\miniscope\\20190929\\191126\\H15_M44_S57\\timestamp.dat\n",
      "W:\\qiushou\\miniscope\\20190930\\191126\\H14_M33_S34\\timestamp.dat\n",
      "W:\\qiushou\\miniscope\\20190930\\191126\\H14_M36_S40\\timestamp.dat\n",
      "W:\\qiushou\\miniscope\\20190930\\191126\\H14_M45_S16\\timestamp.dat\n",
      "W:\\qiushou\\miniscope\\20190930\\191126\\H14_M45_S51\\timestamp.dat\n",
      "W:\\qiushou\\miniscope\\20190930\\191126\\H15_M4_S31\\timestamp.dat\n",
      "W:\\qiushou\\miniscope\\20190930\\191126\\H15_M19_S46\\timestamp.dat\n",
      "17\n"
     ]
    }
   ],
   "source": [
    "[print(i) for i in tsFileList]\n",
    "print(len(tsFileList))\n",
    "import numpy as np"
   ]
  },
  {
   "cell_type": "code",
   "execution_count": 7,
   "metadata": {},
   "outputs": [
    {
     "name": "stdout",
     "output_type": "stream",
     "text": [
      "G:\\data\\miniscope\\Results_191126\\20191016_110707_all\\ms_ts.pkl\n"
     ]
    }
   ],
   "source": [
    "import cv2          \n",
    "import pickle       \n",
    "resultDir = 'G:\\data\\miniscope'\n",
    "newpath_parent=os.path.join(resultDir,'Results'+'_'+animal_id)\n",
    "newpath = os.path.join(newpath_parent,\"20191016_110707_all\")\n",
    "\n",
    "#%% concatenate timestamps of tsFileList\n",
    "ms_ts_name = os.path.join(newpath,'ms_ts.pkl')\n",
    "print(ms_ts_name)  \n",
    "temporal_downsampling=3                   \n",
    "import pandas as pd\n",
    "import pickle   "
   ]
  },
  {
   "cell_type": "code",
   "execution_count": 7,
   "metadata": {},
   "outputs": [
    {
     "ename": "IndexError",
     "evalue": "list index out of range",
     "output_type": "error",
     "traceback": [
      "\u001b[1;31m---------------------------------------------------------------------------\u001b[0m",
      "\u001b[1;31mIndexError\u001b[0m                                Traceback (most recent call last)",
      "\u001b[1;32m<ipython-input-7-f1abf040887b>\u001b[0m in \u001b[0;36m<module>\u001b[1;34m\u001b[0m\n\u001b[0;32m     17\u001b[0m \u001b[1;31m#         print(i)\u001b[0m\u001b[1;33m\u001b[0m\u001b[1;33m\u001b[0m\u001b[1;33m\u001b[0m\u001b[0m\n\u001b[0;32m     18\u001b[0m         \u001b[0msession_indstart\u001b[0m\u001b[1;33m.\u001b[0m\u001b[0mappend\u001b[0m\u001b[1;33m(\u001b[0m\u001b[0mi0\u001b[0m\u001b[1;33m)\u001b[0m\u001b[1;33m\u001b[0m\u001b[1;33m\u001b[0m\u001b[0m\n\u001b[1;32m---> 19\u001b[1;33m         \u001b[0mts_session_ds\u001b[0m\u001b[1;33m.\u001b[0m\u001b[0mappend\u001b[0m\u001b[1;33m(\u001b[0m\u001b[0mttemp\u001b[0m\u001b[1;33m[\u001b[0m\u001b[0mi0\u001b[0m\u001b[1;33m:\u001b[0m\u001b[0msession_indend\u001b[0m\u001b[1;33m[\u001b[0m\u001b[0mi\u001b[0m\u001b[1;33m]\u001b[0m\u001b[1;33m]\u001b[0m\u001b[1;33m)\u001b[0m\u001b[1;33m\u001b[0m\u001b[1;33m\u001b[0m\u001b[0m\n\u001b[0m\u001b[0;32m     20\u001b[0m         \u001b[0mi0\u001b[0m\u001b[1;33m=\u001b[0m\u001b[0msession_indend\u001b[0m\u001b[1;33m[\u001b[0m\u001b[0mi\u001b[0m\u001b[1;33m]\u001b[0m\u001b[1;33m+\u001b[0m\u001b[1;36m1\u001b[0m\u001b[1;33m\u001b[0m\u001b[1;33m\u001b[0m\u001b[0m\n\u001b[0;32m     21\u001b[0m     \u001b[0mms_ts\u001b[0m\u001b[1;33m=\u001b[0m\u001b[0mnp\u001b[0m\u001b[1;33m.\u001b[0m\u001b[0marray\u001b[0m\u001b[1;33m(\u001b[0m\u001b[0mts_session_ds\u001b[0m\u001b[1;33m)\u001b[0m\u001b[1;33m\u001b[0m\u001b[1;33m\u001b[0m\u001b[0m\n",
      "\u001b[1;31mIndexError\u001b[0m: list index out of range"
     ]
    }
   ],
   "source": [
    "# 这一段是原先杨其鑫的代码，每一block会少一帧\n",
    "if not os.path.exists(ms_ts_name):\n",
    "    ts_session=[]  \n",
    "    for tsFile in tsFileList:\n",
    "        datatemp=pd.read_csv(tsFile,sep = \"\\t\", header = 0)\n",
    "        ts_session.append(datatemp['sysClock'].values) \n",
    "#         print(len((datatemp['sysClock'].values)))\n",
    "    ttemp=np.hstack(ts_session)[::temporal_downsampling]\n",
    "    # remporally downsample for each video\n",
    "    # [i[::3] for i in ts_session][0]\n",
    "    session_indend=(np.where(np.diff(ttemp)<0)[0]).tolist()    \n",
    "    session_indend.append(-1)\n",
    "    ts_session_ds=[]\n",
    "    i0=0            \n",
    "    session_indstart=[]\n",
    "    for i in range(len(ts_session)):\n",
    "#         print(i)\n",
    "        session_indstart.append(i0)\n",
    "        ts_session_ds.append(ttemp[i0:session_indend[i]])\n",
    "        i0=session_indend[i]+1\n",
    "    ms_ts=np.array(ts_session_ds)    \n",
    "    with open(ms_ts_name,'wb') as output:\n",
    "        pickle.dump(ms_ts,output,pickle.HIGHEST_PROTOCOL)\n",
    "else:               \n",
    "    with open(ms_ts_name, \"rb\") as f:\n",
    "        ms_ts= pickle.load(f)\n",
    "print(f'concatenated timestamp of miniscope_video is located at {ms_ts_name}')\n",
    "\n",
    "l_ms_ts=[]\n",
    "for i in ms_ts:\n",
    "    l_ms_ts.append(len(i))\n",
    "print(sum(l_ms_ts))"
   ]
  },
  {
   "cell_type": "code",
   "execution_count": 8,
   "metadata": {},
   "outputs": [
    {
     "name": "stdout",
     "output_type": "stream",
     "text": [
      "concatenated timestamp of miniscope_video is located at G:\\data\\miniscope\\Results_191126\\20191016_110707_all\\ms_ts.pkl\n"
     ]
    }
   ],
   "source": [
    "#这一段是更正后的代码，帧数相等\n",
    "if not os.path.exists(ms_ts_name):\n",
    "    ts_session=[]\n",
    "    for tsFile in tsFileList:\n",
    "        datatemp=pd.read_csv(tsFile,sep = \"\\t\", header = 0)\n",
    "        ts_session.append(datatemp['sysClock'].values)    \n",
    "    ttemp=np.hstack(ts_session)[::temporal_downsampling]\n",
    "    # remporally downsample for each video\n",
    "    # [i[::3] for i in ts_session][0]\n",
    "    session_indend=(np.where(np.diff(ttemp)<0)[0]).tolist()\n",
    "#    session_indend.append(-1)\n",
    "    ts_session_ds=[]\n",
    "    i0=0\n",
    "    session_indstart=[]\n",
    "    if len(session_indend)>0:\n",
    "        for i in range(len(session_indend)):\n",
    "            session_indstart.append(i0)\n",
    "            ts_session_ds.append(ttemp[i0:(session_indend[i]+1)])\n",
    "            i0=session_indend[i]+1\n",
    "        ts_session_ds.append(ttemp[(session_indend[-1]+1):])\n",
    "    else:\n",
    "        ts_session_ds.append(ttemp[i0:])\n",
    "    \n",
    "    \n",
    "    ms_ts=np.array(ts_session_ds)    \n",
    "    with open(ms_ts_name,'wb') as output:\n",
    "        pickle.dump(ms_ts,output,pickle.HIGHEST_PROTOCOL)\n",
    "else:\n",
    "    with open(ms_ts_name, \"rb\") as f:\n",
    "        ms_ts= pickle.load(f)\n",
    "print(f'concatenated timestamp of miniscope_video is located at {ms_ts_name}')"
   ]
  },
  {
   "cell_type": "code",
   "execution_count": 9,
   "metadata": {},
   "outputs": [
    {
     "data": {
      "text/plain": [
       "114660"
      ]
     },
     "execution_count": 9,
     "metadata": {},
     "output_type": "execute_result"
    }
   ],
   "source": [
    "sum([len(i) for i in ms_ts]) "
   ]
  },
  {
   "cell_type": "code",
   "execution_count": 10,
   "metadata": {},
   "outputs": [
    {
     "data": {
      "text/plain": [
       "16"
      ]
     },
     "execution_count": 10,
     "metadata": {},
     "output_type": "execute_result"
    }
   ],
   "source": [
    "len(ms_ts)"
   ]
  },
  {
   "cell_type": "code",
   "execution_count": 30,
   "metadata": {},
   "outputs": [
    {
     "name": "stdout",
     "output_type": "stream",
     "text": [
      "W:\\qiushou\\miniscope\\20190927\\191126\\H15_M14_S49\\timestamp.dat\n",
      "><<<<<<<<<<<<<<<<<<<<<<<<<<<<<<<<<<<<<<<<<<<<<<<<<<<<<<<<<<<<<<<<<<<<<<<<[71512, 71512]\n",
      "W:\\qiushou\\miniscope\\20190927\\191126\\H15_M35_S51\\timestamp.dat\n",
      "><<<<<<<<<<<<<<<<<<<<<<<<<<<<<<<<<<<<<<<<<<<<<<<<<<<<<<<<<<<<<<<<<<<<<<<<<[72871, 72871]\n",
      "W:\\qiushou\\miniscope\\20190928\\191126\\H22_M10_S43\\timestamp.dat\n",
      "><<<<<<<<<<<<<<<<<<<<<<<<[23875, 23875]\n",
      "W:\\qiushou\\miniscope\\20190928\\191126\\H22_M24_S29\\timestamp.dat\n",
      "><<[1733, 1791]\n",
      "W:\\qiushou\\miniscope\\20190928\\191126\\H22_M27_S4\\timestamp.dat\n",
      "><<<<<<<<<<<<<<<<<<<<<<<<<[24523, 24523]\n",
      "W:\\qiushou\\miniscope\\20190929\\191126\\H15_M28_S41\\timestamp.dat\n",
      "><<<<<<<<<<[9832, 9832]\n",
      "W:\\qiushou\\miniscope\\20190929\\191126\\H15_M34_S9\\timestamp.dat\n",
      "><<<<<[4899, 4899]\n",
      "W:\\qiushou\\miniscope\\20190929\\191126\\H15_M36_S52\\timestamp.dat\n",
      "><<<<<<[5144, 5144]\n",
      "W:\\qiushou\\miniscope\\20190929\\191126\\H15_M40_S43\\timestamp.dat\n",
      "><<<<[3860, 3870]\n",
      "W:\\qiushou\\miniscope\\20190929\\191126\\H15_M42_S53\\timestamp.dat\n",
      "><[0, 0]\n",
      "W:\\qiushou\\miniscope\\20190929\\191126\\H15_M44_S57\\timestamp.dat\n",
      "><<<<<<<<<<<<<<<<<<<<<<<<<<[25279, 25279]\n",
      "W:\\qiushou\\miniscope\\20190930\\191126\\H14_M33_S34\\timestamp.dat\n",
      "><<<<<<[5579, 5579]\n",
      "W:\\qiushou\\miniscope\\20190930\\191126\\H14_M36_S40\\timestamp.dat\n",
      "><<<<<<<<<<<<<<<[14306, 14306]\n",
      "W:\\qiushou\\miniscope\\20190930\\191126\\H14_M45_S16\\timestamp.dat\n",
      "><<[1048, 1048]\n",
      "W:\\qiushou\\miniscope\\20190930\\191126\\H14_M45_S51\\timestamp.dat\n",
      "><<<<<<<<<<<<<<<<<<<<<<<<<<<[26526, 26526]\n",
      "W:\\qiushou\\miniscope\\20190930\\191126\\H15_M4_S31\\timestamp.dat\n",
      "><<<<<<<<<<<<<<<<<<<<<<<<<<[25316, 25316]\n",
      "W:\\qiushou\\miniscope\\20190930\\191126\\H15_M19_S46\\timestamp.dat\n",
      "><<<<<<<<<<<<<<<<<<<<<<<<<<<<[27676, 27676]\n"
     ]
    }
   ],
   "source": [
    "import cv2\n",
    "for tsFile in tsFileList:\n",
    "    print(tsFile)\n",
    "    print(\">\",end=\"\")\n",
    "    ts = pd.read_csv(tsFile,sep = \"\\t\", header = 0)\n",
    "    ts_len=ts.shape[0]        \n",
    "    videoFileList=glob.glob(os.path.dirname(tsFile)+'\\*.avi')   \n",
    "    framenum=[]\n",
    "    for video in videoFileList:\n",
    "#         print(video)\n",
    "        print(\"<\",end=\"\")\n",
    "        cap = cv2.VideoCapture(video)\n",
    "        framenum.append(int(cap.get(7)))\n",
    "        cap.release()\n",
    "    print([ts_len,sum(framenum)])"
   ]
  },
  {
   "cell_type": "code",
   "execution_count": 29,
   "metadata": {},
   "outputs": [
    {
     "ename": "SyntaxError",
     "evalue": "EOL while scanning string literal (<ipython-input-29-2ddba5169899>, line 1)",
     "output_type": "error",
     "traceback": [
      "\u001b[1;36m  File \u001b[1;32m\"<ipython-input-29-2ddba5169899>\"\u001b[1;36m, line \u001b[1;32m1\u001b[0m\n\u001b[1;33m    video.split(\"\\\")\u001b[0m\n\u001b[1;37m                    ^\u001b[0m\n\u001b[1;31mSyntaxError\u001b[0m\u001b[1;31m:\u001b[0m EOL while scanning string literal\n"
     ]
    }
   ],
   "source": []
  }
 ],
 "metadata": {
  "kernelspec": {
   "display_name": "Python 3",
   "language": "python",
   "name": "python3"
  },
  "language_info": {
   "codemirror_mode": {
    "name": "ipython",
    "version": 3
   },
   "file_extension": ".py",
   "mimetype": "text/x-python",
   "name": "python",
   "nbconvert_exporter": "python",
   "pygments_lexer": "ipython3",
   "version": "3.7.4"
  }
 },
 "nbformat": 4,
 "nbformat_minor": 2
}
