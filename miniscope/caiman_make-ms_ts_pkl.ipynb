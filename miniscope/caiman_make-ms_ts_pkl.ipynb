{
 "cells": [
  {
   "cell_type": "code",
   "execution_count": null,
   "metadata": {},
   "outputs": [],
   "source": [
    "try:                 \n",
    "    get_ipython().magic(u'load_ext autoreload')    \n",
    "    get_ipython().magic(u'autoreload 2')           \n",
    "    get_ipython().magic(u'matplotlib qt')          \n",
    "except:              \n",
    "    pass             \n",
    "import logging       \n",
    "import matplotlib.pyplot as plt                    \n",
    "import numpy as np   \n",
    "                     \n",
    "logging.basicConfig(format= \n",
    "                          \"%(relativeCreated)12d [%(filename)s:%(funcName)20s():%(lineno)s] [%(process)d] %(message)s\",\n",
    "                    # filename=\"/tmp/caiman.log\",  \n",
    "                    level=logging.DEBUG)           \n",
    "                     \n",
    "import caiman as cm  \n",
    "from caiman.source_extraction import cnmf                 \n",
    "from caiman.utils.visualization import inspect_correlation_pnr, nb_inspect_correlation_pnr\n",
    "from caiman.motion_correction import MotionCorrect        \n",
    "from caiman.source_extraction.cnmf import params as params\n",
    "from caiman.utils.visualization import plot_contours, nb_view_patches, nb_plot_contour\n",
    "import cv2           \n",
    "                     \n",
    "try:                 \n",
    "    cv2.setNumThreads(0)\n",
    "except:              \n",
    "    pass             \n",
    "import bokeh.plotting as bpl\n",
    "import holoviews as hv\n",
    "bpl.output_notebook()                                                                                                            \n",
    "      "
   ]
  },
  {
   "cell_type": "code",
   "execution_count": 2,
   "metadata": {},
   "outputs": [],
   "source": [
    "               \n",
    "import glob          \n",
    "import re            \n",
    "import os"
   ]
  },
  {
   "cell_type": "code",
   "execution_count": 3,
   "metadata": {},
   "outputs": [
    {
     "name": "stdout",
     "output_type": "stream",
     "text": [
      "['W:\\\\qiushou\\\\miniscope\\\\20191028\\\\191173\\\\H21_M31_S30\\\\timestamp.dat', 'W:\\\\qiushou\\\\miniscope\\\\20191028\\\\191173\\\\H21_M47_S36\\\\timestamp.dat', 'W:\\\\qiushou\\\\miniscope\\\\20191029\\\\191173\\\\H11_M16_S36\\\\timestamp.dat', 'W:\\\\qiushou\\\\miniscope\\\\20191029\\\\191173\\\\H11_M27_S16\\\\timestamp.dat', 'W:\\\\qiushou\\\\miniscope\\\\20191030\\\\191173\\\\H13_M43_S2\\\\timestamp.dat', 'W:\\\\qiushou\\\\miniscope\\\\20191030\\\\191173\\\\H13_M54_S38\\\\timestamp.dat', 'W:\\\\qiushou\\\\miniscope\\\\20191031\\\\191173\\\\H12_M57_S24\\\\timestamp.dat', 'W:\\\\qiushou\\\\miniscope\\\\20191031\\\\191173\\\\H13_M5_S32\\\\timestamp.dat', 'W:\\\\qiushou\\\\miniscope\\\\20191101\\\\191173\\\\H19_M56_S2\\\\timestamp.dat', 'W:\\\\qiushou\\\\miniscope\\\\20191101\\\\191173\\\\H20_M2_S43\\\\timestamp.dat', 'W:\\\\qiushou\\\\miniscope\\\\20191102\\\\191173\\\\H15_M14_S3\\\\timestamp.dat', 'W:\\\\qiushou\\\\miniscope\\\\20191102\\\\191173\\\\H15_M22_S29\\\\timestamp.dat']\n"
     ]
    }
   ],
   "source": [
    "animal_id = '191173' \n",
    "resultDir = 'G:\\data\\miniscope'\n",
    "tsFileList = glob.glob(os.path.join(r'W:\\qiushou\\miniscope\\2019*'\n",
    "                                    ,animal_id     \n",
    "                                    ,\"H*/timestamp.dat\"))\n",
    "def sort_key(s):     \n",
    "    if s:            \n",
    "        try:         \n",
    "            date = re.findall('\\d{8}', s)[0]\n",
    "        except:      \n",
    "            date = -1            \n",
    "        try:         \n",
    "            H = re.findall('H(\\d+)',s)[0]\n",
    "        except:      \n",
    "            H = -1            \n",
    "        try:         \n",
    "            M = re.findall('M(\\d+)',s)[0]\n",
    "        except:      \n",
    "            M = -1            \n",
    "        try:         \n",
    "            S = re.findall('S(\\d+)',s)[0]\n",
    "        except:      \n",
    "            S = -1            \n",
    "        try:         \n",
    "            ms = re.findall('msCam(\\d+)',s)[0]\n",
    "        except:      \n",
    "            ms = -1  \n",
    "        return [int(date),int(H),int(M),int(S),int(ms)]\n",
    "tsFileList.sort(key=sort_key)\n",
    "tsFileList = [i for i in tsFileList if '2019111' not in i]\n",
    "print(tsFileList)"
   ]
  },
  {
   "cell_type": "code",
   "execution_count": 4,
   "metadata": {},
   "outputs": [
    {
     "name": "stdout",
     "output_type": "stream",
     "text": [
      "12\n"
     ]
    }
   ],
   "source": [
    "print(len(tsFileList))\n",
    "import numpy as np"
   ]
  },
  {
   "cell_type": "code",
   "execution_count": 5,
   "metadata": {},
   "outputs": [
    {
     "name": "stdout",
     "output_type": "stream",
     "text": [
      "G:\\data\\miniscope\\Results_191173\\20191110_160946_20191028-1102all\\ms_ts.pkl\n"
     ]
    }
   ],
   "source": [
    "import cv2          \n",
    "import pickle       \n",
    "resultDir = 'G:\\data\\miniscope'\n",
    "newpath_parent=os.path.join(resultDir,'Results'+'_'+animal_id)\n",
    "newpath = os.path.join(newpath_parent,\"20191110_160946_20191028-1102all\")\n",
    "\n",
    "#%% concatenate timestamps of tsFileList\n",
    "ms_ts_name = os.path.join(newpath,'ms_ts.pkl')\n",
    "print(ms_ts_name)  \n",
    "temporal_downsampling=3                   \n",
    "import pandas as pd\n",
    "import pickle   "
   ]
  },
  {
   "cell_type": "code",
   "execution_count": 24,
   "metadata": {},
   "outputs": [
    {
     "name": "stdout",
     "output_type": "stream",
     "text": [
      "concatenated timestamp of miniscope_video is located at G:\\data\\miniscope\\Results_191174\\20191110_161017_20191029-1102all\\ms_ts.pkl\n"
     ]
    }
   ],
   "source": [
    "# 这一段是原先杨其鑫的代码，每一block会少一帧\n",
    "if not os.path.exists(ms_ts_name):\n",
    "    ts_session=[]  \n",
    "    for tsFile in tsFileList:\n",
    "        datatemp=pd.read_csv(tsFile,sep = \"\\t\", header = 0)\n",
    "        ts_session.append(datatemp['sysClock'].values) \n",
    "#         print(len((datatemp['sysClock'].values)))\n",
    "    ttemp=np.hstack(ts_session)[::temporal_downsampling]\n",
    "    # remporally downsample for each video\n",
    "    # [i[::3] for i in ts_session][0]\n",
    "    session_indend=(np.where(np.diff(ttemp)<0)[0]).tolist()    \n",
    "    session_indend.append(-1)\n",
    "    ts_session_ds=[]\n",
    "    i0=0            \n",
    "    session_indstart=[]\n",
    "    for i in range(len(ts_session)):\n",
    "#         print(i)\n",
    "        session_indstart.append(i0)\n",
    "        ts_session_ds.append(ttemp[i0:session_indend[i]])\n",
    "        i0=session_indend[i]+1\n",
    "    ms_ts=np.array(ts_session_ds)    \n",
    "    with open(ms_ts_name,'wb') as output:\n",
    "        pickle.dump(ms_ts,output,pickle.HIGHEST_PROTOCOL)\n",
    "else:               \n",
    "    with open(ms_ts_name, \"rb\") as f:\n",
    "        ms_ts= pickle.load(f)\n",
    "print(f'concatenated timestamp of miniscope_video is located at {ms_ts_name}')"
   ]
  },
  {
   "cell_type": "code",
   "execution_count": 25,
   "metadata": {},
   "outputs": [
    {
     "name": "stdout",
     "output_type": "stream",
     "text": [
      "62442\n"
     ]
    }
   ],
   "source": [
    "l_ms_ts=[]\n",
    "for i in ms_ts:\n",
    "    l_ms_ts.append(len(i))\n",
    "print(sum(l_ms_ts))"
   ]
  },
  {
   "cell_type": "code",
   "execution_count": 6,
   "metadata": {},
   "outputs": [
    {
     "name": "stdout",
     "output_type": "stream",
     "text": [
      "concatenated timestamp of miniscope_video is located at G:\\data\\miniscope\\Results_191173\\20191110_160946_20191028-1102all\\ms_ts.pkl\n"
     ]
    }
   ],
   "source": [
    "#这一段是更正后的代码，帧数相等\n",
    "if not os.path.exists(ms_ts_name):\n",
    "    ts_session=[]\n",
    "    for tsFile in tsFileList:\n",
    "        datatemp=pd.read_csv(tsFile,sep = \"\\t\", header = 0)\n",
    "        ts_session.append(datatemp['sysClock'].values)    \n",
    "    ttemp=np.hstack(ts_session)[::temporal_downsampling]\n",
    "    # remporally downsample for each video\n",
    "    # [i[::3] for i in ts_session][0]\n",
    "    session_indend=(np.where(np.diff(ttemp)<0)[0]).tolist()\n",
    "#    session_indend.append(-1)\n",
    "    ts_session_ds=[]\n",
    "    i0=0\n",
    "    session_indstart=[]\n",
    "    if len(session_indend)>0:\n",
    "        for i in range(len(session_indend)):\n",
    "            session_indstart.append(i0)\n",
    "            ts_session_ds.append(ttemp[i0:(session_indend[i]+1)])\n",
    "            i0=session_indend[i]+1\n",
    "        ts_session_ds.append(ttemp[(session_indend[-1]+1):])\n",
    "    else:\n",
    "        ts_session_ds.append(ttemp[i0:])\n",
    "    \n",
    "    \n",
    "    ms_ts=np.array(ts_session_ds)    \n",
    "    with open(ms_ts_name,'wb') as output:\n",
    "        pickle.dump(ms_ts,output,pickle.HIGHEST_PROTOCOL)\n",
    "else:\n",
    "    with open(ms_ts_name, \"rb\") as f:\n",
    "        ms_ts= pickle.load(f)\n",
    "print(f'concatenated timestamp of miniscope_video is located at {ms_ts_name}')"
   ]
  },
  {
   "cell_type": "code",
   "execution_count": 7,
   "metadata": {},
   "outputs": [
    {
     "data": {
      "text/plain": [
       "69537"
      ]
     },
     "execution_count": 7,
     "metadata": {},
     "output_type": "execute_result"
    }
   ],
   "source": [
    "sum([len(i) for i in ms_ts]) "
   ]
  },
  {
   "cell_type": "code",
   "execution_count": 54,
   "metadata": {},
   "outputs": [
    {
     "data": {
      "text/plain": [
       "17041"
      ]
     },
     "execution_count": 54,
     "metadata": {},
     "output_type": "execute_result"
    }
   ],
   "source": [
    "import cv2\n",
    "cap = cv2.VideoCapture(os.path.join(newpath_parent,\"20191111_093330_20191110/msCam_concat.avi\"))\n",
    "int(cap.get(7))"
   ]
  },
  {
   "cell_type": "code",
   "execution_count": 57,
   "metadata": {},
   "outputs": [
    {
     "data": {
      "text/plain": [
       "True"
      ]
     },
     "execution_count": 57,
     "metadata": {},
     "output_type": "execute_result"
    }
   ],
   "source": [
    "sum([len(i) for i in ms_ts]) == int(cap.get(7))"
   ]
  }
 ],
 "metadata": {
  "kernelspec": {
   "display_name": "Python 3",
   "language": "python",
   "name": "python3"
  },
  "language_info": {
   "codemirror_mode": {
    "name": "ipython",
    "version": 3
   },
   "file_extension": ".py",
   "mimetype": "text/x-python",
   "name": "python",
   "nbconvert_exporter": "python",
   "pygments_lexer": "ipython3",
   "version": "3.7.4"
  }
 },
 "nbformat": 4,
 "nbformat_minor": 2
}
