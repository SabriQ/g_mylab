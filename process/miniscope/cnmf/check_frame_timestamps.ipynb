{
 "cells": [
  {
   "cell_type": "markdown",
   "metadata": {},
   "source": [
    "对每个H*M*S*文件检查，是否对应的视频帧数和时间帧数相等，以时间戳为准，删除多余的帧"
   ]
  },
  {
   "cell_type": "code",
   "execution_count": 2,
   "metadata": {},
   "outputs": [],
   "source": [
    "import cv2\n",
    "import os,sys,glob\n",
    "import re\n",
    "import pandas as pd\n",
    "import numpy as np"
   ]
  },
  {
   "cell_type": "code",
   "execution_count": 3,
   "metadata": {},
   "outputs": [
    {
     "data": {
      "text/plain": [
       "['D:\\\\miniscope\\\\20200801\\\\206550\\\\H16_M12_S15',\n",
       " 'D:\\\\miniscope\\\\20200801\\\\206550\\\\H16_M17_S16',\n",
       " 'D:\\\\miniscope\\\\20200801\\\\206550\\\\H16_M1_S7',\n",
       " 'D:\\\\miniscope\\\\20200801\\\\206550\\\\H16_M22_S17',\n",
       " 'D:\\\\miniscope\\\\20200801\\\\206550\\\\H16_M27_S29',\n",
       " 'D:\\\\miniscope\\\\20200801\\\\206550\\\\H16_M7_S15']"
      ]
     },
     "execution_count": 3,
     "metadata": {},
     "output_type": "execute_result"
    }
   ],
   "source": [
    "HMSfilepathes = glob.glob(r\"D:\\miniscope\\20200801\\206550\\H*\")\n",
    "# HMSfilepathes = [i for i in HMSfilepathes if \"20200720\" not in i]\n",
    "HMSfilepathes"
   ]
  },
  {
   "cell_type": "code",
   "execution_count": 4,
   "metadata": {},
   "outputs": [],
   "source": [
    "def sort_key(s):\n",
    "    \"\"\"\n",
    "    fit for video recorded by miniscope.exe\n",
    "    sort fixed pattern: YYYYMMDD/H*M*S*/msCam*.avi\n",
    "    \"\"\"\n",
    "    if s:\n",
    "        try:\n",
    "            ms = re.findall('msCam(\\d+)',s)[0]\n",
    "        except:\n",
    "            ms = -1\n",
    "        return [int(ms)]\n",
    "    \n",
    "def len_of_ts(tsFile):\n",
    "    datatemp=pd.read_csv(tsFile[0],sep = \"\\t\", header = 0)\n",
    "    if np.abs(datatemp['sysClock'][0])>datatemp['sysClock'][1]:\n",
    "        value = datatemp['sysClock'][1]-13 # 用第2帧的时间减去13，13是大约的一个值\n",
    "        if value < 0:\n",
    "            datatemp['sysClock'][0]=0\n",
    "        else:\n",
    "            datatemp['sysClock'][0]=value\n",
    "\n",
    "    ts = datatemp['sysClock'].values\n",
    "    \n",
    "    return len(ts),ts\n",
    "\n",
    "def len_of_ms(msFileList):\n",
    "    lens=[]\n",
    "    for msFile in msFileList:\n",
    "        lens.append(int(cv2.VideoCapture(msFile).get(7)))\n",
    "    return sum(lens)"
   ]
  },
  {
   "cell_type": "code",
   "execution_count": 7,
   "metadata": {},
   "outputs": [
    {
     "name": "stdout",
     "output_type": "stream",
     "text": [
      "D:\\miniscope\\20200801\\206550\\H16_M12_S15<-->9008 (9008, array([    52,     65,     77, ..., 299976, 300004, 300038], dtype=int64))\n",
      "D:\\miniscope\\20200801\\206550\\H16_M17_S16<-->9007 (9007, array([    11,     24,     40, ..., 299909, 299946, 299977], dtype=int64))\n",
      "D:\\miniscope\\20200801\\206550\\H16_M1_S7<-->9008 (9008, array([     9,     22,     56, ..., 299957, 299990, 300024], dtype=int64))\n",
      "D:\\miniscope\\20200801\\206550\\H16_M22_S17<-->1819 (1819, array([   13,    26,    60, ..., 60479, 60513, 60548], dtype=int64))\n",
      "D:\\miniscope\\20200801\\206550\\H16_M27_S29<-->22731 (22731, array([    17,     30,     50, ..., 757753, 757787, 757820], dtype=int64))\n",
      "D:\\miniscope\\20200801\\206550\\H16_M7_S15<-->9010 (9010, array([    14,     25,     53, ..., 300025, 300056, 300089], dtype=int64))\n"
     ]
    }
   ],
   "source": [
    "bug_files=[]\n",
    "for file in HMSfilepathes:\n",
    "    print(file,end=\"<-->\")\n",
    "    msFileList = glob.glob(os.path.join(file,\"msCam*.avi\"))\n",
    "    msFileList.sort(key=sort_key)\n",
    "    tsFile = glob.glob(os.path.join(file,\"timestamp.dat\"))\n",
    "    ms_lens=len_of_ms(msFileList)\n",
    "    ts_lens=len_of_ts(tsFile)\n",
    "    if ms_lens!=ts_lens[0]:\n",
    "        bug_files.append((file,ms_lens,ts_lens))\n",
    "    else:\n",
    "        print(ms_lens,ts_lens)\n"
   ]
  },
  {
   "cell_type": "code",
   "execution_count": 6,
   "metadata": {
    "scrolled": true
   },
   "outputs": [
    {
     "data": {
      "text/plain": [
       "[]"
      ]
     },
     "execution_count": 6,
     "metadata": {},
     "output_type": "execute_result"
    }
   ],
   "source": [
    "bug_files"
   ]
  },
  {
   "cell_type": "code",
   "execution_count": 8,
   "metadata": {},
   "outputs": [],
   "source": [
    "import pickle"
   ]
  },
  {
   "cell_type": "code",
   "execution_count": 19,
   "metadata": {},
   "outputs": [
    {
     "data": {
      "text/plain": [
       "60583"
      ]
     },
     "execution_count": 19,
     "metadata": {},
     "output_type": "execute_result"
    }
   ],
   "source": [
    "with open(r\"\\\\10.10.47.163\\Data_archive\\qiushou\\miniscope_result\\Results_206550\\20200816_102733_30fps_20200801\\ms_ts.pkl\",\"rb\") as f:\n",
    "    result = pickle.load(f)\n",
    "sum([len(i) for i in result])"
   ]
  },
  {
   "cell_type": "code",
   "execution_count": 17,
   "metadata": {
    "scrolled": true
   },
   "outputs": [
    {
     "data": {
      "text/plain": [
       "60584.0"
      ]
     },
     "execution_count": 17,
     "metadata": {},
     "output_type": "execute_result"
    }
   ],
   "source": [
    "cv2.VideoCapture(r\"\\\\10.10.47.163\\Data_archive\\qiushou\\miniscope_result\\Results_206550\\20200816_102733_30fps_20200801\\msCam_concat.avi\").get(7)"
   ]
  }
 ],
 "metadata": {
  "kernelspec": {
   "display_name": "Python 3",
   "language": "python",
   "name": "python3"
  },
  "language_info": {
   "codemirror_mode": {
    "name": "ipython",
    "version": 3
   },
   "file_extension": ".py",
   "mimetype": "text/x-python",
   "name": "python",
   "nbconvert_exporter": "python",
   "pygments_lexer": "ipython3",
   "version": "3.8.3"
  },
  "toc": {
   "base_numbering": 1,
   "nav_menu": {},
   "number_sections": true,
   "sideBar": true,
   "skip_h1_title": false,
   "title_cell": "Table of Contents",
   "title_sidebar": "Contents",
   "toc_cell": false,
   "toc_position": {},
   "toc_section_display": true,
   "toc_window_display": false
  }
 },
 "nbformat": 4,
 "nbformat_minor": 4
}
