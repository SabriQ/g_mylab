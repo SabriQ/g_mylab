{
 "cells": [
  {
   "cell_type": "markdown",
   "metadata": {},
   "source": [
    "对每个H*M*S*文件检查，是否对应的视频帧数和时间帧数相等，以时间戳为准，删除多余的帧"
   ]
  },
  {
   "cell_type": "code",
   "execution_count": 1,
   "metadata": {},
   "outputs": [],
   "source": [
    "import cv2\n",
    "import os,sys,glob\n",
    "import re\n",
    "import pandas as pd\n",
    "import numpy as np"
   ]
  },
  {
   "cell_type": "code",
   "execution_count": 13,
   "metadata": {
    "collapsed": true
   },
   "outputs": [
    {
     "data": {
      "text/plain": [
       "['D:\\\\miniscope\\\\20200721\\\\201033\\\\H20_M11_S51',\n",
       " 'D:\\\\miniscope\\\\20200721\\\\201033\\\\H20_M18_S11',\n",
       " 'D:\\\\miniscope\\\\20200721\\\\201034\\\\H19_M15_S49',\n",
       " 'D:\\\\miniscope\\\\20200721\\\\201034\\\\H19_M27_S16',\n",
       " 'D:\\\\miniscope\\\\20200721\\\\201034\\\\H19_M57_S51',\n",
       " 'D:\\\\miniscope\\\\20200721\\\\201034\\\\H19_M5_S39',\n",
       " 'D:\\\\miniscope\\\\20200721\\\\201037\\\\H20_M41_S1',\n",
       " 'D:\\\\miniscope\\\\20200721\\\\201037\\\\H20_M47_S19',\n",
       " 'D:\\\\miniscope\\\\20200721\\\\2020061\\\\H18_M33_S15',\n",
       " 'D:\\\\miniscope\\\\20200721\\\\2020061\\\\H18_M38_S55',\n",
       " 'D:\\\\miniscope\\\\20200721\\\\206534\\\\H21_M25_S14',\n",
       " 'D:\\\\miniscope\\\\20200721\\\\206534\\\\H21_M31_S29',\n",
       " 'D:\\\\miniscope\\\\20200721\\\\206548\\\\H15_M45_S45',\n",
       " 'D:\\\\miniscope\\\\20200721\\\\206548\\\\H15_M53_S23',\n",
       " 'D:\\\\miniscope\\\\20200721\\\\206548\\\\H15_M58_S23',\n",
       " 'D:\\\\miniscope\\\\20200721\\\\206548\\\\H16_M3_S24',\n",
       " 'D:\\\\miniscope\\\\20200721\\\\206550\\\\H17_M0_S39',\n",
       " 'D:\\\\miniscope\\\\20200721\\\\206550\\\\H17_M6_S53',\n",
       " 'D:\\\\miniscope\\\\20200721\\\\206551\\\\H15_M3_S41',\n",
       " 'D:\\\\miniscope\\\\20200721\\\\206551\\\\H15_M9_S49',\n",
       " 'D:\\\\miniscope\\\\20200721\\\\206552\\\\H16_M19_S38',\n",
       " 'D:\\\\miniscope\\\\20200721\\\\206552\\\\H16_M25_S44',\n",
       " 'D:\\\\miniscope\\\\20200721\\\\206553\\\\H14_M15_S37',\n",
       " 'D:\\\\miniscope\\\\20200721\\\\206553\\\\H14_M21_S50',\n",
       " 'D:\\\\miniscope\\\\20200722\\\\201033\\\\H14_M37_S8',\n",
       " 'D:\\\\miniscope\\\\20200722\\\\201033\\\\H14_M43_S58',\n",
       " 'D:\\\\miniscope\\\\20200722\\\\201033\\\\H14_M54_S2',\n",
       " 'D:\\\\miniscope\\\\20200722\\\\201034\\\\H13_M15_S4',\n",
       " 'D:\\\\miniscope\\\\20200722\\\\201034\\\\H13_M21_S12',\n",
       " 'D:\\\\miniscope\\\\20200722\\\\201037\\\\H10_M56_S40',\n",
       " 'D:\\\\miniscope\\\\20200722\\\\201037\\\\H11_M2_S36',\n",
       " 'D:\\\\miniscope\\\\20200722\\\\2020061\\\\H12_M41_S53',\n",
       " 'D:\\\\miniscope\\\\20200722\\\\2020061\\\\H12_M48_S0',\n",
       " 'D:\\\\miniscope\\\\20200722\\\\206534\\\\H14_M2_S3',\n",
       " 'D:\\\\miniscope\\\\20200722\\\\206534\\\\H14_M8_S15',\n",
       " 'D:\\\\miniscope\\\\20200722\\\\206548\\\\H16_M54_S23',\n",
       " 'D:\\\\miniscope\\\\20200722\\\\206548\\\\H17_M0_S15',\n",
       " 'D:\\\\miniscope\\\\20200722\\\\206550\\\\H10_M20_S18',\n",
       " 'D:\\\\miniscope\\\\20200722\\\\206550\\\\H10_M31_S9',\n",
       " 'D:\\\\miniscope\\\\20200722\\\\206551\\\\H17_M24_S50',\n",
       " 'D:\\\\miniscope\\\\20200722\\\\206551\\\\H17_M30_S46',\n",
       " 'D:\\\\miniscope\\\\20200722\\\\206552\\\\H16_M2_S45',\n",
       " 'D:\\\\miniscope\\\\20200722\\\\206552\\\\H16_M8_S43',\n",
       " 'D:\\\\miniscope\\\\20200722\\\\206553\\\\H15_M31_S23',\n",
       " 'D:\\\\miniscope\\\\20200722\\\\206553\\\\H15_M37_S35',\n",
       " 'D:\\\\miniscope\\\\20200723\\\\201033\\\\H13_M38_S20',\n",
       " 'D:\\\\miniscope\\\\20200723\\\\201033\\\\H13_M44_S18',\n",
       " 'D:\\\\miniscope\\\\20200723\\\\201034\\\\H14_M14_S14',\n",
       " 'D:\\\\miniscope\\\\20200723\\\\201034\\\\H14_M20_S0',\n",
       " 'D:\\\\miniscope\\\\20200723\\\\201037\\\\H11_M22_S30',\n",
       " 'D:\\\\miniscope\\\\20200723\\\\201037\\\\H11_M29_S51',\n",
       " 'D:\\\\miniscope\\\\20200723\\\\201037\\\\H11_M34_S51',\n",
       " 'D:\\\\miniscope\\\\20200723\\\\201037\\\\H11_M39_S52',\n",
       " 'D:\\\\miniscope\\\\20200723\\\\2020061\\\\H12_M16_S13',\n",
       " 'D:\\\\miniscope\\\\20200723\\\\2020061\\\\H12_M9_S56',\n",
       " 'D:\\\\miniscope\\\\20200723\\\\206534\\\\H13_M0_S34',\n",
       " 'D:\\\\miniscope\\\\20200723\\\\206534\\\\H13_M7_S26',\n",
       " 'D:\\\\miniscope\\\\20200723\\\\206548\\\\H19_M54_S5',\n",
       " 'D:\\\\miniscope\\\\20200723\\\\206548\\\\H19_M59_S40',\n",
       " 'D:\\\\miniscope\\\\20200723\\\\206548\\\\H20_M18_S24',\n",
       " 'D:\\\\miniscope\\\\20200723\\\\206550\\\\H10_M31_S45',\n",
       " 'D:\\\\miniscope\\\\20200723\\\\206550\\\\H10_M38_S9',\n",
       " 'D:\\\\miniscope\\\\20200723\\\\206551\\\\H16_M10_S50',\n",
       " 'D:\\\\miniscope\\\\20200723\\\\206551\\\\H16_M16_S30',\n",
       " 'D:\\\\miniscope\\\\20200723\\\\206551\\\\H16_M21_S31',\n",
       " 'D:\\\\miniscope\\\\20200723\\\\206552\\\\H16_M45_S10',\n",
       " 'D:\\\\miniscope\\\\20200723\\\\206552\\\\H16_M52_S20',\n",
       " 'D:\\\\miniscope\\\\20200723\\\\206552\\\\H17_M1_S36',\n",
       " 'D:\\\\miniscope\\\\20200723\\\\206552\\\\H19_M22_S34',\n",
       " 'D:\\\\miniscope\\\\20200723\\\\206552\\\\H19_M29_S23',\n",
       " 'D:\\\\miniscope\\\\20200723\\\\206553\\\\H15_M23_S25',\n",
       " 'D:\\\\miniscope\\\\20200723\\\\206553\\\\H15_M29_S24',\n",
       " 'D:\\\\miniscope\\\\20200724\\\\201033\\\\H16_M45_S57',\n",
       " 'D:\\\\miniscope\\\\20200724\\\\201033\\\\H16_M51_S53',\n",
       " 'D:\\\\miniscope\\\\20200724\\\\201033\\\\H16_M56_S53',\n",
       " 'D:\\\\miniscope\\\\20200724\\\\201034\\\\H14_M20_S9',\n",
       " 'D:\\\\miniscope\\\\20200724\\\\201034\\\\H14_M25_S49',\n",
       " 'D:\\\\miniscope\\\\20200724\\\\201037\\\\H17_M16_S12',\n",
       " 'D:\\\\miniscope\\\\20200724\\\\201037\\\\H17_M22_S11',\n",
       " 'D:\\\\miniscope\\\\20200724\\\\2020061\\\\H16_M14_S46',\n",
       " 'D:\\\\miniscope\\\\20200724\\\\2020061\\\\H16_M9_S11',\n",
       " 'D:\\\\miniscope\\\\20200724\\\\206534\\\\H14_M52_S0',\n",
       " 'D:\\\\miniscope\\\\20200724\\\\206534\\\\H15_M2_S14',\n",
       " 'D:\\\\miniscope\\\\20200724\\\\206534\\\\H15_M7_S15',\n",
       " 'D:\\\\miniscope\\\\20200724\\\\206548\\\\H13_M49_S25',\n",
       " 'D:\\\\miniscope\\\\20200724\\\\206548\\\\H13_M55_S15',\n",
       " 'D:\\\\miniscope\\\\20200724\\\\206550\\\\H15_M35_S17',\n",
       " 'D:\\\\miniscope\\\\20200724\\\\206550\\\\H15_M41_S40',\n",
       " 'D:\\\\miniscope\\\\20200724\\\\206551\\\\H13_M20_S37',\n",
       " 'D:\\\\miniscope\\\\20200724\\\\206551\\\\H13_M26_S37',\n",
       " 'D:\\\\miniscope\\\\20200724\\\\206552\\\\H11_M12_S24',\n",
       " 'D:\\\\miniscope\\\\20200724\\\\206552\\\\H11_M18_S59',\n",
       " 'D:\\\\miniscope\\\\20200724\\\\206553\\\\H12_M47_S3',\n",
       " 'D:\\\\miniscope\\\\20200724\\\\206553\\\\H12_M53_S59']"
      ]
     },
     "execution_count": 13,
     "metadata": {},
     "output_type": "execute_result"
    }
   ],
   "source": [
    "HMSfilepathes = glob.glob(r\"D:\\miniscope\\2020072*\\*\\H*\")\n",
    "HMSfilepathes = [i for i in HMSfilepathes if \"20200720\" not in i]\n",
    "HMSfilepathes"
   ]
  },
  {
   "cell_type": "code",
   "execution_count": 14,
   "metadata": {},
   "outputs": [],
   "source": [
    "def sort_key(s):\n",
    "    \"\"\"\n",
    "    fit for video recorded by miniscope.exe\n",
    "    sort fixed pattern: YYYYMMDD/H*M*S*/msCam*.avi\n",
    "    \"\"\"\n",
    "    if s:\n",
    "        try:\n",
    "            ms = re.findall('msCam(\\d+)',s)[0]\n",
    "        except:\n",
    "            ms = -1\n",
    "        return [int(ms)]\n",
    "def len_of_ts(tsFile):\n",
    "    datatemp=pd.read_csv(tsFile[0],sep = \"\\t\", header = 0)\n",
    "    if np.abs(datatemp['sysClock'][0])>datatemp['sysClock'][1]:\n",
    "        value = datatemp['sysClock'][1]-13 # 用第2帧的时间减去13，13是大约的一个值\n",
    "        if value < 0:\n",
    "            datatemp['sysClock'][0]=0\n",
    "        else:\n",
    "            datatemp['sysClock'][0]=value\n",
    "\n",
    "    ts = datatemp['sysClock'].values\n",
    "    \n",
    "    return len(ts),ts\n",
    "\n",
    "def len_of_ms(msFileList):\n",
    "    lens=[]\n",
    "    for msFile in msFileList:\n",
    "        lens.append(int(cv2.VideoCapture(msFile).get(7)))\n",
    "    return sum(lens)"
   ]
  },
  {
   "cell_type": "code",
   "execution_count": 20,
   "metadata": {
    "collapsed": true
   },
   "outputs": [
    {
     "name": "stdout",
     "output_type": "stream",
     "text": [
      "D:\\miniscope\\20200721\\201033\\H20_M11_S51\n",
      "D:\\miniscope\\20200721\\201033\\H20_M18_S11\n",
      "D:\\miniscope\\20200721\\201034\\H19_M15_S49\n",
      "D:\\miniscope\\20200721\\201034\\H19_M27_S16\n",
      "D:\\miniscope\\20200721\\201034\\H19_M57_S51\n",
      "D:\\miniscope\\20200721\\201034\\H19_M5_S39\n",
      "D:\\miniscope\\20200721\\201037\\H20_M41_S1\n",
      "D:\\miniscope\\20200721\\201037\\H20_M47_S19\n",
      "D:\\miniscope\\20200721\\2020061\\H18_M33_S15\n",
      "D:\\miniscope\\20200721\\2020061\\H18_M38_S55\n",
      "D:\\miniscope\\20200721\\206534\\H21_M25_S14\n",
      "D:\\miniscope\\20200721\\206534\\H21_M31_S29\n",
      "D:\\miniscope\\20200721\\206548\\H15_M45_S45\n",
      "D:\\miniscope\\20200721\\206548\\H15_M53_S23\n",
      "D:\\miniscope\\20200721\\206548\\H15_M58_S23\n",
      "D:\\miniscope\\20200721\\206548\\H16_M3_S24\n",
      "D:\\miniscope\\20200721\\206550\\H17_M0_S39\n",
      "D:\\miniscope\\20200721\\206550\\H17_M6_S53\n",
      "D:\\miniscope\\20200721\\206551\\H15_M3_S41\n",
      "D:\\miniscope\\20200721\\206551\\H15_M9_S49\n",
      "D:\\miniscope\\20200721\\206552\\H16_M19_S38\n",
      "D:\\miniscope\\20200721\\206552\\H16_M25_S44\n",
      "D:\\miniscope\\20200721\\206553\\H14_M15_S37\n",
      "D:\\miniscope\\20200721\\206553\\H14_M21_S50\n",
      "D:\\miniscope\\20200722\\201033\\H14_M37_S8\n",
      "D:\\miniscope\\20200722\\201033\\H14_M43_S58\n",
      "D:\\miniscope\\20200722\\201033\\H14_M54_S2\n",
      "D:\\miniscope\\20200722\\201034\\H13_M15_S4\n",
      "D:\\miniscope\\20200722\\201034\\H13_M21_S12\n",
      "D:\\miniscope\\20200722\\201037\\H10_M56_S40\n",
      "D:\\miniscope\\20200722\\201037\\H11_M2_S36\n",
      "D:\\miniscope\\20200722\\2020061\\H12_M41_S53\n",
      "D:\\miniscope\\20200722\\2020061\\H12_M48_S0\n",
      "D:\\miniscope\\20200722\\206534\\H14_M2_S3\n",
      "D:\\miniscope\\20200722\\206534\\H14_M8_S15\n",
      "D:\\miniscope\\20200722\\206548\\H16_M54_S23\n",
      "D:\\miniscope\\20200722\\206548\\H17_M0_S15\n",
      "D:\\miniscope\\20200722\\206550\\H10_M20_S18\n",
      "D:\\miniscope\\20200722\\206550\\H10_M31_S9\n",
      "D:\\miniscope\\20200722\\206551\\H17_M24_S50\n",
      "D:\\miniscope\\20200722\\206551\\H17_M30_S46\n",
      "D:\\miniscope\\20200722\\206552\\H16_M2_S45\n",
      "D:\\miniscope\\20200722\\206552\\H16_M8_S43\n",
      "D:\\miniscope\\20200722\\206553\\H15_M31_S23\n",
      "D:\\miniscope\\20200722\\206553\\H15_M37_S35\n",
      "D:\\miniscope\\20200723\\201033\\H13_M38_S20\n",
      "D:\\miniscope\\20200723\\201033\\H13_M44_S18\n",
      "D:\\miniscope\\20200723\\201034\\H14_M14_S14\n",
      "D:\\miniscope\\20200723\\201034\\H14_M20_S0\n",
      "D:\\miniscope\\20200723\\201037\\H11_M22_S30\n",
      "D:\\miniscope\\20200723\\201037\\H11_M29_S51\n",
      "D:\\miniscope\\20200723\\201037\\H11_M34_S51\n",
      "D:\\miniscope\\20200723\\201037\\H11_M39_S52\n",
      "D:\\miniscope\\20200723\\2020061\\H12_M16_S13\n",
      "D:\\miniscope\\20200723\\2020061\\H12_M9_S56\n",
      "D:\\miniscope\\20200723\\206534\\H13_M0_S34\n",
      "D:\\miniscope\\20200723\\206534\\H13_M7_S26\n",
      "D:\\miniscope\\20200723\\206548\\H19_M54_S5\n",
      "D:\\miniscope\\20200723\\206548\\H19_M59_S40\n",
      "D:\\miniscope\\20200723\\206548\\H20_M18_S24\n",
      "D:\\miniscope\\20200723\\206550\\H10_M31_S45\n",
      "D:\\miniscope\\20200723\\206550\\H10_M38_S9\n",
      "D:\\miniscope\\20200723\\206551\\H16_M10_S50\n",
      "D:\\miniscope\\20200723\\206551\\H16_M16_S30\n",
      "D:\\miniscope\\20200723\\206551\\H16_M21_S31\n",
      "D:\\miniscope\\20200723\\206552\\H16_M45_S10\n",
      "D:\\miniscope\\20200723\\206552\\H16_M52_S20\n",
      "D:\\miniscope\\20200723\\206552\\H17_M1_S36\n",
      "D:\\miniscope\\20200723\\206552\\H19_M22_S34\n",
      "D:\\miniscope\\20200723\\206552\\H19_M29_S23\n",
      "D:\\miniscope\\20200723\\206553\\H15_M23_S25\n",
      "D:\\miniscope\\20200723\\206553\\H15_M29_S24\n",
      "D:\\miniscope\\20200724\\201033\\H16_M45_S57\n",
      "D:\\miniscope\\20200724\\201033\\H16_M51_S53\n",
      "D:\\miniscope\\20200724\\201033\\H16_M56_S53\n",
      "D:\\miniscope\\20200724\\201034\\H14_M20_S9\n",
      "D:\\miniscope\\20200724\\201034\\H14_M25_S49\n",
      "D:\\miniscope\\20200724\\201037\\H17_M16_S12\n",
      "D:\\miniscope\\20200724\\201037\\H17_M22_S11\n",
      "D:\\miniscope\\20200724\\2020061\\H16_M14_S46\n",
      "D:\\miniscope\\20200724\\2020061\\H16_M9_S11\n",
      "D:\\miniscope\\20200724\\206534\\H14_M52_S0\n",
      "D:\\miniscope\\20200724\\206534\\H15_M2_S14\n",
      "D:\\miniscope\\20200724\\206534\\H15_M7_S15\n",
      "D:\\miniscope\\20200724\\206548\\H13_M49_S25\n",
      "D:\\miniscope\\20200724\\206548\\H13_M55_S15\n",
      "D:\\miniscope\\20200724\\206550\\H15_M35_S17\n",
      "D:\\miniscope\\20200724\\206550\\H15_M41_S40\n",
      "D:\\miniscope\\20200724\\206551\\H13_M20_S37\n",
      "D:\\miniscope\\20200724\\206551\\H13_M26_S37\n",
      "D:\\miniscope\\20200724\\206552\\H11_M12_S24\n",
      "D:\\miniscope\\20200724\\206552\\H11_M18_S59\n",
      "D:\\miniscope\\20200724\\206553\\H12_M47_S3\n",
      "D:\\miniscope\\20200724\\206553\\H12_M53_S59\n"
     ]
    }
   ],
   "source": [
    "bug_files=[]\n",
    "for file in HMSfilepathes:\n",
    "    print(file)\n",
    "    msFileList = glob.glob(os.path.join(file,\"msCam*.avi\"))\n",
    "    msFileList.sort(key=sort_key)\n",
    "    tsFile = glob.glob(os.path.join(file,\"timestamp.dat\"))\n",
    "    ms_lens=len_of_ms(msFileList)\n",
    "    ts_lens=len_of_ts(tsFile)\n",
    "    if ms_lens!=ts_lens[0]:\n",
    "        bug_files.append((file,ms_lens,ts_lens))\n",
    "    else:\n",
    "        pass\n"
   ]
  },
  {
   "cell_type": "code",
   "execution_count": 23,
   "metadata": {
    "scrolled": true
   },
   "outputs": [
    {
     "data": {
      "text/plain": [
       "[('D:\\\\miniscope\\\\20200722\\\\201033\\\\H14_M43_S58',\n",
       "  9008,\n",
       "  (8980,\n",
       "   array([    12,     26,     48, ..., 299018, 299052, 299091], dtype=int64))),\n",
       " ('D:\\\\miniscope\\\\20200723\\\\206548\\\\H20_M18_S24',\n",
       "  1000,\n",
       "  (1692, array([   12,    23,    51, ..., 56247, 56280, 56313], dtype=int64)))]"
      ]
     },
     "execution_count": 23,
     "metadata": {},
     "output_type": "execute_result"
    }
   ],
   "source": [
    "bug_files"
   ]
  },
  {
   "cell_type": "code",
   "execution_count": 24,
   "metadata": {
    "scrolled": true
   },
   "outputs": [
    {
     "data": {
      "text/plain": [
       "8.0"
      ]
     },
     "execution_count": 24,
     "metadata": {},
     "output_type": "execute_result"
    }
   ],
   "source": [
    "cv2.VideoCapture(r\"D:\\miniscope\\20200722\\201033\\H14_M43_S58\\msCam10.avi\").get(7)"
   ]
  }
 ],
 "metadata": {
  "kernelspec": {
   "display_name": "Python 3",
   "language": "python",
   "name": "python3"
  },
  "language_info": {
   "codemirror_mode": {
    "name": "ipython",
    "version": 3
   },
   "file_extension": ".py",
   "mimetype": "text/x-python",
   "name": "python",
   "nbconvert_exporter": "python",
   "pygments_lexer": "ipython3",
   "version": "3.8.3"
  },
  "toc": {
   "base_numbering": 1,
   "nav_menu": {},
   "number_sections": true,
   "sideBar": true,
   "skip_h1_title": false,
   "title_cell": "Table of Contents",
   "title_sidebar": "Contents",
   "toc_cell": false,
   "toc_position": {},
   "toc_section_display": true,
   "toc_window_display": false
  }
 },
 "nbformat": 4,
 "nbformat_minor": 4
}
