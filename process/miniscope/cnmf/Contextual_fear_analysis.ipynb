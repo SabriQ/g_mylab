{
 "cells": [
  {
   "cell_type": "markdown",
   "metadata": {},
   "source": [
    "<h1 style=\"text-align:center\">Contextual fear miniscope analysis pipeline</h1>\n",
    "\n",
    "1. load ms.mat, load ms_ts, 对比ms.mat 和 ms_ts的帧数是否一致\n"
   ]
  },
  {
   "cell_type": "code",
   "execution_count": 5,
   "metadata": {},
   "outputs": [],
   "source": [
    "from mylab.process.miniscope.Mfunctions import load_mat,load_pkl\n",
    "import os,sys,glob"
   ]
  },
  {
   "cell_type": "code",
   "execution_count": 6,
   "metadata": {},
   "outputs": [],
   "source": [
    "wd = r\"\\\\10.10.46.135\\Lab_Members\\XuChun\\Lab Projects\\01_Intra Hippocampus\\Miniscope_CFC\\Results_191082\\20191025_161452_all\"\n",
    "ms_mat_path = os.path.join(wd,\"ms.mat\")\n",
    "ms_ts_path = os.path.join(wd,\"ms_ts.pkl\")"
   ]
  },
  {
   "cell_type": "code",
   "execution_count": 9,
   "metadata": {},
   "outputs": [
    {
     "name": "stdout",
     "output_type": "stream",
     "text": [
      "result is loaded\n"
     ]
    }
   ],
   "source": [
    "result = load_mat(ms_mat_path)\n",
    "ms_ts = load_pkl(ms_ts_path)\n",
    "sigraw_length = result[\"ms\"][\"sigraw\"].shape[0]\n",
    "ms_ts_length = sum([len(i) for i in ms_ts])\n",
    "if  sigraw_length!= ms_ts_length:\n",
    "    "
   ]
  },
  {
   "cell_type": "code",
   "execution_count": 13,
   "metadata": {},
   "outputs": [
    {
     "data": {
      "text/plain": [
       "56865"
      ]
     },
     "execution_count": 13,
     "metadata": {},
     "output_type": "execute_result"
    }
   ],
   "source": []
  },
  {
   "cell_type": "code",
   "execution_count": 12,
   "metadata": {},
   "outputs": [
    {
     "name": "stdout",
     "output_type": "stream",
     "text": [
      "result is loaded\n"
     ]
    },
    {
     "data": {
      "text/plain": [
       "56857"
      ]
     },
     "execution_count": 12,
     "metadata": {},
     "output_type": "execute_result"
    }
   ],
   "source": [
    "ms_ts = load_pkl(ms_ts_path)\n"
   ]
  }
 ],
 "metadata": {
  "kernelspec": {
   "display_name": "Python 3",
   "language": "python",
   "name": "python3"
  },
  "language_info": {
   "codemirror_mode": {
    "name": "ipython",
    "version": 3
   },
   "file_extension": ".py",
   "mimetype": "text/x-python",
   "name": "python",
   "nbconvert_exporter": "python",
   "pygments_lexer": "ipython3",
   "version": "3.8.3"
  },
  "toc": {
   "base_numbering": 1,
   "nav_menu": {},
   "number_sections": true,
   "sideBar": true,
   "skip_h1_title": false,
   "title_cell": "Table of Contents",
   "title_sidebar": "Contents",
   "toc_cell": false,
   "toc_position": {},
   "toc_section_display": true,
   "toc_window_display": false
  }
 },
 "nbformat": 4,
 "nbformat_minor": 4
}
