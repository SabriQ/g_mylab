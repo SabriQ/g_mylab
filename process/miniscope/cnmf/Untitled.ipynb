{
 "cells": [
  {
   "cell_type": "code",
   "execution_count": 1,
   "metadata": {},
   "outputs": [],
   "source": [
    "from ms_pkl2mat import *"
   ]
  },
  {
   "cell_type": "code",
   "execution_count": 3,
   "metadata": {},
   "outputs": [],
   "source": [
    "import os"
   ]
  },
  {
   "cell_type": "code",
   "execution_count": 4,
   "metadata": {},
   "outputs": [
    {
     "data": {
      "text/plain": [
       "True"
      ]
     },
     "execution_count": 4,
     "metadata": {},
     "output_type": "execute_result"
    }
   ],
   "source": [
    "os.path.exists(r\"\\\\10.10.46.135\\share\\zhangna\\4_Miniscope\\miniscope_result\\206534\\ms_ts.mat\")"
   ]
  },
  {
   "cell_type": "code",
   "execution_count": 6,
   "metadata": {},
   "outputs": [
    {
     "data": {
      "text/plain": [
       "array([array([     8,     17,     46, ..., 229926, 229959, 229992], dtype=int64),\n",
       "       array([     8,     21,     54, ..., 229934, 229968, 230002], dtype=int64),\n",
       "       array([     9,     19,     30, ..., 229967, 230000, 230034], dtype=int64),\n",
       "       array([     8,     20,     55, ..., 229798, 229833, 229866], dtype=int64),\n",
       "       array([     8,     21,     56, ..., 229800, 229832, 229865], dtype=int64),\n",
       "       array([     8,     22,     57, ..., 229834, 229867, 229899], dtype=int64),\n",
       "       array([     8,     18,     26, ..., 229582, 229615, 229648], dtype=int64),\n",
       "       array([    12,     22,     31, ..., 229539, 229572, 229606], dtype=int64),\n",
       "       array([     8,     22,     55, ..., 229813, 229847, 229880], dtype=int64),\n",
       "       array([     9,     22,     56, ..., 229801, 229834, 229867], dtype=int64),\n",
       "       array([     8,     23,     56, ..., 229813, 229846, 229879], dtype=int64),\n",
       "       array([     8,     16,     24, ..., 229803, 229819, 229837], dtype=int64),\n",
       "       array([     8,     16,     38, ..., 409780, 409813, 409846], dtype=int64),\n",
       "       array([     8,     24,     57, ..., 229899, 229932, 229966], dtype=int64),\n",
       "       array([     8,     22,     55, ..., 229898, 229930, 229965], dtype=int64),\n",
       "       array([     9,     18,     43, ..., 229986, 230019, 230052], dtype=int64)],\n",
       "      dtype=object)"
      ]
     },
     "execution_count": 6,
     "metadata": {},
     "output_type": "execute_result"
    }
   ],
   "source": [
    "ms_ts = load_mat(r\"\\\\10.10.46.135\\share\\zhangna\\4_Miniscope\\miniscope_result\\206534\\ms_ts.mat\")\n",
    "ms_ts[\"ms_ts\"]"
   ]
  }
 ],
 "metadata": {
  "kernelspec": {
   "display_name": "Python 3",
   "language": "python",
   "name": "python3"
  },
  "language_info": {
   "codemirror_mode": {
    "name": "ipython",
    "version": 3
   },
   "file_extension": ".py",
   "mimetype": "text/x-python",
   "name": "python",
   "nbconvert_exporter": "python",
   "pygments_lexer": "ipython3",
   "version": "3.7.6"
  },
  "toc": {
   "base_numbering": 1,
   "nav_menu": {},
   "number_sections": true,
   "sideBar": true,
   "skip_h1_title": false,
   "title_cell": "Table of Contents",
   "title_sidebar": "Contents",
   "toc_cell": false,
   "toc_position": {},
   "toc_section_display": true,
   "toc_window_display": false
  }
 },
 "nbformat": 4,
 "nbformat_minor": 4
}
