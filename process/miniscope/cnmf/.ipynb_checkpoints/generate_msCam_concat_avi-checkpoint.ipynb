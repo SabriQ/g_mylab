{
 "cells": [
  {
   "cell_type": "code",
   "execution_count": 1,
   "metadata": {},
   "outputs": [],
   "source": [
    "import cv2\n",
    "import os,sys,glob\n",
    "import re\n",
    "\n",
    "import pandas as pd\n",
    "import numpy as np\n",
    "from fun_1_glob_crop_downsample_concatenate import index_videos,crop_downsample_concatenate"
   ]
  },
  {
   "cell_type": "code",
   "execution_count": 11,
   "metadata": {},
   "outputs": [
    {
     "data": {
      "text/plain": [
       "['V:\\\\miniscope\\\\miniscope_QS\\\\20200606\\\\202016']"
      ]
     },
     "execution_count": 11,
     "metadata": {},
     "output_type": "execute_result"
    }
   ],
   "source": [
    "concatenate_files = glob.glob(r\"V:\\miniscope\\miniscope_QS\\20200606\\202016\")\n",
    "concatenate_files"
   ]
  },
  {
   "cell_type": "code",
   "execution_count": 13,
   "metadata": {
    "scrolled": true
   },
   "outputs": [
    {
     "name": "stdout",
     "output_type": "stream",
     "text": [
      "20200606 202016\n",
      "\\\\10.10.47.163\\Data_archive\\qiushou\\miniscope_result\\Results_202016\\20200820_182907_30fps_20200606\\ms_ts.pkl\n",
      "Attention: concatenated video 0frames and timestamps 53452frames have different frames\n",
      "concatenated timestamp of miniscope_video is located at \\\\10.10.47.163\\Data_archive\\qiushou\\miniscope_result\\Results_202016\\20200820_182907_30fps_20200606\\ms_ts.pkl\n",
      "done\n"
     ]
    }
   ],
   "source": [
    "bug_msFileList = batch_concatenate(concatenate_files=concatenate_files\n",
    "                  ,rawdataDir=r\"V:\\miniscope\\miniscope_QS\"\n",
    "                  ,resultDir=r\"\\\\10.10.47.163\\Data_archive\\qiushou\\miniscope_result\"\n",
    "                  ,spatial_downsampling=2\n",
    "                  ,temporal_downsampling=1\n",
    "                  ,video_process=False)"
   ]
  },
  {
   "cell_type": "code",
   "execution_count": 8,
   "metadata": {},
   "outputs": [
    {
     "data": {
      "text/plain": [
       "[('202016', '20200606')]"
      ]
     },
     "execution_count": 8,
     "metadata": {},
     "output_type": "execute_result"
    }
   ],
   "source": [
    "bug_msFileList"
   ]
  },
  {
   "cell_type": "code",
   "execution_count": 4,
   "metadata": {
    "code_folding": []
   },
   "outputs": [],
   "source": [
    "def batch_concatenate(concatenate_files\n",
    "                      ,rawdataDir\n",
    "                      ,resultDir\n",
    "                      ,spatial_downsampling=2\n",
    "                      ,temporal_downsampling=3\n",
    "                     ,video_process=True):\n",
    "    bug_msFileList=[]\n",
    "    for file in concatenate_files:\n",
    "        date = re.findall('\\d{8}',file)[0]\n",
    "        mouse_id = re.findall('\\d{8}\\\\\\\\(\\d+)',file)[0]\n",
    "        print(date,mouse_id)\n",
    "        msFileList,tsFileList = index_videos(animal_id=mouse_id\n",
    "                                             ,date=date\n",
    "                                             ,recorded_method=\"miniscope\"\n",
    "                                             ,rawdataDir=rawdataDir)\n",
    "#         print(tsFileList)\n",
    "        try:\n",
    "            crop_downsample_concatenate(animal_id=mouse_id\n",
    "                                        ,msFileList=msFileList\n",
    "                                        ,tsFileList=tsFileList\n",
    "                                        ,note=\"_30fps_\"+date\n",
    "                                        ,spatial_downsampling=spatial_downsampling\n",
    "                                        ,temporal_downsampling=temporal_downsampling\n",
    "                                        ,resultDir=resultDir\n",
    "                                        ,video_process=video_process)\n",
    "            print(\"done\")\n",
    "        except Exception as e:\n",
    "            print(e)\n",
    "            bug_msFileList.append((mouse_id,date))\n",
    "            continue\n",
    "    return bug_msFileList"
   ]
  },
  {
   "cell_type": "code",
   "execution_count": null,
   "metadata": {},
   "outputs": [],
   "source": [
    "def pkl2mat2(ms_mat_path):\n",
    "    \"\"\"\n",
    "    将多个ms_ts.pkl写入到一个ms.mat中\n",
    "    考虑多天合并跑的情况\n",
    "    \"\"\"\n",
    "\n",
    "    result = load_mat(ms_mat_path)\n",
    "\n",
    "    pkl_pathes = glob.glob(os.path.join(os.path.dirname(ms_mat_path),\"*\\ms_ts.pkl\"))\n",
    "\n",
    "    mat_path = os.path.join(os.path.dirname(ms_mat_path),\"ms2.mat\")\n",
    "    ms_ts_all=[]\n",
    "    for pkl_path in pkl_pathes:\n",
    "        with open(pkl_path,\"rb\") as f:\n",
    "            ms_ts = pickle.load(f)\n",
    "        for temp in ms_ts:\n",
    "            ms_ts_all.append(np.array(temp))\n",
    "    result[\"ms\"][\"ms_ts\"]=np.array(ms_ts_all)\n",
    "    savemat(mat_path,result)\n",
    "    print(\"save mat %s\"%mat_path)"
   ]
  }
 ],
 "metadata": {
  "kernelspec": {
   "display_name": "Python 3",
   "language": "python",
   "name": "python3"
  },
  "language_info": {
   "codemirror_mode": {
    "name": "ipython",
    "version": 3
   },
   "file_extension": ".py",
   "mimetype": "text/x-python",
   "name": "python",
   "nbconvert_exporter": "python",
   "pygments_lexer": "ipython3",
   "version": "3.8.3"
  },
  "toc": {
   "base_numbering": 1,
   "nav_menu": {},
   "number_sections": true,
   "sideBar": true,
   "skip_h1_title": false,
   "title_cell": "Table of Contents",
   "title_sidebar": "Contents",
   "toc_cell": false,
   "toc_position": {},
   "toc_section_display": true,
   "toc_window_display": false
  }
 },
 "nbformat": 4,
 "nbformat_minor": 4
}
