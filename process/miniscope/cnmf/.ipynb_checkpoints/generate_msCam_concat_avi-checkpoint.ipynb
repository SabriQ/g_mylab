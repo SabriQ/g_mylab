{
 "cells": [
  {
   "cell_type": "code",
   "execution_count": 1,
   "metadata": {},
   "outputs": [],
   "source": [
    "import cv2\n",
    "import os,sys,glob\n",
    "import re\n",
    "import pickle\n",
    "import pandas as pd\n",
    "import numpy as np\n",
    "from fun_1_glob_crop_downsample_concatenate import index_videos,crop_downsample_concatenate"
   ]
  },
  {
   "cell_type": "code",
   "execution_count": 3,
   "metadata": {},
   "outputs": [],
   "source": [
    "dirs = glob.glob(r\"F:\\miniscope\\*\")\n"
   ]
  },
  {
   "cell_type": "code",
   "execution_count": 5,
   "metadata": {},
   "outputs": [
    {
     "data": {
      "text/plain": [
       "['F:\\\\miniscope\\\\20200801\\\\2020061',\n",
       " 'F:\\\\miniscope\\\\20200803\\\\2020061',\n",
       " 'F:\\\\miniscope\\\\20200804\\\\2020061',\n",
       " 'F:\\\\miniscope\\\\20200805\\\\2020061',\n",
       " 'F:\\\\miniscope\\\\20200806\\\\2020061',\n",
       " 'F:\\\\miniscope\\\\20200807\\\\2020061',\n",
       " 'F:\\\\miniscope\\\\20200810\\\\2020061',\n",
       " 'F:\\\\miniscope\\\\20200811\\\\2020061',\n",
       " 'F:\\\\miniscope\\\\20200812\\\\2020061',\n",
       " 'F:\\\\miniscope\\\\20200814\\\\2020061',\n",
       " 'F:\\\\miniscope\\\\20200816\\\\2020061',\n",
       " 'F:\\\\miniscope\\\\20200818\\\\2020061',\n",
       " 'F:\\\\miniscope\\\\20200819\\\\2020061',\n",
       " 'F:\\\\miniscope\\\\20200820\\\\2020061',\n",
       " 'F:\\\\miniscope\\\\20200821\\\\2020061',\n",
       " 'F:\\\\miniscope\\\\20200823\\\\2020061',\n",
       " 'F:\\\\miniscope\\\\20200824\\\\2020061',\n",
       " 'F:\\\\miniscope\\\\20200825\\\\2020061',\n",
       " 'F:\\\\miniscope\\\\20200826\\\\2020061',\n",
       " 'F:\\\\miniscope\\\\20200828\\\\2020061']"
      ]
     },
     "execution_count": 5,
     "metadata": {},
     "output_type": "execute_result"
    }
   ],
   "source": [
    "concatenate_files_1 = glob.glob(r\"F:\\miniscope\\*08*\\206551\")\n",
    "concatenate_files_2 = glob.glob(r\"F:\\miniscope\\*09*\\206551\")\n",
    "concatenate_files = concatenate_files_1 + concatenate_files_2\n",
    "concatenate_files = [concatenate_files[11]]\n",
    "concatenate_files"
   ]
  },
  {
   "cell_type": "code",
   "execution_count": 4,
   "metadata": {},
   "outputs": [
    {
     "name": "stdout",
     "output_type": "stream",
     "text": [
      "20200824 206551\n",
      "\\\\10.10.47.163\\Data_archive\\qiushou\\miniscope_result\\Results_206551\\crop_param.pkl\n",
      "Concatenating F:\\miniscope\\20200824\\206551\\H18_M10_S49\\msCam1.avi\n",
      "Concatenating F:\\miniscope\\20200824\\206551\\H18_M10_S49\\msCam2.avi\n",
      "Concatenating F:\\miniscope\\20200824\\206551\\H18_M10_S49\\msCam3.avi\n",
      "Concatenating F:\\miniscope\\20200824\\206551\\H18_M10_S49\\msCam4.avi\n",
      "Concatenating F:\\miniscope\\20200824\\206551\\H18_M10_S49\\msCam5.avi\n",
      "Concatenating F:\\miniscope\\20200824\\206551\\H18_M10_S49\\msCam6.avi\n",
      "Concatenating F:\\miniscope\\20200824\\206551\\H18_M10_S49\\msCam7.avi\n",
      "Concatenating F:\\miniscope\\20200824\\206551\\H18_M10_S49\\msCam8.avi\n",
      "Concatenating F:\\miniscope\\20200824\\206551\\H18_M10_S49\\msCam9.avi\n",
      "Concatenating F:\\miniscope\\20200824\\206551\\H18_M10_S49\\msCam10.avi\n",
      "Concatenating F:\\miniscope\\20200824\\206551\\H18_M10_S49\\msCam11.avi\n",
      "Concatenating F:\\miniscope\\20200824\\206551\\H18_M10_S49\\msCam12.avi\n",
      "Concatenating F:\\miniscope\\20200824\\206551\\H18_M10_S49\\msCam13.avi\n",
      "Concatenating F:\\miniscope\\20200824\\206551\\H18_M10_S49\\msCam14.avi\n",
      "Concatenating F:\\miniscope\\20200824\\206551\\H18_M10_S49\\msCam15.avi\n",
      "Concatenating F:\\miniscope\\20200824\\206551\\H18_M10_S49\\msCam16.avi\n",
      "Concatenating F:\\miniscope\\20200824\\206551\\H18_M10_S49\\msCam17.avi\n",
      "Concatenating F:\\miniscope\\20200824\\206551\\H18_M10_S49\\msCam18.avi\n",
      "Concatenating F:\\miniscope\\20200824\\206551\\H18_M10_S49\\msCam19.avi\n",
      "Concatenating F:\\miniscope\\20200824\\206551\\H18_M10_S49\\msCam20.avi\n",
      "Concatenating F:\\miniscope\\20200824\\206551\\H18_M10_S49\\msCam21.avi\n",
      "Concatenating F:\\miniscope\\20200824\\206551\\H18_M10_S49\\msCam22.avi\n",
      "Concatenating F:\\miniscope\\20200824\\206551\\H18_M10_S49\\msCam23.avi\n",
      "Concatenating F:\\miniscope\\20200824\\206551\\H18_M10_S49\\msCam24.avi\n",
      "Concatenating F:\\miniscope\\20200824\\206551\\H18_M10_S49\\msCam25.avi\n",
      "Concatenating F:\\miniscope\\20200824\\206551\\H18_M10_S49\\msCam26.avi\n",
      "Concatenating F:\\miniscope\\20200824\\206551\\H18_M10_S49\\msCam27.avi\n",
      "Concatenating F:\\miniscope\\20200824\\206551\\H18_M10_S49\\msCam28.avi\n",
      "Concatenating F:\\miniscope\\20200824\\206551\\H18_M10_S49\\msCam29.avi\n",
      "Concatenating F:\\miniscope\\20200824\\206551\\H18_M10_S49\\msCam30.avi\n",
      "Concatenating F:\\miniscope\\20200824\\206551\\H18_M10_S49\\msCam31.avi\n",
      "Concatenating F:\\miniscope\\20200824\\206551\\H18_M10_S49\\msCam32.avi\n",
      "Concatenating F:\\miniscope\\20200824\\206551\\H18_M10_S49\\msCam33.avi\n",
      "Concatenating F:\\miniscope\\20200824\\206551\\H18_M10_S49\\msCam34.avi\n",
      "Concatenating F:\\miniscope\\20200824\\206551\\H18_M10_S49\\msCam35.avi\n",
      "Concatenating F:\\miniscope\\20200824\\206551\\H18_M10_S49\\msCam36.avi\n",
      "Concatenating F:\\miniscope\\20200824\\206551\\H18_M10_S49\\msCam37.avi\n",
      "Concatenating F:\\miniscope\\20200824\\206551\\H18_M10_S49\\msCam38.avi\n",
      "Concatenating F:\\miniscope\\20200824\\206551\\H18_M10_S49\\msCam39.avi\n",
      "Concatenating F:\\miniscope\\20200824\\206551\\H18_M10_S49\\msCam40.avi\n",
      "Moviepy - Building video \\\\10.10.47.163\\Data_archive\\qiushou\\miniscope_result\\Results_206551\\20200923_111509_30fps_20200824\\msCam_concat.avi."
     ]
    },
    {
     "name": "stderr",
     "output_type": "stream",
     "text": [
      "t:   0%|                                                                 | 57/39946 [00:00<02:32, 260.97it/s, now=None]"
     ]
    },
    {
     "name": "stdout",
     "output_type": "stream",
     "text": [
      "\n",
      "Moviepy - Writing video \\\\10.10.47.163\\Data_archive\\qiushou\\miniscope_result\\Results_206551\\20200923_111509_30fps_20200824\\msCam_concat.avi\n",
      "\n"
     ]
    },
    {
     "name": "stderr",
     "output_type": "stream",
     "text": [
      "                                                                                                                       \r"
     ]
    },
    {
     "name": "stdout",
     "output_type": "stream",
     "text": [
      "Moviepy - Done !\n",
      "Moviepy - video ready \\\\10.10.47.163\\Data_archive\\qiushou\\miniscope_result\\Results_206551\\20200923_111509_30fps_20200824\\msCam_concat.avi\n",
      "\\\\10.10.47.163\\Data_archive\\qiushou\\miniscope_result\\Results_206551\\20200923_111509_30fps_20200824\\ms_ts.pkl\n",
      "camNum in miniscope is 0\n",
      "concatenated video and timestamps have the same frames\n",
      "concatenated timestamp of miniscope_video is located at \\\\10.10.47.163\\Data_archive\\qiushou\\miniscope_result\\Results_206551\\20200923_111509_30fps_20200824\\ms_ts.pkl\n",
      "done\n"
     ]
    }
   ],
   "source": [
    "bug_msFileList5 = batch_concatenate(concatenate_files=concatenate_files\n",
    "                  ,rawdataDir=r\"F:\\miniscope\"\n",
    "                  ,resultDir=r\"\\\\10.10.47.163\\Data_archive\\qiushou\\miniscope_result\"\n",
    "                  ,spatial_downsampling=2\n",
    "                  ,temporal_downsampling=1\n",
    "                  ,video_process=True)"
   ]
  },
  {
   "cell_type": "code",
   "execution_count": 64,
   "metadata": {},
   "outputs": [
    {
     "data": {
      "text/plain": [
       "[]"
      ]
     },
     "execution_count": 64,
     "metadata": {},
     "output_type": "execute_result"
    }
   ],
   "source": [
    "bug_msFileList5"
   ]
  },
  {
   "cell_type": "code",
   "execution_count": 23,
   "metadata": {},
   "outputs": [
    {
     "data": {
      "text/plain": [
       "[]"
      ]
     },
     "execution_count": 23,
     "metadata": {},
     "output_type": "execute_result"
    }
   ],
   "source": [
    "bug_msFileList"
   ]
  },
  {
   "cell_type": "code",
   "execution_count": 3,
   "metadata": {
    "code_folding": []
   },
   "outputs": [],
   "source": [
    "def batch_concatenate(concatenate_files\n",
    "                      ,rawdataDir\n",
    "                      ,resultDir\n",
    "                      ,spatial_downsampling=2\n",
    "                      ,temporal_downsampling=3\n",
    "                     ,video_process=True):\n",
    "    bug_msFileList=[]\n",
    "    for file in concatenate_files:\n",
    "        date = re.findall('\\d{8}',file)[0]\n",
    "        mouse_id = re.findall('\\d{8}\\\\\\\\(\\d+)',file)[0]\n",
    "        print(date,mouse_id)\n",
    "        msFileList,tsFileList = index_videos(animal_id=mouse_id\n",
    "                                             ,date=date\n",
    "                                             ,recorded_method=\"miniscope\"\n",
    "                                             ,rawdataDir=rawdataDir)\n",
    "#         print(tsFileList)\n",
    "        try:\n",
    "            crop_downsample_concatenate(animal_id=mouse_id\n",
    "                                        ,msFileList=msFileList\n",
    "                                        ,tsFileList=tsFileList\n",
    "                                        ,note=\"_30fps_\"+date\n",
    "                                        ,spatial_downsampling=spatial_downsampling\n",
    "                                        ,temporal_downsampling=temporal_downsampling\n",
    "                                        ,resultDir=resultDir\n",
    "                                        ,video_process=video_process)\n",
    "            print(\"done\")\n",
    "        except Exception as e:\n",
    "            print(e)\n",
    "            bug_msFileList.append((mouse_id,date))\n",
    "            continue\n",
    "    return bug_msFileList"
   ]
  },
  {
   "cell_type": "code",
   "execution_count": null,
   "metadata": {},
   "outputs": [],
   "source": [
    "def pkl2mat2(ms_mat_path):\n",
    "    \"\"\"\n",
    "    将多个ms_ts.pkl写入到一个ms.mat中\n",
    "    考虑多天合并跑的情况\n",
    "    \"\"\"\n",
    "\n",
    "    result = load_mat(ms_mat_path)\n",
    "\n",
    "    pkl_pathes = glob.glob(os.path.join(os.path.dirname(ms_mat_path),\"*\\ms_ts.pkl\"))\n",
    "\n",
    "    mat_path = os.path.join(os.path.dirname(ms_mat_path),\"ms2.mat\")\n",
    "    ms_ts_all=[]\n",
    "    for pkl_path in pkl_pathes:\n",
    "        with open(pkl_path,\"rb\") as f:\n",
    "            ms_ts = pickle.load(f)\n",
    "        for temp in ms_ts:\n",
    "            ms_ts_all.append(np.array(temp))\n",
    "    result[\"ms\"][\"ms_ts\"]=np.array(ms_ts_all)\n",
    "    savemat(mat_path,result)\n",
    "    print(\"save mat %s\"%mat_path)"
   ]
  }
 ],
 "metadata": {
  "kernelspec": {
   "display_name": "Python 3",
   "language": "python",
   "name": "python3"
  },
  "language_info": {
   "codemirror_mode": {
    "name": "ipython",
    "version": 3
   },
   "file_extension": ".py",
   "mimetype": "text/x-python",
   "name": "python",
   "nbconvert_exporter": "python",
   "pygments_lexer": "ipython3",
   "version": "3.8.3"
  },
  "toc": {
   "base_numbering": 1,
   "nav_menu": {},
   "number_sections": true,
   "sideBar": true,
   "skip_h1_title": false,
   "title_cell": "Table of Contents",
   "title_sidebar": "Contents",
   "toc_cell": false,
   "toc_position": {},
   "toc_section_display": true,
   "toc_window_display": false
  }
 },
 "nbformat": 4,
 "nbformat_minor": 4
}
