{
 "cells": [
  {
   "cell_type": "code",
   "execution_count": 2,
   "metadata": {},
   "outputs": [],
   "source": [
    "import cv2\n",
    "import os,sys,glob\n",
    "import re\n",
    "\n",
    "import pandas as pd\n",
    "import numpy as np\n",
    "from fun_1_glob_crop_downsample_concatenate import index_videos,crop_downsample_concatenate"
   ]
  },
  {
   "cell_type": "code",
   "execution_count": 6,
   "metadata": {},
   "outputs": [
    {
     "data": {
      "text/plain": [
       "['V:\\\\miniscope\\\\miniscope_QS\\\\20200509\\\\202016',\n",
       " 'V:\\\\miniscope\\\\miniscope_QS\\\\20200510\\\\202016',\n",
       " 'V:\\\\miniscope\\\\miniscope_QS\\\\20200511\\\\202016']"
      ]
     },
     "execution_count": 6,
     "metadata": {},
     "output_type": "execute_result"
    }
   ],
   "source": [
    "concatenate_files = glob.glob(r\"V:\\miniscope\\miniscope_QS\\202005[0|1][0|1|9]\\202016\")\n",
    "concatenate_files.pop()\n",
    "concatenate_files"
   ]
  },
  {
   "cell_type": "code",
   "execution_count": 9,
   "metadata": {
    "scrolled": true
   },
   "outputs": [
    {
     "name": "stdout",
     "output_type": "stream",
     "text": [
      "20200509 202016\n",
      "\\\\10.10.47.163\\Data_archive\\qiushou\\miniscope_result\\Results_202016\\crop_param.pkl\n",
      "Concatenating V:\\miniscope\\miniscope_QS\\20200509\\202016\\H15_M50_S34\\msCam1.avi\n",
      "Concatenating V:\\miniscope\\miniscope_QS\\20200509\\202016\\H15_M50_S34\\msCam2.avi\n",
      "Concatenating V:\\miniscope\\miniscope_QS\\20200509\\202016\\H15_M50_S34\\msCam3.avi\n",
      "Concatenating V:\\miniscope\\miniscope_QS\\20200509\\202016\\H15_M50_S34\\msCam4.avi\n",
      "Concatenating V:\\miniscope\\miniscope_QS\\20200509\\202016\\H15_M50_S34\\msCam5.avi\n",
      "Concatenating V:\\miniscope\\miniscope_QS\\20200509\\202016\\H15_M50_S34\\msCam6.avi\n",
      "Concatenating V:\\miniscope\\miniscope_QS\\20200509\\202016\\H15_M50_S34\\msCam7.avi\n",
      "Concatenating V:\\miniscope\\miniscope_QS\\20200509\\202016\\H15_M50_S34\\msCam8.avi\n",
      "Concatenating V:\\miniscope\\miniscope_QS\\20200509\\202016\\H15_M50_S34\\msCam9.avi\n",
      "Concatenating V:\\miniscope\\miniscope_QS\\20200509\\202016\\H15_M50_S34\\msCam10.avi\n",
      "Concatenating V:\\miniscope\\miniscope_QS\\20200509\\202016\\H15_M50_S34\\msCam11.avi\n",
      "Concatenating V:\\miniscope\\miniscope_QS\\20200509\\202016\\H15_M50_S34\\msCam12.avi\n",
      "Concatenating V:\\miniscope\\miniscope_QS\\20200509\\202016\\H15_M50_S34\\msCam13.avi\n",
      "Concatenating V:\\miniscope\\miniscope_QS\\20200509\\202016\\H15_M50_S34\\msCam14.avi\n",
      "Concatenating V:\\miniscope\\miniscope_QS\\20200509\\202016\\H15_M50_S34\\msCam15.avi\n",
      "Concatenating V:\\miniscope\\miniscope_QS\\20200509\\202016\\H15_M50_S34\\msCam16.avi\n",
      "Concatenating V:\\miniscope\\miniscope_QS\\20200509\\202016\\H16_M1_S12\\msCam1.avi\n",
      "Concatenating V:\\miniscope\\miniscope_QS\\20200509\\202016\\H16_M1_S12\\msCam2.avi\n",
      "Concatenating V:\\miniscope\\miniscope_QS\\20200509\\202016\\H16_M1_S12\\msCam3.avi\n",
      "Concatenating V:\\miniscope\\miniscope_QS\\20200509\\202016\\H16_M1_S12\\msCam4.avi\n",
      "Concatenating V:\\miniscope\\miniscope_QS\\20200509\\202016\\H16_M1_S12\\msCam5.avi\n",
      "Concatenating V:\\miniscope\\miniscope_QS\\20200509\\202016\\H16_M1_S12\\msCam6.avi\n",
      "Concatenating V:\\miniscope\\miniscope_QS\\20200509\\202016\\H16_M1_S12\\msCam7.avi\n",
      "Concatenating V:\\miniscope\\miniscope_QS\\20200509\\202016\\H16_M1_S12\\msCam8.avi\n",
      "Concatenating V:\\miniscope\\miniscope_QS\\20200509\\202016\\H16_M1_S12\\msCam9.avi\n",
      "Concatenating V:\\miniscope\\miniscope_QS\\20200509\\202016\\H16_M8_S26\\msCam1.avi\n",
      "Concatenating V:\\miniscope\\miniscope_QS\\20200509\\202016\\H16_M8_S26\\msCam2.avi\n",
      "Concatenating V:\\miniscope\\miniscope_QS\\20200509\\202016\\H16_M8_S26\\msCam3.avi\n",
      "Concatenating V:\\miniscope\\miniscope_QS\\20200509\\202016\\H16_M8_S26\\msCam4.avi\n",
      "Concatenating V:\\miniscope\\miniscope_QS\\20200509\\202016\\H16_M8_S26\\msCam5.avi\n",
      "Concatenating V:\\miniscope\\miniscope_QS\\20200509\\202016\\H16_M8_S26\\msCam6.avi\n",
      "Concatenating V:\\miniscope\\miniscope_QS\\20200509\\202016\\H16_M8_S26\\msCam7.avi\n",
      "Concatenating V:\\miniscope\\miniscope_QS\\20200509\\202016\\H16_M8_S26\\msCam8.avi\n",
      "Concatenating V:\\miniscope\\miniscope_QS\\20200509\\202016\\H16_M8_S26\\msCam9.avi\n",
      "Concatenating V:\\miniscope\\miniscope_QS\\20200509\\202016\\H16_M8_S26\\msCam10.avi\n",
      "Concatenating V:\\miniscope\\miniscope_QS\\20200509\\202016\\H16_M8_S26\\msCam11.avi\n",
      "Concatenating V:\\miniscope\\miniscope_QS\\20200509\\202016\\H16_M8_S26\\msCam12.avi\n",
      "Concatenating V:\\miniscope\\miniscope_QS\\20200509\\202016\\H16_M8_S26\\msCam13.avi\n",
      "Concatenating V:\\miniscope\\miniscope_QS\\20200509\\202016\\H16_M8_S26\\msCam14.avi\n",
      "Concatenating V:\\miniscope\\miniscope_QS\\20200509\\202016\\H16_M8_S26\\msCam15.avi\n",
      "Concatenating V:\\miniscope\\miniscope_QS\\20200509\\202016\\H16_M8_S26\\msCam16.avi\n",
      "Concatenating V:\\miniscope\\miniscope_QS\\20200509\\202016\\H16_M8_S26\\msCam17.avi\n",
      "Concatenating V:\\miniscope\\miniscope_QS\\20200509\\202016\\H16_M8_S26\\msCam18.avi\n",
      "Concatenating V:\\miniscope\\miniscope_QS\\20200509\\202016\\H16_M8_S26\\msCam19.avi\n",
      "Concatenating V:\\miniscope\\miniscope_QS\\20200509\\202016\\H16_M8_S26\\msCam20.avi\n",
      "Concatenating V:\\miniscope\\miniscope_QS\\20200509\\202016\\H16_M8_S26\\msCam21.avi\n",
      "Concatenating V:\\miniscope\\miniscope_QS\\20200509\\202016\\H16_M8_S26\\msCam22.avi\n",
      "Concatenating V:\\miniscope\\miniscope_QS\\20200509\\202016\\H16_M8_S26\\msCam23.avi\n",
      "Concatenating V:\\miniscope\\miniscope_QS\\20200509\\202016\\H16_M8_S26\\msCam24.avi\n",
      "Concatenating V:\\miniscope\\miniscope_QS\\20200509\\202016\\H16_M8_S26\\msCam25.avi\n",
      "Concatenating V:\\miniscope\\miniscope_QS\\20200509\\202016\\H16_M8_S26\\msCam26.avi\n",
      "Concatenating V:\\miniscope\\miniscope_QS\\20200509\\202016\\H17_M1_S38\\msCam1.avi\n",
      "Concatenating V:\\miniscope\\miniscope_QS\\20200509\\202016\\H17_M1_S38\\msCam2.avi\n",
      "Concatenating V:\\miniscope\\miniscope_QS\\20200509\\202016\\H17_M1_S38\\msCam3.avi\n",
      "Concatenating V:\\miniscope\\miniscope_QS\\20200509\\202016\\H17_M1_S38\\msCam4.avi\n",
      "Concatenating V:\\miniscope\\miniscope_QS\\20200509\\202016\\H17_M1_S38\\msCam5.avi\n",
      "Concatenating V:\\miniscope\\miniscope_QS\\20200509\\202016\\H17_M1_S38\\msCam6.avi\n",
      "Concatenating V:\\miniscope\\miniscope_QS\\20200509\\202016\\H17_M1_S38\\msCam7.avi\n",
      "Concatenating V:\\miniscope\\miniscope_QS\\20200509\\202016\\H17_M1_S38\\msCam8.avi\n",
      "Concatenating V:\\miniscope\\miniscope_QS\\20200509\\202016\\H17_M1_S38\\msCam9.avi\n",
      "Concatenating V:\\miniscope\\miniscope_QS\\20200509\\202016\\H17_M1_S38\\msCam10.avi\n",
      "Concatenating V:\\miniscope\\miniscope_QS\\20200509\\202016\\H17_M1_S38\\msCam11.avi\n",
      "Concatenating V:\\miniscope\\miniscope_QS\\20200509\\202016\\H17_M1_S38\\msCam12.avi\n",
      "Concatenating V:\\miniscope\\miniscope_QS\\20200509\\202016\\H17_M1_S38\\msCam13.avi\n",
      "Concatenating V:\\miniscope\\miniscope_QS\\20200509\\202016\\H17_M1_S38\\msCam14.avi\n",
      "Concatenating V:\\miniscope\\miniscope_QS\\20200509\\202016\\H17_M1_S38\\msCam15.avi\n",
      "Concatenating V:\\miniscope\\miniscope_QS\\20200509\\202016\\H17_M1_S38\\msCam16.avi\n",
      "Concatenating V:\\miniscope\\miniscope_QS\\20200509\\202016\\H17_M1_S38\\msCam17.avi\n",
      "Concatenating V:\\miniscope\\miniscope_QS\\20200509\\202016\\H17_M1_S38\\msCam18.avi\n",
      "Concatenating V:\\miniscope\\miniscope_QS\\20200509\\202016\\H17_M1_S38\\msCam19.avi\n",
      "Concatenating V:\\miniscope\\miniscope_QS\\20200509\\202016\\H17_M1_S38\\msCam20.avi\n",
      "Concatenating V:\\miniscope\\miniscope_QS\\20200509\\202016\\H17_M1_S38\\msCam21.avi\n",
      "Concatenating V:\\miniscope\\miniscope_QS\\20200509\\202016\\H17_M1_S38\\msCam22.avi\n",
      "Concatenating V:\\miniscope\\miniscope_QS\\20200509\\202016\\H17_M1_S38\\msCam23.avi\n",
      "Concatenating V:\\miniscope\\miniscope_QS\\20200509\\202016\\H17_M1_S38\\msCam24.avi\n",
      "Concatenating V:\\miniscope\\miniscope_QS\\20200509\\202016\\H17_M1_S38\\msCam25.avi\n",
      "Concatenating V:\\miniscope\\miniscope_QS\\20200509\\202016\\H17_M1_S38\\msCam26.avi\n",
      "Concatenating V:\\miniscope\\miniscope_QS\\20200509\\202016\\H17_M1_S38\\msCam27.avi\n",
      "Concatenating V:\\miniscope\\miniscope_QS\\20200509\\202016\\H17_M1_S38\\msCam28.avi\n",
      "Concatenating V:\\miniscope\\miniscope_QS\\20200509\\202016\\H17_M1_S38\\msCam29.avi\n",
      "Concatenating V:\\miniscope\\miniscope_QS\\20200509\\202016\\H17_M1_S38\\msCam30.avi\n",
      "Concatenating V:\\miniscope\\miniscope_QS\\20200509\\202016\\H17_M1_S38\\msCam31.avi\n",
      "Concatenating V:\\miniscope\\miniscope_QS\\20200509\\202016\\H17_M1_S38\\msCam32.avi\n",
      "Concatenating V:\\miniscope\\miniscope_QS\\20200509\\202016\\H17_M1_S38\\msCam33.avi\n",
      "Concatenating V:\\miniscope\\miniscope_QS\\20200509\\202016\\H17_M1_S38\\msCam34.avi\n",
      "Concatenating V:\\miniscope\\miniscope_QS\\20200509\\202016\\H17_M1_S38\\msCam35.avi\n",
      "Concatenating V:\\miniscope\\miniscope_QS\\20200509\\202016\\H17_M1_S38\\msCam36.avi\n",
      "Concatenating V:\\miniscope\\miniscope_QS\\20200509\\202016\\H17_M1_S38\\msCam37.avi\n",
      "Concatenating V:\\miniscope\\miniscope_QS\\20200509\\202016\\H17_M1_S38\\msCam38.avi\n",
      "Concatenating V:\\miniscope\\miniscope_QS\\20200509\\202016\\H17_M1_S38\\msCam39.avi\n",
      "Concatenating V:\\miniscope\\miniscope_QS\\20200509\\202016\\H17_M1_S38\\msCam40.avi\n",
      "Concatenating V:\\miniscope\\miniscope_QS\\20200509\\202016\\H17_M1_S38\\msCam41.avi\n",
      "Concatenating V:\\miniscope\\miniscope_QS\\20200509\\202016\\H17_M1_S38\\msCam42.avi\n",
      "Concatenating V:\\miniscope\\miniscope_QS\\20200509\\202016\\H17_M1_S38\\msCam43.avi\n",
      "Concatenating V:\\miniscope\\miniscope_QS\\20200509\\202016\\H17_M1_S38\\msCam44.avi\n",
      "Concatenating V:\\miniscope\\miniscope_QS\\20200509\\202016\\H17_M1_S38\\msCam45.avi\n",
      "Concatenating V:\\miniscope\\miniscope_QS\\20200509\\202016\\H17_M1_S38\\msCam46.avi\n",
      "Concatenating V:\\miniscope\\miniscope_QS\\20200509\\202016\\H17_M1_S38\\msCam47.avi\n",
      "Concatenating V:\\miniscope\\miniscope_QS\\20200509\\202016\\H17_M1_S38\\msCam48.avi\n",
      "Concatenating V:\\miniscope\\miniscope_QS\\20200509\\202016\\H17_M1_S38\\msCam49.avi\n",
      "Concatenating V:\\miniscope\\miniscope_QS\\20200509\\202016\\H17_M1_S38\\msCam50.avi\n",
      "Concatenating V:\\miniscope\\miniscope_QS\\20200509\\202016\\H17_M1_S38\\msCam51.avi\n",
      "Concatenating V:\\miniscope\\miniscope_QS\\20200509\\202016\\H17_M1_S38\\msCam52.avi\n",
      "Concatenating V:\\miniscope\\miniscope_QS\\20200509\\202016\\H17_M1_S38\\msCam53.avi\n",
      "Concatenating V:\\miniscope\\miniscope_QS\\20200509\\202016\\H17_M1_S38\\msCam54.avi\n"
     ]
    },
    {
     "name": "stdout",
     "output_type": "stream",
     "text": [
      "Concatenating V:\\miniscope\\miniscope_QS\\20200509\\202016\\H17_M1_S38\\msCam55.avi\n",
      "Concatenating V:\\miniscope\\miniscope_QS\\20200509\\202016\\H17_M1_S38\\msCam56.avi\n",
      "Concatenating V:\\miniscope\\miniscope_QS\\20200509\\202016\\H17_M1_S38\\msCam57.avi\n",
      "Concatenating V:\\miniscope\\miniscope_QS\\20200509\\202016\\H17_M1_S38\\msCam58.avi\n",
      "Concatenating V:\\miniscope\\miniscope_QS\\20200509\\202016\\H17_M1_S38\\msCam59.avi\n",
      "Concatenating V:\\miniscope\\miniscope_QS\\20200509\\202016\\H17_M1_S38\\msCam60.avi\n",
      "Concatenating V:\\miniscope\\miniscope_QS\\20200509\\202016\\H17_M1_S38\\msCam61.avi\n",
      "Concatenating V:\\miniscope\\miniscope_QS\\20200509\\202016\\H17_M1_S38\\msCam62.avi\n",
      "Concatenating V:\\miniscope\\miniscope_QS\\20200509\\202016\\H17_M1_S38\\msCam63.avi\n",
      "Concatenating V:\\miniscope\\miniscope_QS\\20200509\\202016\\H17_M1_S38\\msCam64.avi\n",
      "Concatenating V:\\miniscope\\miniscope_QS\\20200509\\202016\\H17_M1_S38\\msCam65.avi\n",
      "Moviepy - Building video \\\\10.10.47.163\\Data_archive\\qiushou\\miniscope_result\\Results_202016\\20200821_162937_30fps_20200509\\msCam_concat.avi.\n",
      "Moviepy - Writing video \\\\10.10.47.163\\Data_archive\\qiushou\\miniscope_result\\Results_202016\\20200821_162937_30fps_20200509\\msCam_concat.avi\n",
      "\n"
     ]
    },
    {
     "name": "stderr",
     "output_type": "stream",
     "text": [
      "                                                                                                                       \r"
     ]
    },
    {
     "name": "stdout",
     "output_type": "stream",
     "text": [
      "Moviepy - Done !\n",
      "Moviepy - video ready \\\\10.10.47.163\\Data_archive\\qiushou\\miniscope_result\\Results_202016\\20200821_162937_30fps_20200509\\msCam_concat.avi\n",
      "\\\\10.10.47.163\\Data_archive\\qiushou\\miniscope_result\\Results_202016\\20200821_162937_30fps_20200509\\ms_ts.pkl\n",
      "index out of bounds\n",
      "20200510 202016\n",
      "\\\\10.10.47.163\\Data_archive\\qiushou\\miniscope_result\\Results_202016\\crop_param.pkl\n",
      "Concatenating V:\\miniscope\\miniscope_QS\\20200510\\202016\\H11_M35_S7\\msCam1.avi\n",
      "Concatenating V:\\miniscope\\miniscope_QS\\20200510\\202016\\H11_M35_S7\\msCam2.avi\n",
      "Concatenating V:\\miniscope\\miniscope_QS\\20200510\\202016\\H11_M35_S7\\msCam3.avi\n",
      "Concatenating V:\\miniscope\\miniscope_QS\\20200510\\202016\\H11_M35_S7\\msCam4.avi\n",
      "Concatenating V:\\miniscope\\miniscope_QS\\20200510\\202016\\H11_M35_S7\\msCam5.avi\n",
      "Concatenating V:\\miniscope\\miniscope_QS\\20200510\\202016\\H11_M35_S7\\msCam6.avi\n",
      "Concatenating V:\\miniscope\\miniscope_QS\\20200510\\202016\\H11_M35_S7\\msCam7.avi\n",
      "Concatenating V:\\miniscope\\miniscope_QS\\20200510\\202016\\H11_M35_S7\\msCam8.avi\n",
      "Concatenating V:\\miniscope\\miniscope_QS\\20200510\\202016\\H11_M35_S7\\msCam9.avi\n",
      "Concatenating V:\\miniscope\\miniscope_QS\\20200510\\202016\\H11_M35_S7\\msCam10.avi\n",
      "Concatenating V:\\miniscope\\miniscope_QS\\20200510\\202016\\H11_M40_S41\\msCam1.avi\n",
      "Concatenating V:\\miniscope\\miniscope_QS\\20200510\\202016\\H11_M40_S41\\msCam2.avi\n",
      "Concatenating V:\\miniscope\\miniscope_QS\\20200510\\202016\\H11_M40_S41\\msCam3.avi\n",
      "Concatenating V:\\miniscope\\miniscope_QS\\20200510\\202016\\H11_M40_S41\\msCam4.avi\n",
      "Concatenating V:\\miniscope\\miniscope_QS\\20200510\\202016\\H11_M40_S41\\msCam5.avi\n",
      "Concatenating V:\\miniscope\\miniscope_QS\\20200510\\202016\\H11_M40_S41\\msCam6.avi\n",
      "Concatenating V:\\miniscope\\miniscope_QS\\20200510\\202016\\H11_M40_S41\\msCam7.avi\n",
      "Concatenating V:\\miniscope\\miniscope_QS\\20200510\\202016\\H11_M40_S41\\msCam8.avi\n",
      "Concatenating V:\\miniscope\\miniscope_QS\\20200510\\202016\\H11_M40_S41\\msCam9.avi\n",
      "Concatenating V:\\miniscope\\miniscope_QS\\20200510\\202016\\H11_M40_S41\\msCam10.avi\n",
      "Concatenating V:\\miniscope\\miniscope_QS\\20200510\\202016\\H11_M40_S41\\msCam11.avi\n",
      "Concatenating V:\\miniscope\\miniscope_QS\\20200510\\202016\\H11_M40_S41\\msCam12.avi\n",
      "Concatenating V:\\miniscope\\miniscope_QS\\20200510\\202016\\H11_M40_S41\\msCam13.avi\n",
      "Concatenating V:\\miniscope\\miniscope_QS\\20200510\\202016\\H11_M40_S41\\msCam14.avi\n",
      "Concatenating V:\\miniscope\\miniscope_QS\\20200510\\202016\\H11_M40_S41\\msCam15.avi\n",
      "Concatenating V:\\miniscope\\miniscope_QS\\20200510\\202016\\H11_M40_S41\\msCam16.avi\n",
      "Concatenating V:\\miniscope\\miniscope_QS\\20200510\\202016\\H11_M40_S41\\msCam17.avi\n",
      "Concatenating V:\\miniscope\\miniscope_QS\\20200510\\202016\\H11_M40_S41\\msCam18.avi\n",
      "Concatenating V:\\miniscope\\miniscope_QS\\20200510\\202016\\H11_M40_S41\\msCam19.avi\n",
      "Concatenating V:\\miniscope\\miniscope_QS\\20200510\\202016\\H11_M40_S41\\msCam20.avi\n",
      "Concatenating V:\\miniscope\\miniscope_QS\\20200510\\202016\\H11_M40_S41\\msCam21.avi\n",
      "Concatenating V:\\miniscope\\miniscope_QS\\20200510\\202016\\H11_M40_S41\\msCam22.avi\n",
      "Concatenating V:\\miniscope\\miniscope_QS\\20200510\\202016\\H11_M40_S41\\msCam23.avi\n",
      "Concatenating V:\\miniscope\\miniscope_QS\\20200510\\202016\\H11_M40_S41\\msCam24.avi\n",
      "Concatenating V:\\miniscope\\miniscope_QS\\20200510\\202016\\H11_M40_S41\\msCam25.avi\n",
      "Concatenating V:\\miniscope\\miniscope_QS\\20200510\\202016\\H11_M40_S41\\msCam26.avi\n",
      "Concatenating V:\\miniscope\\miniscope_QS\\20200510\\202016\\H11_M40_S41\\msCam27.avi\n",
      "Concatenating V:\\miniscope\\miniscope_QS\\20200510\\202016\\H11_M40_S41\\msCam28.avi\n",
      "Concatenating V:\\miniscope\\miniscope_QS\\20200510\\202016\\H11_M40_S41\\msCam29.avi\n",
      "Concatenating V:\\miniscope\\miniscope_QS\\20200510\\202016\\H11_M40_S41\\msCam30.avi\n",
      "Concatenating V:\\miniscope\\miniscope_QS\\20200510\\202016\\H11_M40_S41\\msCam31.avi\n",
      "Concatenating V:\\miniscope\\miniscope_QS\\20200510\\202016\\H11_M40_S41\\msCam32.avi\n",
      "Concatenating V:\\miniscope\\miniscope_QS\\20200510\\202016\\H11_M40_S41\\msCam33.avi\n",
      "Concatenating V:\\miniscope\\miniscope_QS\\20200510\\202016\\H11_M40_S41\\msCam34.avi\n",
      "Concatenating V:\\miniscope\\miniscope_QS\\20200510\\202016\\H11_M40_S41\\msCam35.avi\n",
      "Concatenating V:\\miniscope\\miniscope_QS\\20200510\\202016\\H11_M40_S41\\msCam36.avi\n",
      "Concatenating V:\\miniscope\\miniscope_QS\\20200510\\202016\\H11_M40_S41\\msCam37.avi\n",
      "Concatenating V:\\miniscope\\miniscope_QS\\20200510\\202016\\H11_M40_S41\\msCam38.avi\n",
      "Concatenating V:\\miniscope\\miniscope_QS\\20200510\\202016\\H11_M40_S41\\msCam39.avi\n",
      "Concatenating V:\\miniscope\\miniscope_QS\\20200510\\202016\\H11_M40_S41\\msCam40.avi\n"
     ]
    },
    {
     "name": "stderr",
     "output_type": "stream",
     "text": [
      "t:   0%|                                                                 | 23/49371 [00:00<03:37, 226.51it/s, now=None]"
     ]
    },
    {
     "name": "stdout",
     "output_type": "stream",
     "text": [
      "Concatenating V:\\miniscope\\miniscope_QS\\20200510\\202016\\H11_M40_S41\\msCam41.avi\n",
      "Moviepy - Building video \\\\10.10.47.163\\Data_archive\\qiushou\\miniscope_result\\Results_202016\\20200821_163529_30fps_20200510\\msCam_concat.avi.\n",
      "Moviepy - Writing video \\\\10.10.47.163\\Data_archive\\qiushou\\miniscope_result\\Results_202016\\20200821_163529_30fps_20200510\\msCam_concat.avi\n",
      "\n"
     ]
    },
    {
     "name": "stderr",
     "output_type": "stream",
     "text": [
      "t:  21%|████████████▋                                                 | 10133/49371 [00:30<01:57, 334.68it/s, now=None]"
     ]
    },
    {
     "ename": "KeyboardInterrupt",
     "evalue": "",
     "output_type": "error",
     "traceback": [
      "\u001b[1;31m---------------------------------------------------------------------------\u001b[0m",
      "\u001b[1;31mKeyboardInterrupt\u001b[0m                         Traceback (most recent call last)",
      "\u001b[1;32m<ipython-input-9-7c9e072a40bc>\u001b[0m in \u001b[0;36m<module>\u001b[1;34m\u001b[0m\n\u001b[1;32m----> 1\u001b[1;33m bug_msFileList = batch_concatenate(concatenate_files=concatenate_files\n\u001b[0m\u001b[0;32m      2\u001b[0m                   \u001b[1;33m,\u001b[0m\u001b[0mrawdataDir\u001b[0m\u001b[1;33m=\u001b[0m\u001b[1;34mr\"V:\\miniscope\\miniscope_QS\"\u001b[0m\u001b[1;33m\u001b[0m\u001b[1;33m\u001b[0m\u001b[0m\n\u001b[0;32m      3\u001b[0m                   \u001b[1;33m,\u001b[0m\u001b[0mresultDir\u001b[0m\u001b[1;33m=\u001b[0m\u001b[1;34mr\"\\\\10.10.47.163\\Data_archive\\qiushou\\miniscope_result\"\u001b[0m\u001b[1;33m\u001b[0m\u001b[1;33m\u001b[0m\u001b[0m\n\u001b[0;32m      4\u001b[0m                   \u001b[1;33m,\u001b[0m\u001b[0mspatial_downsampling\u001b[0m\u001b[1;33m=\u001b[0m\u001b[1;36m2\u001b[0m\u001b[1;33m\u001b[0m\u001b[1;33m\u001b[0m\u001b[0m\n\u001b[0;32m      5\u001b[0m                   \u001b[1;33m,\u001b[0m\u001b[0mtemporal_downsampling\u001b[0m\u001b[1;33m=\u001b[0m\u001b[1;36m1\u001b[0m\u001b[1;33m\u001b[0m\u001b[1;33m\u001b[0m\u001b[0m\n",
      "\u001b[1;32m<ipython-input-8-04c394238d77>\u001b[0m in \u001b[0;36mbatch_concatenate\u001b[1;34m(concatenate_files, rawdataDir, resultDir, spatial_downsampling, temporal_downsampling, video_process)\u001b[0m\n\u001b[0;32m     16\u001b[0m \u001b[1;31m#         print(tsFileList)\u001b[0m\u001b[1;33m\u001b[0m\u001b[1;33m\u001b[0m\u001b[1;33m\u001b[0m\u001b[0m\n\u001b[0;32m     17\u001b[0m         \u001b[1;32mtry\u001b[0m\u001b[1;33m:\u001b[0m\u001b[1;33m\u001b[0m\u001b[1;33m\u001b[0m\u001b[0m\n\u001b[1;32m---> 18\u001b[1;33m             crop_downsample_concatenate(animal_id=mouse_id\n\u001b[0m\u001b[0;32m     19\u001b[0m                                         \u001b[1;33m,\u001b[0m\u001b[0mmsFileList\u001b[0m\u001b[1;33m=\u001b[0m\u001b[0mmsFileList\u001b[0m\u001b[1;33m\u001b[0m\u001b[1;33m\u001b[0m\u001b[0m\n\u001b[0;32m     20\u001b[0m                                         \u001b[1;33m,\u001b[0m\u001b[0mtsFileList\u001b[0m\u001b[1;33m=\u001b[0m\u001b[0mtsFileList\u001b[0m\u001b[1;33m\u001b[0m\u001b[1;33m\u001b[0m\u001b[0m\n",
      "\u001b[1;32m~\\.conda\\envs\\mylab\\Lib\\site-packages\\mylab\\process\\miniscope\\cnmf\\fun_1_glob_crop_downsample_concatenate.py\u001b[0m in \u001b[0;36mcrop_downsample_concatenate\u001b[1;34m(animal_id, msFileList, tsFileList, note, resultDir, spatial_downsampling, temporal_downsampling, video_process)\u001b[0m\n\u001b[0;32m    169\u001b[0m \u001b[1;33m\u001b[0m\u001b[0m\n\u001b[0;32m    170\u001b[0m \u001b[1;33m\u001b[0m\u001b[0m\n\u001b[1;32m--> 171\u001b[1;33m         \u001b[0mfinal_clip\u001b[0m\u001b[1;33m.\u001b[0m\u001b[0mwrite_videofile\u001b[0m\u001b[1;33m(\u001b[0m\u001b[0mvideoconcat\u001b[0m\u001b[1;33m,\u001b[0m\u001b[0mcodec\u001b[0m\u001b[1;33m=\u001b[0m\u001b[1;34m'rawvideo'\u001b[0m\u001b[1;33m,\u001b[0m\u001b[0maudio\u001b[0m\u001b[1;33m=\u001b[0m\u001b[1;32mFalse\u001b[0m\u001b[1;33m,\u001b[0m\u001b[0mthreads\u001b[0m\u001b[1;33m=\u001b[0m\u001b[1;36m8\u001b[0m\u001b[1;33m)\u001b[0m\u001b[1;33m\u001b[0m\u001b[1;33m\u001b[0m\u001b[0m\n\u001b[0m\u001b[0;32m    172\u001b[0m     \u001b[1;31m##    final_clip.write_videofile(videoconcat,codec='png',audio=False,threads=8)\u001b[0m\u001b[1;33m\u001b[0m\u001b[1;33m\u001b[0m\u001b[1;33m\u001b[0m\u001b[0m\n\u001b[0;32m    173\u001b[0m     \u001b[1;31m#     final_clip.write_videofile(videoconcat,codec='mpeg4',audio=False,threads=8)\u001b[0m\u001b[1;33m\u001b[0m\u001b[1;33m\u001b[0m\u001b[1;33m\u001b[0m\u001b[0m\n",
      "\u001b[1;32m<decorator-gen-181>\u001b[0m in \u001b[0;36mwrite_videofile\u001b[1;34m(self, filename, fps, codec, bitrate, audio, audio_fps, preset, audio_nbytes, audio_codec, audio_bitrate, audio_bufsize, temp_audiofile, rewrite_audio, remove_temp, write_logfile, verbose, threads, ffmpeg_params, logger)\u001b[0m\n",
      "\u001b[1;32m~\\.conda\\envs\\mylab\\lib\\site-packages\\moviepy\\decorators.py\u001b[0m in \u001b[0;36mrequires_duration\u001b[1;34m(f, clip, *a, **k)\u001b[0m\n\u001b[0;32m     52\u001b[0m         \u001b[1;32mraise\u001b[0m \u001b[0mValueError\u001b[0m\u001b[1;33m(\u001b[0m\u001b[1;34m\"Attribute 'duration' not set\"\u001b[0m\u001b[1;33m)\u001b[0m\u001b[1;33m\u001b[0m\u001b[1;33m\u001b[0m\u001b[0m\n\u001b[0;32m     53\u001b[0m     \u001b[1;32melse\u001b[0m\u001b[1;33m:\u001b[0m\u001b[1;33m\u001b[0m\u001b[1;33m\u001b[0m\u001b[0m\n\u001b[1;32m---> 54\u001b[1;33m         \u001b[1;32mreturn\u001b[0m \u001b[0mf\u001b[0m\u001b[1;33m(\u001b[0m\u001b[0mclip\u001b[0m\u001b[1;33m,\u001b[0m \u001b[1;33m*\u001b[0m\u001b[0ma\u001b[0m\u001b[1;33m,\u001b[0m \u001b[1;33m**\u001b[0m\u001b[0mk\u001b[0m\u001b[1;33m)\u001b[0m\u001b[1;33m\u001b[0m\u001b[1;33m\u001b[0m\u001b[0m\n\u001b[0m\u001b[0;32m     55\u001b[0m \u001b[1;33m\u001b[0m\u001b[0m\n\u001b[0;32m     56\u001b[0m \u001b[1;33m\u001b[0m\u001b[0m\n",
      "\u001b[1;32m<decorator-gen-180>\u001b[0m in \u001b[0;36mwrite_videofile\u001b[1;34m(self, filename, fps, codec, bitrate, audio, audio_fps, preset, audio_nbytes, audio_codec, audio_bitrate, audio_bufsize, temp_audiofile, rewrite_audio, remove_temp, write_logfile, verbose, threads, ffmpeg_params, logger)\u001b[0m\n",
      "\u001b[1;32m~\\.conda\\envs\\mylab\\lib\\site-packages\\moviepy\\decorators.py\u001b[0m in \u001b[0;36muse_clip_fps_by_default\u001b[1;34m(f, clip, *a, **k)\u001b[0m\n\u001b[0;32m    133\u001b[0m              for (k,v) in k.items()}\n\u001b[0;32m    134\u001b[0m \u001b[1;33m\u001b[0m\u001b[0m\n\u001b[1;32m--> 135\u001b[1;33m     \u001b[1;32mreturn\u001b[0m \u001b[0mf\u001b[0m\u001b[1;33m(\u001b[0m\u001b[0mclip\u001b[0m\u001b[1;33m,\u001b[0m \u001b[1;33m*\u001b[0m\u001b[0mnew_a\u001b[0m\u001b[1;33m,\u001b[0m \u001b[1;33m**\u001b[0m\u001b[0mnew_kw\u001b[0m\u001b[1;33m)\u001b[0m\u001b[1;33m\u001b[0m\u001b[1;33m\u001b[0m\u001b[0m\n\u001b[0m",
      "\u001b[1;32m<decorator-gen-179>\u001b[0m in \u001b[0;36mwrite_videofile\u001b[1;34m(self, filename, fps, codec, bitrate, audio, audio_fps, preset, audio_nbytes, audio_codec, audio_bitrate, audio_bufsize, temp_audiofile, rewrite_audio, remove_temp, write_logfile, verbose, threads, ffmpeg_params, logger)\u001b[0m\n",
      "\u001b[1;32m~\\.conda\\envs\\mylab\\lib\\site-packages\\moviepy\\decorators.py\u001b[0m in \u001b[0;36mconvert_masks_to_RGB\u001b[1;34m(f, clip, *a, **k)\u001b[0m\n\u001b[0;32m     20\u001b[0m     \u001b[1;32mif\u001b[0m \u001b[0mclip\u001b[0m\u001b[1;33m.\u001b[0m\u001b[0mismask\u001b[0m\u001b[1;33m:\u001b[0m\u001b[1;33m\u001b[0m\u001b[1;33m\u001b[0m\u001b[0m\n\u001b[0;32m     21\u001b[0m         \u001b[0mclip\u001b[0m \u001b[1;33m=\u001b[0m \u001b[0mclip\u001b[0m\u001b[1;33m.\u001b[0m\u001b[0mto_RGB\u001b[0m\u001b[1;33m(\u001b[0m\u001b[1;33m)\u001b[0m\u001b[1;33m\u001b[0m\u001b[1;33m\u001b[0m\u001b[0m\n\u001b[1;32m---> 22\u001b[1;33m     \u001b[1;32mreturn\u001b[0m \u001b[0mf\u001b[0m\u001b[1;33m(\u001b[0m\u001b[0mclip\u001b[0m\u001b[1;33m,\u001b[0m \u001b[1;33m*\u001b[0m\u001b[0ma\u001b[0m\u001b[1;33m,\u001b[0m \u001b[1;33m**\u001b[0m\u001b[0mk\u001b[0m\u001b[1;33m)\u001b[0m\u001b[1;33m\u001b[0m\u001b[1;33m\u001b[0m\u001b[0m\n\u001b[0m\u001b[0;32m     23\u001b[0m \u001b[1;33m\u001b[0m\u001b[0m\n\u001b[0;32m     24\u001b[0m \u001b[1;33m@\u001b[0m\u001b[0mdecorator\u001b[0m\u001b[1;33m.\u001b[0m\u001b[0mdecorator\u001b[0m\u001b[1;33m\u001b[0m\u001b[1;33m\u001b[0m\u001b[0m\n",
      "\u001b[1;32m~\\.conda\\envs\\mylab\\lib\\site-packages\\moviepy\\video\\VideoClip.py\u001b[0m in \u001b[0;36mwrite_videofile\u001b[1;34m(self, filename, fps, codec, bitrate, audio, audio_fps, preset, audio_nbytes, audio_codec, audio_bitrate, audio_bufsize, temp_audiofile, rewrite_audio, remove_temp, write_logfile, verbose, threads, ffmpeg_params, logger)\u001b[0m\n\u001b[0;32m    298\u001b[0m                                        logger=logger)\n\u001b[0;32m    299\u001b[0m \u001b[1;33m\u001b[0m\u001b[0m\n\u001b[1;32m--> 300\u001b[1;33m         ffmpeg_write_video(self, filename, fps, codec,\n\u001b[0m\u001b[0;32m    301\u001b[0m                            \u001b[0mbitrate\u001b[0m\u001b[1;33m=\u001b[0m\u001b[0mbitrate\u001b[0m\u001b[1;33m,\u001b[0m\u001b[1;33m\u001b[0m\u001b[1;33m\u001b[0m\u001b[0m\n\u001b[0;32m    302\u001b[0m                            \u001b[0mpreset\u001b[0m\u001b[1;33m=\u001b[0m\u001b[0mpreset\u001b[0m\u001b[1;33m,\u001b[0m\u001b[1;33m\u001b[0m\u001b[1;33m\u001b[0m\u001b[0m\n",
      "\u001b[1;32m~\\.conda\\envs\\mylab\\lib\\site-packages\\moviepy\\video\\io\\ffmpeg_writer.py\u001b[0m in \u001b[0;36mffmpeg_write_video\u001b[1;34m(clip, filename, fps, codec, bitrate, preset, withmask, write_logfile, audiofile, verbose, threads, ffmpeg_params, logger)\u001b[0m\n\u001b[0;32m    218\u001b[0m         \u001b[0mnframes\u001b[0m \u001b[1;33m=\u001b[0m \u001b[0mint\u001b[0m\u001b[1;33m(\u001b[0m\u001b[0mclip\u001b[0m\u001b[1;33m.\u001b[0m\u001b[0mduration\u001b[0m\u001b[1;33m*\u001b[0m\u001b[0mfps\u001b[0m\u001b[1;33m)\u001b[0m\u001b[1;33m\u001b[0m\u001b[1;33m\u001b[0m\u001b[0m\n\u001b[0;32m    219\u001b[0m \u001b[1;33m\u001b[0m\u001b[0m\n\u001b[1;32m--> 220\u001b[1;33m         for t,frame in clip.iter_frames(logger=logger, with_times=True,\n\u001b[0m\u001b[0;32m    221\u001b[0m                                         fps=fps, dtype=\"uint8\"):\n\u001b[0;32m    222\u001b[0m             \u001b[1;32mif\u001b[0m \u001b[0mwithmask\u001b[0m\u001b[1;33m:\u001b[0m\u001b[1;33m\u001b[0m\u001b[1;33m\u001b[0m\u001b[0m\n",
      "\u001b[1;32m~\\.conda\\envs\\mylab\\lib\\site-packages\\moviepy\\Clip.py\u001b[0m in \u001b[0;36miter_frames\u001b[1;34m(self, fps, with_times, logger, dtype)\u001b[0m\n\u001b[0;32m    470\u001b[0m         \u001b[0mlogger\u001b[0m \u001b[1;33m=\u001b[0m \u001b[0mproglog\u001b[0m\u001b[1;33m.\u001b[0m\u001b[0mdefault_bar_logger\u001b[0m\u001b[1;33m(\u001b[0m\u001b[0mlogger\u001b[0m\u001b[1;33m)\u001b[0m\u001b[1;33m\u001b[0m\u001b[1;33m\u001b[0m\u001b[0m\n\u001b[0;32m    471\u001b[0m         \u001b[1;32mfor\u001b[0m \u001b[0mt\u001b[0m \u001b[1;32min\u001b[0m \u001b[0mlogger\u001b[0m\u001b[1;33m.\u001b[0m\u001b[0miter_bar\u001b[0m\u001b[1;33m(\u001b[0m\u001b[0mt\u001b[0m\u001b[1;33m=\u001b[0m\u001b[0mnp\u001b[0m\u001b[1;33m.\u001b[0m\u001b[0marange\u001b[0m\u001b[1;33m(\u001b[0m\u001b[1;36m0\u001b[0m\u001b[1;33m,\u001b[0m \u001b[0mself\u001b[0m\u001b[1;33m.\u001b[0m\u001b[0mduration\u001b[0m\u001b[1;33m,\u001b[0m \u001b[1;36m1.0\u001b[0m\u001b[1;33m/\u001b[0m\u001b[0mfps\u001b[0m\u001b[1;33m)\u001b[0m\u001b[1;33m)\u001b[0m\u001b[1;33m:\u001b[0m\u001b[1;33m\u001b[0m\u001b[1;33m\u001b[0m\u001b[0m\n\u001b[1;32m--> 472\u001b[1;33m             \u001b[0mframe\u001b[0m \u001b[1;33m=\u001b[0m \u001b[0mself\u001b[0m\u001b[1;33m.\u001b[0m\u001b[0mget_frame\u001b[0m\u001b[1;33m(\u001b[0m\u001b[0mt\u001b[0m\u001b[1;33m)\u001b[0m\u001b[1;33m\u001b[0m\u001b[1;33m\u001b[0m\u001b[0m\n\u001b[0m\u001b[0;32m    473\u001b[0m             \u001b[1;32mif\u001b[0m \u001b[1;33m(\u001b[0m\u001b[0mdtype\u001b[0m \u001b[1;32mis\u001b[0m \u001b[1;32mnot\u001b[0m \u001b[1;32mNone\u001b[0m\u001b[1;33m)\u001b[0m \u001b[1;32mand\u001b[0m \u001b[1;33m(\u001b[0m\u001b[0mframe\u001b[0m\u001b[1;33m.\u001b[0m\u001b[0mdtype\u001b[0m \u001b[1;33m!=\u001b[0m \u001b[0mdtype\u001b[0m\u001b[1;33m)\u001b[0m\u001b[1;33m:\u001b[0m\u001b[1;33m\u001b[0m\u001b[1;33m\u001b[0m\u001b[0m\n\u001b[0;32m    474\u001b[0m                 \u001b[0mframe\u001b[0m \u001b[1;33m=\u001b[0m \u001b[0mframe\u001b[0m\u001b[1;33m.\u001b[0m\u001b[0mastype\u001b[0m\u001b[1;33m(\u001b[0m\u001b[0mdtype\u001b[0m\u001b[1;33m)\u001b[0m\u001b[1;33m\u001b[0m\u001b[1;33m\u001b[0m\u001b[0m\n",
      "\u001b[1;32m<decorator-gen-137>\u001b[0m in \u001b[0;36mget_frame\u001b[1;34m(self, t)\u001b[0m\n",
      "\u001b[1;32m~\\.conda\\envs\\mylab\\lib\\site-packages\\moviepy\\decorators.py\u001b[0m in \u001b[0;36mwrapper\u001b[1;34m(f, *a, **kw)\u001b[0m\n\u001b[0;32m     87\u001b[0m         new_kw = {k: fun(v) if k in varnames else v\n\u001b[0;32m     88\u001b[0m                  for (k,v) in kw.items()}\n\u001b[1;32m---> 89\u001b[1;33m         \u001b[1;32mreturn\u001b[0m \u001b[0mf\u001b[0m\u001b[1;33m(\u001b[0m\u001b[1;33m*\u001b[0m\u001b[0mnew_a\u001b[0m\u001b[1;33m,\u001b[0m \u001b[1;33m**\u001b[0m\u001b[0mnew_kw\u001b[0m\u001b[1;33m)\u001b[0m\u001b[1;33m\u001b[0m\u001b[1;33m\u001b[0m\u001b[0m\n\u001b[0m\u001b[0;32m     90\u001b[0m     \u001b[1;32mreturn\u001b[0m \u001b[0mdecorator\u001b[0m\u001b[1;33m.\u001b[0m\u001b[0mdecorator\u001b[0m\u001b[1;33m(\u001b[0m\u001b[0mwrapper\u001b[0m\u001b[1;33m)\u001b[0m\u001b[1;33m\u001b[0m\u001b[1;33m\u001b[0m\u001b[0m\n\u001b[0;32m     91\u001b[0m \u001b[1;33m\u001b[0m\u001b[0m\n",
      "\u001b[1;32m~\\.conda\\envs\\mylab\\lib\\site-packages\\moviepy\\Clip.py\u001b[0m in \u001b[0;36mget_frame\u001b[1;34m(self, t)\u001b[0m\n\u001b[0;32m     91\u001b[0m                 \u001b[1;32mreturn\u001b[0m \u001b[0mframe\u001b[0m\u001b[1;33m\u001b[0m\u001b[1;33m\u001b[0m\u001b[0m\n\u001b[0;32m     92\u001b[0m         \u001b[1;32melse\u001b[0m\u001b[1;33m:\u001b[0m\u001b[1;33m\u001b[0m\u001b[1;33m\u001b[0m\u001b[0m\n\u001b[1;32m---> 93\u001b[1;33m             \u001b[1;32mreturn\u001b[0m \u001b[0mself\u001b[0m\u001b[1;33m.\u001b[0m\u001b[0mmake_frame\u001b[0m\u001b[1;33m(\u001b[0m\u001b[0mt\u001b[0m\u001b[1;33m)\u001b[0m\u001b[1;33m\u001b[0m\u001b[1;33m\u001b[0m\u001b[0m\n\u001b[0m\u001b[0;32m     94\u001b[0m \u001b[1;33m\u001b[0m\u001b[0m\n\u001b[0;32m     95\u001b[0m     \u001b[1;32mdef\u001b[0m \u001b[0mfl\u001b[0m\u001b[1;33m(\u001b[0m\u001b[0mself\u001b[0m\u001b[1;33m,\u001b[0m \u001b[0mfun\u001b[0m\u001b[1;33m,\u001b[0m \u001b[0mapply_to\u001b[0m\u001b[1;33m=\u001b[0m\u001b[1;32mNone\u001b[0m\u001b[1;33m,\u001b[0m \u001b[0mkeep_duration\u001b[0m\u001b[1;33m=\u001b[0m\u001b[1;32mTrue\u001b[0m\u001b[1;33m)\u001b[0m\u001b[1;33m:\u001b[0m\u001b[1;33m\u001b[0m\u001b[1;33m\u001b[0m\u001b[0m\n",
      "\u001b[1;32m~\\.conda\\envs\\mylab\\lib\\site-packages\\moviepy\\video\\compositing\\concatenate.py\u001b[0m in \u001b[0;36mmake_frame\u001b[1;34m(t)\u001b[0m\n\u001b[0;32m     81\u001b[0m         \u001b[1;32mdef\u001b[0m \u001b[0mmake_frame\u001b[0m\u001b[1;33m(\u001b[0m\u001b[0mt\u001b[0m\u001b[1;33m)\u001b[0m\u001b[1;33m:\u001b[0m\u001b[1;33m\u001b[0m\u001b[1;33m\u001b[0m\u001b[0m\n\u001b[0;32m     82\u001b[0m             \u001b[0mi\u001b[0m \u001b[1;33m=\u001b[0m \u001b[0mmax\u001b[0m\u001b[1;33m(\u001b[0m\u001b[1;33m[\u001b[0m\u001b[0mi\u001b[0m \u001b[1;32mfor\u001b[0m \u001b[0mi\u001b[0m\u001b[1;33m,\u001b[0m \u001b[0me\u001b[0m \u001b[1;32min\u001b[0m \u001b[0menumerate\u001b[0m\u001b[1;33m(\u001b[0m\u001b[0mtt\u001b[0m\u001b[1;33m)\u001b[0m \u001b[1;32mif\u001b[0m \u001b[0me\u001b[0m \u001b[1;33m<=\u001b[0m \u001b[0mt\u001b[0m\u001b[1;33m]\u001b[0m\u001b[1;33m)\u001b[0m\u001b[1;33m\u001b[0m\u001b[1;33m\u001b[0m\u001b[0m\n\u001b[1;32m---> 83\u001b[1;33m             \u001b[1;32mreturn\u001b[0m \u001b[0mclips\u001b[0m\u001b[1;33m[\u001b[0m\u001b[0mi\u001b[0m\u001b[1;33m]\u001b[0m\u001b[1;33m.\u001b[0m\u001b[0mget_frame\u001b[0m\u001b[1;33m(\u001b[0m\u001b[0mt\u001b[0m \u001b[1;33m-\u001b[0m \u001b[0mtt\u001b[0m\u001b[1;33m[\u001b[0m\u001b[0mi\u001b[0m\u001b[1;33m]\u001b[0m\u001b[1;33m)\u001b[0m\u001b[1;33m\u001b[0m\u001b[1;33m\u001b[0m\u001b[0m\n\u001b[0m\u001b[0;32m     84\u001b[0m \u001b[1;33m\u001b[0m\u001b[0m\n\u001b[0;32m     85\u001b[0m         \u001b[1;32mdef\u001b[0m \u001b[0mget_mask\u001b[0m\u001b[1;33m(\u001b[0m\u001b[0mc\u001b[0m\u001b[1;33m)\u001b[0m\u001b[1;33m:\u001b[0m\u001b[1;33m\u001b[0m\u001b[1;33m\u001b[0m\u001b[0m\n",
      "\u001b[1;32m<decorator-gen-137>\u001b[0m in \u001b[0;36mget_frame\u001b[1;34m(self, t)\u001b[0m\n",
      "\u001b[1;32m~\\.conda\\envs\\mylab\\lib\\site-packages\\moviepy\\decorators.py\u001b[0m in \u001b[0;36mwrapper\u001b[1;34m(f, *a, **kw)\u001b[0m\n\u001b[0;32m     87\u001b[0m         new_kw = {k: fun(v) if k in varnames else v\n\u001b[0;32m     88\u001b[0m                  for (k,v) in kw.items()}\n\u001b[1;32m---> 89\u001b[1;33m         \u001b[1;32mreturn\u001b[0m \u001b[0mf\u001b[0m\u001b[1;33m(\u001b[0m\u001b[1;33m*\u001b[0m\u001b[0mnew_a\u001b[0m\u001b[1;33m,\u001b[0m \u001b[1;33m**\u001b[0m\u001b[0mnew_kw\u001b[0m\u001b[1;33m)\u001b[0m\u001b[1;33m\u001b[0m\u001b[1;33m\u001b[0m\u001b[0m\n\u001b[0m\u001b[0;32m     90\u001b[0m     \u001b[1;32mreturn\u001b[0m \u001b[0mdecorator\u001b[0m\u001b[1;33m.\u001b[0m\u001b[0mdecorator\u001b[0m\u001b[1;33m(\u001b[0m\u001b[0mwrapper\u001b[0m\u001b[1;33m)\u001b[0m\u001b[1;33m\u001b[0m\u001b[1;33m\u001b[0m\u001b[0m\n\u001b[0;32m     91\u001b[0m \u001b[1;33m\u001b[0m\u001b[0m\n",
      "\u001b[1;32m~\\.conda\\envs\\mylab\\lib\\site-packages\\moviepy\\Clip.py\u001b[0m in \u001b[0;36mget_frame\u001b[1;34m(self, t)\u001b[0m\n\u001b[0;32m     91\u001b[0m                 \u001b[1;32mreturn\u001b[0m \u001b[0mframe\u001b[0m\u001b[1;33m\u001b[0m\u001b[1;33m\u001b[0m\u001b[0m\n\u001b[0;32m     92\u001b[0m         \u001b[1;32melse\u001b[0m\u001b[1;33m:\u001b[0m\u001b[1;33m\u001b[0m\u001b[1;33m\u001b[0m\u001b[0m\n\u001b[1;32m---> 93\u001b[1;33m             \u001b[1;32mreturn\u001b[0m \u001b[0mself\u001b[0m\u001b[1;33m.\u001b[0m\u001b[0mmake_frame\u001b[0m\u001b[1;33m(\u001b[0m\u001b[0mt\u001b[0m\u001b[1;33m)\u001b[0m\u001b[1;33m\u001b[0m\u001b[1;33m\u001b[0m\u001b[0m\n\u001b[0m\u001b[0;32m     94\u001b[0m \u001b[1;33m\u001b[0m\u001b[0m\n\u001b[0;32m     95\u001b[0m     \u001b[1;32mdef\u001b[0m \u001b[0mfl\u001b[0m\u001b[1;33m(\u001b[0m\u001b[0mself\u001b[0m\u001b[1;33m,\u001b[0m \u001b[0mfun\u001b[0m\u001b[1;33m,\u001b[0m \u001b[0mapply_to\u001b[0m\u001b[1;33m=\u001b[0m\u001b[1;32mNone\u001b[0m\u001b[1;33m,\u001b[0m \u001b[0mkeep_duration\u001b[0m\u001b[1;33m=\u001b[0m\u001b[1;32mTrue\u001b[0m\u001b[1;33m)\u001b[0m\u001b[1;33m:\u001b[0m\u001b[1;33m\u001b[0m\u001b[1;33m\u001b[0m\u001b[0m\n",
      "\u001b[1;32m~\\.conda\\envs\\mylab\\lib\\site-packages\\moviepy\\Clip.py\u001b[0m in \u001b[0;36m<lambda>\u001b[1;34m(t)\u001b[0m\n\u001b[0;32m    134\u001b[0m \u001b[1;33m\u001b[0m\u001b[0m\n\u001b[0;32m    135\u001b[0m         \u001b[1;31m#mf = copy(self.make_frame)\u001b[0m\u001b[1;33m\u001b[0m\u001b[1;33m\u001b[0m\u001b[1;33m\u001b[0m\u001b[0m\n\u001b[1;32m--> 136\u001b[1;33m         \u001b[0mnewclip\u001b[0m \u001b[1;33m=\u001b[0m \u001b[0mself\u001b[0m\u001b[1;33m.\u001b[0m\u001b[0mset_make_frame\u001b[0m\u001b[1;33m(\u001b[0m\u001b[1;32mlambda\u001b[0m \u001b[0mt\u001b[0m\u001b[1;33m:\u001b[0m \u001b[0mfun\u001b[0m\u001b[1;33m(\u001b[0m\u001b[0mself\u001b[0m\u001b[1;33m.\u001b[0m\u001b[0mget_frame\u001b[0m\u001b[1;33m,\u001b[0m \u001b[0mt\u001b[0m\u001b[1;33m)\u001b[0m\u001b[1;33m)\u001b[0m\u001b[1;33m\u001b[0m\u001b[1;33m\u001b[0m\u001b[0m\n\u001b[0m\u001b[0;32m    137\u001b[0m \u001b[1;33m\u001b[0m\u001b[0m\n\u001b[0;32m    138\u001b[0m         \u001b[1;32mif\u001b[0m \u001b[1;32mnot\u001b[0m \u001b[0mkeep_duration\u001b[0m\u001b[1;33m:\u001b[0m\u001b[1;33m\u001b[0m\u001b[1;33m\u001b[0m\u001b[0m\n",
      "\u001b[1;32m~\\.conda\\envs\\mylab\\lib\\site-packages\\moviepy\\video\\VideoClip.py\u001b[0m in \u001b[0;36m<lambda>\u001b[1;34m(gf, t)\u001b[0m\n\u001b[0;32m    488\u001b[0m         \"\"\"\n\u001b[0;32m    489\u001b[0m         \u001b[0mapply_to\u001b[0m \u001b[1;33m=\u001b[0m \u001b[0mapply_to\u001b[0m \u001b[1;32mor\u001b[0m \u001b[1;33m[\u001b[0m\u001b[1;33m]\u001b[0m\u001b[1;33m\u001b[0m\u001b[1;33m\u001b[0m\u001b[0m\n\u001b[1;32m--> 490\u001b[1;33m         \u001b[1;32mreturn\u001b[0m \u001b[0mself\u001b[0m\u001b[1;33m.\u001b[0m\u001b[0mfl\u001b[0m\u001b[1;33m(\u001b[0m\u001b[1;32mlambda\u001b[0m \u001b[0mgf\u001b[0m\u001b[1;33m,\u001b[0m \u001b[0mt\u001b[0m\u001b[1;33m:\u001b[0m \u001b[0mimage_func\u001b[0m\u001b[1;33m(\u001b[0m\u001b[0mgf\u001b[0m\u001b[1;33m(\u001b[0m\u001b[0mt\u001b[0m\u001b[1;33m)\u001b[0m\u001b[1;33m)\u001b[0m\u001b[1;33m,\u001b[0m \u001b[0mapply_to\u001b[0m\u001b[1;33m)\u001b[0m\u001b[1;33m\u001b[0m\u001b[1;33m\u001b[0m\u001b[0m\n\u001b[0m\u001b[0;32m    491\u001b[0m \u001b[1;33m\u001b[0m\u001b[0m\n\u001b[0;32m    492\u001b[0m     \u001b[1;31m# --------------------------------------------------------------\u001b[0m\u001b[1;33m\u001b[0m\u001b[1;33m\u001b[0m\u001b[1;33m\u001b[0m\u001b[0m\n",
      "\u001b[1;32m~\\.conda\\envs\\mylab\\lib\\site-packages\\moviepy\\video\\fx\\resize.py\u001b[0m in \u001b[0;36m<lambda>\u001b[1;34m(pic)\u001b[0m\n\u001b[0;32m    148\u001b[0m \u001b[1;33m\u001b[0m\u001b[0m\n\u001b[0;32m    149\u001b[0m     \u001b[1;32melse\u001b[0m\u001b[1;33m:\u001b[0m\u001b[1;33m\u001b[0m\u001b[1;33m\u001b[0m\u001b[0m\n\u001b[1;32m--> 150\u001b[1;33m         \u001b[0mfl\u001b[0m \u001b[1;33m=\u001b[0m \u001b[1;32mlambda\u001b[0m \u001b[0mpic\u001b[0m\u001b[1;33m:\u001b[0m \u001b[0mresizer\u001b[0m\u001b[1;33m(\u001b[0m\u001b[0mpic\u001b[0m\u001b[1;33m.\u001b[0m\u001b[0mastype\u001b[0m\u001b[1;33m(\u001b[0m\u001b[1;34m'uint8'\u001b[0m\u001b[1;33m)\u001b[0m\u001b[1;33m,\u001b[0m \u001b[0mnewsize\u001b[0m\u001b[1;33m)\u001b[0m\u001b[1;33m\u001b[0m\u001b[1;33m\u001b[0m\u001b[0m\n\u001b[0m\u001b[0;32m    151\u001b[0m \u001b[1;33m\u001b[0m\u001b[0m\n\u001b[0;32m    152\u001b[0m     \u001b[0mnewclip\u001b[0m \u001b[1;33m=\u001b[0m \u001b[0mclip\u001b[0m\u001b[1;33m.\u001b[0m\u001b[0mfl_image\u001b[0m\u001b[1;33m(\u001b[0m\u001b[0mfl\u001b[0m\u001b[1;33m)\u001b[0m\u001b[1;33m\u001b[0m\u001b[1;33m\u001b[0m\u001b[0m\n",
      "\u001b[1;31mKeyboardInterrupt\u001b[0m: "
     ]
    }
   ],
   "source": [
    "bug_msFileList = batch_concatenate(concatenate_files=concatenate_files\n",
    "                  ,rawdataDir=r\"V:\\miniscope\\miniscope_QS\"\n",
    "                  ,resultDir=r\"\\\\10.10.47.163\\Data_archive\\qiushou\\miniscope_result\"\n",
    "                  ,spatial_downsampling=2\n",
    "                  ,temporal_downsampling=1\n",
    "                  ,video_process=True)"
   ]
  },
  {
   "cell_type": "code",
   "execution_count": 8,
   "metadata": {},
   "outputs": [
    {
     "data": {
      "text/plain": [
       "[('202016', '20200606')]"
      ]
     },
     "execution_count": 8,
     "metadata": {},
     "output_type": "execute_result"
    }
   ],
   "source": [
    "bug_msFileList"
   ]
  },
  {
   "cell_type": "code",
   "execution_count": 8,
   "metadata": {
    "code_folding": []
   },
   "outputs": [],
   "source": [
    "def batch_concatenate(concatenate_files\n",
    "                      ,rawdataDir\n",
    "                      ,resultDir\n",
    "                      ,spatial_downsampling=2\n",
    "                      ,temporal_downsampling=3\n",
    "                     ,video_process=True):\n",
    "    bug_msFileList=[]\n",
    "    for file in concatenate_files:\n",
    "        date = re.findall('\\d{8}',file)[0]\n",
    "        mouse_id = re.findall('\\d{8}\\\\\\\\(\\d+)',file)[0]\n",
    "        print(date,mouse_id)\n",
    "        msFileList,tsFileList = index_videos(animal_id=mouse_id\n",
    "                                             ,date=date\n",
    "                                             ,recorded_method=\"miniscope\"\n",
    "                                             ,rawdataDir=rawdataDir)\n",
    "#         print(tsFileList)\n",
    "        try:\n",
    "            crop_downsample_concatenate(animal_id=mouse_id\n",
    "                                        ,msFileList=msFileList\n",
    "                                        ,tsFileList=tsFileList\n",
    "                                        ,note=\"_30fps_\"+date\n",
    "                                        ,spatial_downsampling=spatial_downsampling\n",
    "                                        ,temporal_downsampling=temporal_downsampling\n",
    "                                        ,resultDir=resultDir\n",
    "                                        ,video_process=video_process)\n",
    "            print(\"done\")\n",
    "        except Exception as e:\n",
    "            print(e)\n",
    "            bug_msFileList.append((mouse_id,date))\n",
    "            continue\n",
    "    return bug_msFileList"
   ]
  },
  {
   "cell_type": "code",
   "execution_count": null,
   "metadata": {},
   "outputs": [],
   "source": [
    "def pkl2mat2(ms_mat_path):\n",
    "    \"\"\"\n",
    "    将多个ms_ts.pkl写入到一个ms.mat中\n",
    "    考虑多天合并跑的情况\n",
    "    \"\"\"\n",
    "\n",
    "    result = load_mat(ms_mat_path)\n",
    "\n",
    "    pkl_pathes = glob.glob(os.path.join(os.path.dirname(ms_mat_path),\"*\\ms_ts.pkl\"))\n",
    "\n",
    "    mat_path = os.path.join(os.path.dirname(ms_mat_path),\"ms2.mat\")\n",
    "    ms_ts_all=[]\n",
    "    for pkl_path in pkl_pathes:\n",
    "        with open(pkl_path,\"rb\") as f:\n",
    "            ms_ts = pickle.load(f)\n",
    "        for temp in ms_ts:\n",
    "            ms_ts_all.append(np.array(temp))\n",
    "    result[\"ms\"][\"ms_ts\"]=np.array(ms_ts_all)\n",
    "    savemat(mat_path,result)\n",
    "    print(\"save mat %s\"%mat_path)"
   ]
  }
 ],
 "metadata": {
  "kernelspec": {
   "display_name": "Python 3",
   "language": "python",
   "name": "python3"
  },
  "language_info": {
   "codemirror_mode": {
    "name": "ipython",
    "version": 3
   },
   "file_extension": ".py",
   "mimetype": "text/x-python",
   "name": "python",
   "nbconvert_exporter": "python",
   "pygments_lexer": "ipython3",
   "version": "3.8.3"
  },
  "toc": {
   "base_numbering": 1,
   "nav_menu": {},
   "number_sections": true,
   "sideBar": true,
   "skip_h1_title": false,
   "title_cell": "Table of Contents",
   "title_sidebar": "Contents",
   "toc_cell": false,
   "toc_position": {},
   "toc_section_display": true,
   "toc_window_display": false
  }
 },
 "nbformat": 4,
 "nbformat_minor": 4
}
