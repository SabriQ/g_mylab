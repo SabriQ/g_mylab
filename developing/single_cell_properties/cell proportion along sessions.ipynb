{
 "cells": [
  {
   "cell_type": "code",
   "execution_count": 1,
   "metadata": {},
   "outputs": [],
   "source": [
    "from mylab.ana.miniscope.context_exposure.Cminiana import MiniAna as MA\n",
    "from mylab.ana.miniscope.context_exposure.Cminiana import Cellid \n",
    "from mylab.ana.miniscope.context_exposure.ana_funtions import *\n",
    "import numpy as np\n",
    "import pandas as pd\n",
    "import cv2\n",
    "import matplotlib.pyplot as plt\n",
    "import seaborn as sns\n",
    "\n",
    "import glob,sys,os,re"
   ]
  },
  {
   "cell_type": "markdown",
   "metadata": {},
   "source": [
    "# for part1\n",
    "we could analysis **context cell**,**running direction cell** and **place cell**:\n",
    "the change of the proportion along sessions."
   ]
  },
  {
   "cell_type": "markdown",
   "metadata": {},
   "source": [
    "## load data"
   ]
  },
  {
   "cell_type": "code",
   "execution_count": 2,
   "metadata": {},
   "outputs": [
    {
     "name": "stdout",
     "output_type": "stream",
     "text": [
      "FUN:: _load_session\n",
      "loading \\\\10.10.46.135\\Lab_Members\\_Lab Data Analysis\\02_Linear_Track\\Miniscope_Linear_Track\\batch3\\Results_201033-finish\\part1\\session9.pkl\n",
      "loaded\n",
      "dict_keys(['ms_ts', 'S_dff', 'sigraw', 'idx_accepted', 'corrected_ms_ts', 'behavevideo', 'behavelog_time', 'behavelog_info', 'behave_track', 'in_context_mask', 'in_context_coords', 'in_lineartrack_mask', 'in_lineartrack_coords', 'Trial_Num', 'process', 'behavevideoframe', 'all_track_points', 'aligned_behave2ms'])\n",
      "'sigraw' is taken as original self.df\n"
     ]
    }
   ],
   "source": [
    "file_path = r\"\\\\10.10.46.135\\Lab_Members\\_Lab Data Analysis\\02_Linear_Track\\Miniscope_Linear_Track\\batch3\\Results_201033-finish\\part1\"\n",
    "sessions = glob.glob(os.path.join(file_path,\"session*.pkl\"))\n",
    "sessions\n",
    "`\n",
    "s = MA(sessions[8])"
   ]
  },
  {
   "cell_type": "markdown",
   "metadata": {},
   "source": [
    "## Cellids of context, running direction and place cells"
   ]
  },
  {
   "cell_type": "code",
   "execution_count": null,
   "metadata": {},
   "outputs": [],
   "source": [
    "c = Cellid(sessions[8])\n",
    "\n",
    "meanfr,a,b,c = c.plot_in_context_placefield(context_map=[\"B\",\"A\",\"C\",\"N\"])\n",
    "\n",
    "contextcells,rdcells,pccells = cellids(sessions[8],scale=0.33,placebin_number=40,shuffle_times=1000)\n",
    "\n",
    "meanfr,a,b,c = c.plot_in_context_placefield(context_map=[\"B\",\"A\",\"C\",\"N\"])"
   ]
  },
  {
   "cell_type": "markdown",
   "metadata": {},
   "source": []
  },
  {
   "cell_type": "markdown",
   "metadata": {},
   "source": [
    "## generate funtions for plot single cell"
   ]
  },
  {
   "cell_type": "code",
   "execution_count": null,
   "metadata": {},
   "outputs": [],
   "source": [
    "Context_Matrix_info = SingleCell_MeanFr_in_SingleTrial_along_Placebin(\n",
    "    s\n",
    "    ,df=None\n",
    "    ,contexts=None\n",
    "    ,place_bins=list(np.arange(8,50)) # placebins only in context\n",
    "    ,idxes = None\n",
    "    ,trials=None)\n",
    "print(Context_Matrix_info.keys())\n",
    "plot,plot2 = plot_MeanFr_along_Placebin(Context_Matrix_info)"
   ]
  },
  {
   "cell_type": "code",
   "execution_count": 13,
   "metadata": {},
   "outputs": [
    {
     "data": {
      "text/plain": [
       "dict_keys(['ms_ts', 'S_dff', 'sigraw', 'idx_accepted', 'corrected_ms_ts', 'behavevideo', 'behavelog_time', 'behavelog_info', 'behave_track', 'in_context_mask', 'in_context_coords', 'in_lineartrack_mask', 'in_lineartrack_coords', 'Trial_Num', 'process', 'behavevideoframe', 'all_track_points', 'aligned_behave2ms', 'place_bin_No', 'Context'])"
      ]
     },
     "execution_count": 13,
     "metadata": {},
     "output_type": "execute_result"
    }
   ],
   "source": [
    "s.result.keys()"
   ]
  },
  {
   "cell_type": "code",
   "execution_count": 35,
   "metadata": {},
   "outputs": [
    {
     "data": {
      "text/html": [
       "<div>\n",
       "<style scoped>\n",
       "    .dataframe tbody tr th:only-of-type {\n",
       "        vertical-align: middle;\n",
       "    }\n",
       "\n",
       "    .dataframe tbody tr th {\n",
       "        vertical-align: top;\n",
       "    }\n",
       "\n",
       "    .dataframe thead th {\n",
       "        text-align: right;\n",
       "    }\n",
       "</style>\n",
       "<table border=\"1\" class=\"dataframe\">\n",
       "  <thead>\n",
       "    <tr style=\"text-align: right;\">\n",
       "      <th></th>\n",
       "      <th>1</th>\n",
       "      <th>4</th>\n",
       "      <th>5</th>\n",
       "      <th>17</th>\n",
       "    </tr>\n",
       "  </thead>\n",
       "  <tbody>\n",
       "    <tr>\n",
       "      <th>0</th>\n",
       "      <td>-7.023383</td>\n",
       "      <td>-3.128953</td>\n",
       "      <td>4.909084</td>\n",
       "      <td>-3.993162</td>\n",
       "    </tr>\n",
       "    <tr>\n",
       "      <th>1</th>\n",
       "      <td>-7.025239</td>\n",
       "      <td>-3.197479</td>\n",
       "      <td>8.647775</td>\n",
       "      <td>0.998790</td>\n",
       "    </tr>\n",
       "    <tr>\n",
       "      <th>2</th>\n",
       "      <td>-7.027017</td>\n",
       "      <td>-1.206891</td>\n",
       "      <td>10.101375</td>\n",
       "      <td>3.210391</td>\n",
       "    </tr>\n",
       "    <tr>\n",
       "      <th>3</th>\n",
       "      <td>-7.028720</td>\n",
       "      <td>-1.358026</td>\n",
       "      <td>12.003600</td>\n",
       "      <td>2.720065</td>\n",
       "    </tr>\n",
       "    <tr>\n",
       "      <th>4</th>\n",
       "      <td>-7.030352</td>\n",
       "      <td>-1.502665</td>\n",
       "      <td>12.664648</td>\n",
       "      <td>6.788556</td>\n",
       "    </tr>\n",
       "    <tr>\n",
       "      <th>...</th>\n",
       "      <td>...</td>\n",
       "      <td>...</td>\n",
       "      <td>...</td>\n",
       "      <td>...</td>\n",
       "    </tr>\n",
       "    <tr>\n",
       "      <th>33514</th>\n",
       "      <td>0.869207</td>\n",
       "      <td>0.322564</td>\n",
       "      <td>-0.998436</td>\n",
       "      <td>-4.055273</td>\n",
       "    </tr>\n",
       "    <tr>\n",
       "      <th>33515</th>\n",
       "      <td>0.536028</td>\n",
       "      <td>0.105695</td>\n",
       "      <td>-1.045052</td>\n",
       "      <td>-4.235377</td>\n",
       "    </tr>\n",
       "    <tr>\n",
       "      <th>33516</th>\n",
       "      <td>0.216836</td>\n",
       "      <td>-0.101854</td>\n",
       "      <td>-1.089643</td>\n",
       "      <td>-4.407792</td>\n",
       "    </tr>\n",
       "    <tr>\n",
       "      <th>33517</th>\n",
       "      <td>-0.088956</td>\n",
       "      <td>-0.300482</td>\n",
       "      <td>-1.132296</td>\n",
       "      <td>-4.572845</td>\n",
       "    </tr>\n",
       "    <tr>\n",
       "      <th>33518</th>\n",
       "      <td>-0.381912</td>\n",
       "      <td>-0.490574</td>\n",
       "      <td>-1.173095</td>\n",
       "      <td>-4.730850</td>\n",
       "    </tr>\n",
       "  </tbody>\n",
       "</table>\n",
       "<p>33519 rows × 4 columns</p>\n",
       "</div>"
      ],
      "text/plain": [
       "             1         4          5         17\n",
       "0     -7.023383 -3.128953   4.909084 -3.993162\n",
       "1     -7.025239 -3.197479   8.647775  0.998790\n",
       "2     -7.027017 -1.206891  10.101375  3.210391\n",
       "3     -7.028720 -1.358026  12.003600  2.720065\n",
       "4     -7.030352 -1.502665  12.664648  6.788556\n",
       "...         ...       ...        ...       ...\n",
       "33514  0.869207  0.322564  -0.998436 -4.055273\n",
       "33515  0.536028  0.105695  -1.045052 -4.235377\n",
       "33516  0.216836 -0.101854  -1.089643 -4.407792\n",
       "33517 -0.088956 -0.300482  -1.132296 -4.572845\n",
       "33518 -0.381912 -0.490574  -1.173095 -4.730850\n",
       "\n",
       "[33519 rows x 4 columns]"
      ]
     },
     "execution_count": 35,
     "metadata": {},
     "output_type": "execute_result"
    }
   ],
   "source": [
    "s.df[[1,4,5,17]]"
   ]
  },
  {
   "cell_type": "code",
   "execution_count": 33,
   "metadata": {},
   "outputs": [
    {
     "data": {
      "text/plain": [
       "0        False\n",
       "1        False\n",
       "2        False\n",
       "3        False\n",
       "4        False\n",
       "         ...  \n",
       "33514    False\n",
       "33515    False\n",
       "33516    False\n",
       "33517    False\n",
       "33518    False\n",
       "Name: 4, Length: 33519, dtype: bool"
      ]
     },
     "execution_count": 33,
     "metadata": {},
     "output_type": "execute_result"
    }
   ],
   "source": [
    "temp[4].isin([0.3,0.4])"
   ]
  },
  {
   "cell_type": "markdown",
   "metadata": {},
   "source": [
    "### looking through each cell idx by inputing different cellid"
   ]
  },
  {
   "cell_type": "code",
   "execution_count": 3,
   "metadata": {},
   "outputs": [
    {
     "name": "stdout",
     "output_type": "stream",
     "text": [
      "'place_bin_No' has been added\n",
      "'Contex' came frome 'Enter_ctx'\n",
      "'Context' has been added\n",
      "'Context' was represented as 0,1,2 or -1\n"
     ]
    },
    {
     "data": {
      "text/plain": [
       "dict_keys(['cellids', 'place_bins', 'trials', 'Context_Matrix_cellids_placebins_trials'])"
      ]
     },
     "execution_count": 3,
     "metadata": {},
     "output_type": "execute_result"
    }
   ],
   "source": [
    "idx=5\n",
    "context=0\n",
    "plot(idx,context);plot2(idx)"
   ]
  },
  {
   "cell_type": "markdown",
   "metadata": {},
   "source": [
    "## Context cell "
   ]
  }
 ],
 "metadata": {
  "kernelspec": {
   "display_name": "Python 3",
   "language": "python",
   "name": "python3"
  },
  "language_info": {
   "codemirror_mode": {
    "name": "ipython",
    "version": 3
   },
   "file_extension": ".py",
   "mimetype": "text/x-python",
   "name": "python",
   "nbconvert_exporter": "python",
   "pygments_lexer": "ipython3",
   "version": "3.7.5"
  },
  "toc": {
   "base_numbering": 1,
   "nav_menu": {},
   "number_sections": true,
   "sideBar": true,
   "skip_h1_title": false,
   "title_cell": "Table of Contents",
   "title_sidebar": "Contents",
   "toc_cell": false,
   "toc_position": {
    "height": "calc(100% - 180px)",
    "left": "10px",
    "top": "150px",
    "width": "301.198px"
   },
   "toc_section_display": true,
   "toc_window_display": true
  }
 },
 "nbformat": 4,
 "nbformat_minor": 4
}
