{
 "cells": [
  {
   "cell_type": "code",
   "execution_count": 1,
   "metadata": {},
   "outputs": [],
   "source": [
    "from mylab.ana.miniscope.context_exposure.Cminiana import MiniAna as MA\n",
    "from mylab.ana.miniscope.context_exposure.Cminiana import Cellid \n",
    "from mylab.ana.miniscope.context_exposure.ana_funtions import *\n",
    "import numpy as np\n",
    "import pandas as pd\n",
    "import cv2\n",
    "import matplotlib.pyplot as plt\n",
    "import seaborn as sns\n",
    "\n",
    "import glob,sys,os,re"
   ]
  },
  {
   "cell_type": "markdown",
   "metadata": {},
   "source": [
    "# for part1\n",
    "we could analysis **context cell**,**running direction cell** and **place cell**:\n",
    "the change of the proportion along sessions."
   ]
  },
  {
   "cell_type": "markdown",
   "metadata": {},
   "source": [
    "## load data"
   ]
  },
  {
   "cell_type": "code",
   "execution_count": 2,
   "metadata": {},
   "outputs": [
    {
     "name": "stdout",
     "output_type": "stream",
     "text": [
      "FUN:: _load_session\n",
      "loading \\\\10.10.46.135\\Lab_Members\\_Lab Data Analysis\\02_Linear_Track\\Miniscope_Linear_Track\\batch3\\Results_201033-finish\\part1\\session9.pkl\n",
      "loaded\n",
      "dict_keys(['ms_ts', 'S_dff', 'sigraw', 'idx_accepted', 'corrected_ms_ts', 'behavevideo', 'behavelog_time', 'behavelog_info', 'behave_track', 'in_context_mask', 'in_context_coords', 'in_lineartrack_mask', 'in_lineartrack_coords', 'Trial_Num', 'process', 'behavevideoframe', 'all_track_points', 'aligned_behave2ms'])\n",
      "'sigraw' is taken as original self.df\n"
     ]
    }
   ],
   "source": [
    "file_path = r\"\\\\10.10.46.135\\Lab_Members\\_Lab Data Analysis\\02_Linear_Track\\Miniscope_Linear_Track\\batch3\\Results_201033-finish\\part1\"\n",
    "sessions = glob.glob(os.path.join(file_path,\"session*.pkl\"))\n",
    "sessions\n",
    "\n",
    "s = MA(sessions[8])"
   ]
  },
  {
   "cell_type": "markdown",
   "metadata": {},
   "source": [
    "## generate funtions for plot single cell"
   ]
  },
  {
   "cell_type": "code",
   "execution_count": null,
   "metadata": {},
   "outputs": [],
   "source": [
    "Context_Matrix_info = SingleCell_MeanFr_in_SingleTrial_along_Placebin(\n",
    "    s\n",
    "    ,df=None\n",
    "    ,contexts=None\n",
    "    ,place_bins=list(np.arange(8,50)) # placebins only in context\n",
    "    ,idxes = None\n",
    "    ,trials=None)\n",
    "print(Context_Matrix_info.keys())\n",
    "plot,plot2 = plot_MeanFr_along_Placebin(Context_Matrix_info)"
   ]
  },
  {
   "cell_type": "markdown",
   "metadata": {},
   "source": [
    "### looking through each cell idx by inputing different cellid"
   ]
  },
  {
   "cell_type": "code",
   "execution_count": 3,
   "metadata": {},
   "outputs": [
    {
     "name": "stdout",
     "output_type": "stream",
     "text": [
      "'place_bin_No' has been added\n",
      "'Contex' came frome 'Enter_ctx'\n",
      "'Context' has been added\n",
      "'Context' was represented as 0,1,2 or -1\n"
     ]
    },
    {
     "data": {
      "text/plain": [
       "dict_keys(['cellids', 'place_bins', 'trials', 'Context_Matrix_cellids_placebins_trials'])"
      ]
     },
     "execution_count": 3,
     "metadata": {},
     "output_type": "execute_result"
    }
   ],
   "source": [
    "idx=5\n",
    "context=0\n",
    "plot(idx,context);plot2(idx)"
   ]
  },
  {
   "cell_type": "markdown",
   "metadata": {},
   "source": [
    "## Cellids of context, running direction and place cells"
   ]
  },
  {
   "cell_type": "code",
   "execution_count": 2,
   "metadata": {
    "collapsed": true
   },
   "outputs": [
    {
     "name": "stdout",
     "output_type": "stream",
     "text": [
      "FUN:: _load_session\n",
      "loading \\\\10.10.46.135\\Lab_Members\\_Lab Data Analysis\\02_Linear_Track\\Miniscope_Linear_Track\\batch3\\Results_201033-finish\\part1\\session9.pkl\n",
      "loaded\n",
      "dict_keys(['ms_ts', 'S_dff', 'sigraw', 'idx_accepted', 'corrected_ms_ts', 'behavevideo', 'behavelog_time', 'behavelog_info', 'behave_track', 'in_context_mask', 'in_context_coords', 'in_lineartrack_mask', 'in_lineartrack_coords', 'Trial_Num', 'process', 'behavevideoframe', 'all_track_points', 'aligned_behave2ms'])\n",
      "'sigraw' is taken as original self.df\n",
      "FUN:: _load_session\n",
      "loading \\\\10.10.46.135\\Lab_Members\\_Lab Data Analysis\\02_Linear_Track\\Miniscope_Linear_Track\\batch3\\Results_201033-finish\\part1\\session9.pkl\n",
      "loaded\n",
      "dict_keys(['ms_ts', 'S_dff', 'sigraw', 'idx_accepted', 'corrected_ms_ts', 'behavevideo', 'behavelog_time', 'behavelog_info', 'behave_track', 'in_context_mask', 'in_context_coords', 'in_lineartrack_mask', 'in_lineartrack_coords', 'Trial_Num', 'process', 'behavevideoframe', 'all_track_points', 'aligned_behave2ms'])\n",
      "'sigraw' is taken as original self.df\n",
      "'is_in_context' has been added\n",
      "Body_speed is trimed by FUN: speed_optimize with 'gaussian_filter1d' with sigma=3\n",
      "speed filter sigma is default to be 3\n",
      "Body_speed and Body_speed_angle have been added\n"
     ]
    },
    {
     "name": "stderr",
     "output_type": "stream",
     "text": [
      "C:\\Users\\Sabri\\Anaconda3\\envs\\mylab\\lib\\site-packages\\mylab\\Cvideo.py:228: RuntimeWarning: invalid value encountered in double_scalars\n",
      "  speeds.append(distance*s/delta_t)\n"
     ]
    },
    {
     "name": "stdout",
     "output_type": "stream",
     "text": [
      "in_context_running_direction_Body has been added\n",
      "'Contex' came frome 'Enter_ctx'\n",
      "'Context' has been added\n",
      "'Context' was represented as 0,1,2 or -1\n",
      "in_context_placebin_num has been added, which should start from 1, 0 means out of context\n"
     ]
    }
   ],
   "source": [
    "c = Cellid(sessions[8])\n",
    "\n",
    "meanfr,a,b,c = c.plot_in_context_placefield(context_map=[\"B\",\"A\",\"C\",\"N\"])\n",
    "\n",
    "contextcells,rdcells,pccells = cellids(sessions[8],scale=0.33,placebin_number=40,shuffle_times=1000)\n",
    "\n",
    "meanfr,a,b,c = c.plot_in_context_placefield(context_map=[\"B\",\"A\",\"C\",\"N\"])"
   ]
  }
 ],
 "metadata": {
  "kernelspec": {
   "display_name": "Python 3",
   "language": "python",
   "name": "python3"
  },
  "language_info": {
   "codemirror_mode": {
    "name": "ipython",
    "version": 3
   },
   "file_extension": ".py",
   "mimetype": "text/x-python",
   "name": "python",
   "nbconvert_exporter": "python",
   "pygments_lexer": "ipython3",
   "version": "3.7.5"
  },
  "toc": {
   "base_numbering": 1,
   "nav_menu": {},
   "number_sections": true,
   "sideBar": true,
   "skip_h1_title": false,
   "title_cell": "Table of Contents",
   "title_sidebar": "Contents",
   "toc_cell": false,
   "toc_position": {},
   "toc_section_display": true,
   "toc_window_display": true
  }
 },
 "nbformat": 4,
 "nbformat_minor": 4
}
