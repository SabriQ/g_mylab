{
 "cells": [
  {
   "cell_type": "markdown",
   "metadata": {},
   "source": [
    "## Compute graph metrics \n",
    "\n",
    "### This is a simple demo demonstrating how to create a NeuronNetwork object and compute some graph metrics."
   ]
  },
  {
   "cell_type": "markdown",
   "metadata": {},
   "source": [
    "### Jack Berry\n",
    "### 7/22/2020"
   ]
  },
  {
   "cell_type": "code",
   "execution_count": 1,
   "metadata": {},
   "outputs": [],
   "source": [
    "import os\n",
    "import sys\n",
    "sys.path.append(os.path.abspath(os.path.join(\"../..\")))\n",
    "#sys.path.append(os.path.join('C:/Users/berryja/Code/caliban'))\n",
    "\n",
    "import itertools\n",
    "import numpy as np\n",
    "import pandas as pd\n",
    "import matplotlib.pyplot as plt\n",
    "import seaborn as sns\n",
    "import networkx as nx\n",
    "\n",
    "#from analysis.graph_analysis_utils import NeuronNetwork\n",
    "import graph_utils_jimenez2020 as gu\n",
    "from IPython.core.interactiveshell import InteractiveShell\n",
    "\n",
    "%load_ext autoreload\n",
    "%autoreload 2"
   ]
  },
  {
   "cell_type": "code",
   "execution_count": 2,
   "metadata": {},
   "outputs": [],
   "source": [
    "%matplotlib inline\n",
    "InteractiveShell.ast_node_interactivity = \"all\""
   ]
  },
  {
   "cell_type": "markdown",
   "metadata": {},
   "source": [
    "## Import Correlation Matrices into Dictionary of Dataframes"
   ]
  },
  {
   "cell_type": "markdown",
   "metadata": {},
   "source": [
    "### Correlation Matrices are created by correlated_pairs_Rthresh.m script and saved as .csv matrix. Here, we load the corr matrices and store in a dict in order to create the graphs."
   ]
  },
  {
   "cell_type": "code",
   "execution_count": 3,
   "metadata": {},
   "outputs": [],
   "source": [
    "data_folder = 'C:/Users/berryja/Hen_Lab/Jess_CFC_all'\n",
    "mouse_ids = pd.read_csv(os.path.join(data_folder,'Mice_Tones',\"Mouse_IDs_Tone.csv\"), header=0).applymap(str)\n",
    "mice_ids = list(mouse_ids.Mouse)\n",
    "\n",
    "corr_df = dict()\n",
    "corr_dict = dict()\n",
    "connections = dict()\n",
    "threshold = 0.3\n",
    "session = ['D1','D2','D3','D3_tone']\n",
    "\n",
    "for m in mice_ids:\n",
    "    mouse_name = 'mouse_' + m\n",
    "    corr_df[mouse_name] = {}\n",
    "    corr_dict[mouse_name] = {}\n",
    "    \n",
    "    #rename D3 sessions to account for context vs tone recall\n",
    "    for s in session:\n",
    "        if s == 'D3_tone':\n",
    "            corr = pd.read_csv(os.path.join(data_folder, 'Mice_Tones',mouse_name,mouse_name + \"_D3_corr_tone.csv\".format(s)), header=None)\n",
    "        else:\n",
    "            corr = pd.read_csv(os.path.join(data_folder, 'Mice',mouse_name,mouse_name + \"_{}_corr.csv\".format(s)), header=None)\n",
    "        corr = corr.fillna(0)\n",
    "        corr.columns = [x+1 for x in corr.columns]\n",
    "        corr.index = [x+1 for x in corr.index]\n",
    "        \n",
    "        if s == 'D3':\n",
    "            k='D3_Ctx'\n",
    "        elif s == 'D3_tone':\n",
    "            k='D3_Tone'\n",
    "        else:\n",
    "            k=s\n",
    "        \n",
    "        corr_df[mouse_name][k] = corr\n",
    "        corr_dict[mouse_name][k] = gu.corrdf_to_dict(corr, threshold)"
   ]
  },
  {
   "cell_type": "code",
   "execution_count": 4,
   "metadata": {},
   "outputs": [],
   "source": [
    "graphs = {}\n",
    "metrics_dict = {}\n",
    "for k,v in corr_df.items():\n",
    "    graphs[k] = gu.make_graphs(v,.3)\n",
    "    metrics_dict[k] = gu.graph_metrics_simple(graphs[k])\n",
    "    metrics_dict[k]['Mouse'] = k\n",
    "metrics = pd.concat([v for k,v in metrics_dict.items()]).reset_index(drop=True)"
   ]
  },
  {
   "cell_type": "code",
   "execution_count": 35,
   "metadata": {},
   "outputs": [],
   "source": [
    "a = itertools.combinations([1,2,3,4,5,6,7,8],3)"
   ]
  },
  {
   "cell_type": "code",
   "execution_count": 50,
   "metadata": {},
   "outputs": [
    {
     "data": {
      "text/plain": [
       "(1, 4, 8)"
      ]
     },
     "execution_count": 50,
     "metadata": {},
     "output_type": "execute_result"
    }
   ],
   "source": [
    "d"
   ]
  }
 ],
 "metadata": {
  "kernelspec": {
   "display_name": "Python 3",
   "language": "python",
   "name": "python3"
  },
  "language_info": {
   "codemirror_mode": {
    "name": "ipython",
    "version": 3
   },
   "file_extension": ".py",
   "mimetype": "text/x-python",
   "name": "python",
   "nbconvert_exporter": "python",
   "pygments_lexer": "ipython3",
   "version": "3.8.3"
  },
  "toc": {
   "base_numbering": 1,
   "nav_menu": {},
   "number_sections": true,
   "sideBar": true,
   "skip_h1_title": false,
   "title_cell": "Table of Contents",
   "title_sidebar": "Contents",
   "toc_cell": false,
   "toc_position": {},
   "toc_section_display": true,
   "toc_window_display": false
  }
 },
 "nbformat": 4,
 "nbformat_minor": 2
}
