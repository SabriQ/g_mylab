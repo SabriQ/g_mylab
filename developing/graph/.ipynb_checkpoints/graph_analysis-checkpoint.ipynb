{
 "cells": [
  {
   "cell_type": "code",
   "execution_count": 1,
   "metadata": {},
   "outputs": [
    {
     "name": "stderr",
     "output_type": "stream",
     "text": [
      "C:\\Users\\Sabri\\Anaconda3\\envs\\mylab\\lib\\site-packages\\h5py\\__init__.py:72: UserWarning: h5py is running against HDF5 1.10.2 when it was built against 1.10.3, this may cause problems\n",
      "  '{0}.{1}.{2}'.format(*version.hdf5_built_version_tuple)\n"
     ]
    }
   ],
   "source": [
    "#读取h5 文件\n",
    "import matplotlib.pyplot as plt\n",
    "import numpy as np\n",
    "import pandas as pd\n",
    "import h5py\n",
    "import sys\n",
    "from numba import jit\n",
    "import seaborn as sns\n",
    "from mylab.ana.miniscope.Mquality import *\n",
    "from mylab.ana.miniscope.Mgraph import *\n",
    "import scipy.io as scio"
   ]
  },
  {
   "cell_type": "code",
   "execution_count": 2,
   "metadata": {},
   "outputs": [
    {
     "data": {
      "text/plain": [
       "['ShockActivated',\n",
       " 'ShockInhibited',\n",
       " 'ShockNoResponse',\n",
       " 'postA',\n",
       " 'postB',\n",
       " 'preA',\n",
       " 'preB']"
      ]
     },
     "execution_count": 2,
     "metadata": {},
     "output_type": "execute_result"
    }
   ],
   "source": [
    "f = scio.loadmat(r\"aCA3_pre_post_all_cells_excl_freeze.mat\")\n",
    "keys = [i for i in f.keys() if r\"__\" not in i]\n",
    "keys"
   ]
  },
  {
   "cell_type": "code",
   "execution_count": 3,
   "metadata": {},
   "outputs": [],
   "source": [
    "ShockActivated = pd.DataFrame([(int(np.floor(i/10000)),i%10000) for i in list(f['ShockActivated'].ravel())],columns=[\"mouse_id\",\"cell_id\"])\n",
    "ShockActivated[\"type\"] = \"SA\"\n",
    "ShockInhibited = pd.DataFrame([(int(np.floor(i/10000)),i%10000) for i in list(f['ShockInhibited'].ravel())],columns=[\"mouse_id\",\"cell_id\"])\n",
    "ShockInhibited[\"type\"] = \"SI\"\n",
    "ShockNoResponse =pd.DataFrame([(int(np.floor(i/10000)),i%10000) for i in  list(f['ShockNoResponse'].ravel())],columns=[\"mouse_id\",\"cell_id\"])\n",
    "ShockNoResponse[\"type\"] = \"SN\""
   ]
  },
  {
   "cell_type": "code",
   "execution_count": 4,
   "metadata": {},
   "outputs": [
    {
     "data": {
      "text/html": [
       "<div>\n",
       "<style scoped>\n",
       "    .dataframe tbody tr th:only-of-type {\n",
       "        vertical-align: middle;\n",
       "    }\n",
       "\n",
       "    .dataframe tbody tr th {\n",
       "        vertical-align: top;\n",
       "    }\n",
       "\n",
       "    .dataframe thead th {\n",
       "        text-align: right;\n",
       "    }\n",
       "</style>\n",
       "<table border=\"1\" class=\"dataframe\">\n",
       "  <thead>\n",
       "    <tr style=\"text-align: right;\">\n",
       "      <th></th>\n",
       "      <th>mouse_id</th>\n",
       "      <th>cell_id</th>\n",
       "      <th>type</th>\n",
       "    </tr>\n",
       "  </thead>\n",
       "  <tbody>\n",
       "    <tr>\n",
       "      <th>0</th>\n",
       "      <td>1</td>\n",
       "      <td>1</td>\n",
       "      <td>SA</td>\n",
       "    </tr>\n",
       "    <tr>\n",
       "      <th>1</th>\n",
       "      <td>1</td>\n",
       "      <td>2</td>\n",
       "      <td>SN</td>\n",
       "    </tr>\n",
       "    <tr>\n",
       "      <th>2</th>\n",
       "      <td>1</td>\n",
       "      <td>3</td>\n",
       "      <td>SI</td>\n",
       "    </tr>\n",
       "    <tr>\n",
       "      <th>3</th>\n",
       "      <td>1</td>\n",
       "      <td>4</td>\n",
       "      <td>SN</td>\n",
       "    </tr>\n",
       "    <tr>\n",
       "      <th>4</th>\n",
       "      <td>1</td>\n",
       "      <td>5</td>\n",
       "      <td>SI</td>\n",
       "    </tr>\n",
       "    <tr>\n",
       "      <th>...</th>\n",
       "      <td>...</td>\n",
       "      <td>...</td>\n",
       "      <td>...</td>\n",
       "    </tr>\n",
       "    <tr>\n",
       "      <th>713</th>\n",
       "      <td>8</td>\n",
       "      <td>95</td>\n",
       "      <td>SN</td>\n",
       "    </tr>\n",
       "    <tr>\n",
       "      <th>714</th>\n",
       "      <td>8</td>\n",
       "      <td>96</td>\n",
       "      <td>SI</td>\n",
       "    </tr>\n",
       "    <tr>\n",
       "      <th>715</th>\n",
       "      <td>8</td>\n",
       "      <td>97</td>\n",
       "      <td>SA</td>\n",
       "    </tr>\n",
       "    <tr>\n",
       "      <th>716</th>\n",
       "      <td>8</td>\n",
       "      <td>98</td>\n",
       "      <td>SN</td>\n",
       "    </tr>\n",
       "    <tr>\n",
       "      <th>717</th>\n",
       "      <td>8</td>\n",
       "      <td>99</td>\n",
       "      <td>SN</td>\n",
       "    </tr>\n",
       "  </tbody>\n",
       "</table>\n",
       "<p>718 rows × 3 columns</p>\n",
       "</div>"
      ],
      "text/plain": [
       "     mouse_id  cell_id type\n",
       "0           1        1   SA\n",
       "1           1        2   SN\n",
       "2           1        3   SI\n",
       "3           1        4   SN\n",
       "4           1        5   SI\n",
       "..        ...      ...  ...\n",
       "713         8       95   SN\n",
       "714         8       96   SI\n",
       "715         8       97   SA\n",
       "716         8       98   SN\n",
       "717         8       99   SN\n",
       "\n",
       "[718 rows x 3 columns]"
      ]
     },
     "execution_count": 4,
     "metadata": {},
     "output_type": "execute_result"
    }
   ],
   "source": [
    "# neuronal infomation\n",
    "all_neuon_type = pd.concat([ShockActivated,ShockInhibited,ShockNoResponse])\n",
    "all_neuon_type=all_neuon_type.sort_values(by=[\"mouse_id\",\"cell_id\"],ignore_index=True)\n",
    "all_neuon_type"
   ]
  },
  {
   "cell_type": "code",
   "execution_count": 140,
   "metadata": {},
   "outputs": [],
   "source": [
    "# sessions\n",
    "preA = np.array(f[\"preA\"]).T\n",
    "preB = np.array(f[\"preB\"]).T\n",
    "postA = np.array(f[\"postA\"]).T\n",
    "postB = np.array(f[\"postB\"]).T\n",
    "sessions = [\"preA\",\"preB\",\"postA\",\"postB\"]"
   ]
  },
  {
   "cell_type": "code",
   "execution_count": null,
   "metadata": {},
   "outputs": [],
   "source": [
    "# defined shock-partner cells"
   ]
  },
  {
   "cell_type": "code",
   "execution_count": 13,
   "metadata": {},
   "outputs": [
    {
     "name": "stdout",
     "output_type": "stream",
     "text": [
      "1 preA 1.0\n",
      "1 preB 1.0\n",
      "1 postA 1.0\n",
      "1 postB 1.0\n",
      "2 preA 1.0\n",
      "2 preB 1.0\n",
      "2 postA 1.0\n",
      "2 postB 1.0\n",
      "3 preA 1.0\n",
      "3 preB 1.0\n",
      "3 postA 1.0\n",
      "3 postB 1.0\n",
      "4 preA 1.0\n",
      "4 preB 1.0\n",
      "4 postA 1.0\n",
      "4 postB 1.0\n",
      "5 preA 1.0\n",
      "5 preB 1.0\n",
      "5 postA 1.0\n",
      "5 postB 1.0\n",
      "6 preA 1.0\n",
      "6 preB 1.0\n",
      "6 postA 1.0\n",
      "6 postB 1.0\n",
      "7 preA 1.0\n",
      "7 preB 1.0\n",
      "7 postA 1.0\n",
      "7 postB 1.0\n",
      "8 preA 1.0\n",
      "8 preB 1.0\n",
      "8 postA 1.0\n",
      "8 postB 1.0\n"
     ]
    }
   ],
   "source": [
    "for mouseid in [1,2,3,4,5,6,7,8]:\n",
    "    \n",
    "    for session in [\"preA\",\"preB\",\"postA\",\"postB\"]:\n",
    "        # firing in session\n",
    "        arr = f[session].T[all_neuon_type[\"mouse_id\"]==mouseid]  \n",
    "        #df in session\n",
    "        df = all_neuon_type[all_neuon_type[\"mouse_id\"]==mouseid].reset_index(drop=True)\n",
    "        \n",
    "        cell_ids = df[\"cell_id\"].tolist()\n",
    "        \n",
    "#         cpr = compute_correlated_pair_ratio(arr,cell_ids)\n",
    "#         cc = comput_clustering_coefficient_by_session(arr,cell_ids)\n",
    "        \n",
    "        cp = comput_component_probability_by_session(arr,cell_ids,threshold=0.8)\n",
    "        print(mouseid,session,cp)\n",
    "        \n",
    "        \n",
    "    "
   ]
  },
  {
   "cell_type": "markdown",
   "metadata": {},
   "source": [
    "# definition\n",
    "\n",
    "### correlated pair ratio\n",
    "**Significantly correlated pairs of neurons** were defined based on\n",
    "the correlation coefficients of Ca2+ transient events within one\n",
    "second time bins during context exploration.\n",
    "\n",
    "**were computed for each neuron**\n",
    "\n",
    "$$The\\ correlated\\ pair\\ ratio =\\frac{\\#pairs}{\\#total\\ cells\\ in\\ FOV}$$\n",
    "\n",
    "\n",
    "`An R thresholds of 0.3 was applied to this matrix to reduce bias from noise.\n",
    "R thresholds at p < 0.05 from the shuffle distribution were then applied to determine the number of correlated pairs with shuffled R thresholds(Jimenez et al. 2020)`\n",
    "\n",
    "\n",
    "            \n",
    "        \n",
    "\n",
    "\n",
    "### clustering coefficient\n",
    " the\n",
    "extent to which a given neuron’s pairs were also correlated with\n",
    "each other (clustering coefficient)\n",
    "$$Clustering\\ coefficient =\\frac{\\# edges\\ among\\ neighbors}{\\# possible\\ edges\\ among\\ neighbors} $$\n",
    "\n",
    "`Connection density is the actual number of edges in the graph as a proportion of the total number of possible edges and is the simplest estimator of the physical cost — for example, the energy or other resource requirements — of a network. (Bullmore et al. 2009)`\n",
    "\n",
    "**were computed for each neuron**\n",
    "\n",
    "Total number of possible edges is: n(n-1)/2,where n is the number of nodes (neurons) in the graph.\n",
    "\n",
    "correlated function in class NeuronalNetwork: `self.compute_connection_density()`\n",
    "\n",
    "\n",
    "### component probability\n",
    "A connected component is defined as a subgraph of nodes connected to each other by paths but not\n",
    "connected to any other nodes. **Each neuron was assigned either a 0 or 1 indicating\n",
    "whether it was a component member**, and the proportion of neurons in a component (component probability) was computed for each imaging session\n",
    "\n",
    "\n",
    "\n",
    "correlated function in module `Mgraph.py`\n",
    "`frac_nodes_in_component(g,threshold)`\n",
    "**threshold** means the minimum component size.\n",
    "`Due to the sparse nature of these neural graphs, we also determined whether each neuron was as member of a connected component containing at least two other neurons(Jimenez et al. 2020)`which means threshold in this paper is **3**.\n",
    "$$Component\\ probability =\\frac{\\#\\ neurons\\  in\\  a\\ component}{\\#neurons\\ in\\  session}$$"
   ]
  }
 ],
 "metadata": {
  "kernelspec": {
   "display_name": "Python 3",
   "language": "python",
   "name": "python3"
  },
  "language_info": {
   "codemirror_mode": {
    "name": "ipython",
    "version": 3
   },
   "file_extension": ".py",
   "mimetype": "text/x-python",
   "name": "python",
   "nbconvert_exporter": "python",
   "pygments_lexer": "ipython3",
   "version": "3.7.5"
  },
  "toc": {
   "base_numbering": 1,
   "nav_menu": {},
   "number_sections": true,
   "sideBar": true,
   "skip_h1_title": false,
   "title_cell": "Table of Contents",
   "title_sidebar": "Contents",
   "toc_cell": false,
   "toc_position": {
    "height": "calc(100% - 180px)",
    "left": "10px",
    "top": "150px",
    "width": "409.6px"
   },
   "toc_section_display": true,
   "toc_window_display": true
  }
 },
 "nbformat": 4,
 "nbformat_minor": 4
}
