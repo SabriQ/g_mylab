{
 "cells": [
  {
   "cell_type": "code",
   "execution_count": 1,
   "metadata": {},
   "outputs": [
    {
     "name": "stderr",
     "output_type": "stream",
     "text": [
      "<ipython-input-1-da861a2c9b46>:13: H5pyDeprecationWarning: The default file mode will change to 'r' (read-only) in h5py 3.0. To suppress this warning, pass the mode you need to h5py.File(), or set the global default h5.get_config().default_file_mode, or set the environment variable H5PY_DEFAULT_READONLY=1. Available modes are: 'r', 'r+', 'w', 'w-'/'x', 'a'. See the docs for details.\n",
      "  f = h5py.File(r\"aCA3_pre_post_all_cells_excl_freeze.h5\")\n"
     ]
    },
    {
     "data": {
      "text/plain": [
       "<KeysViewHDF5 ['ShockActivated', 'ShockInhibited', 'ShockNoResponse', 'nCells', 'postA', 'postB', 'preA', 'preB']>"
      ]
     },
     "execution_count": 1,
     "metadata": {},
     "output_type": "execute_result"
    }
   ],
   "source": [
    "#读取h5 文件\n",
    "import matplotlib.pyplot as plt\n",
    "import numpy as np\n",
    "import pandas as pd\n",
    "import h5py\n",
    "import sys\n",
    "from numba import jit\n",
    "import seaborn as sns\n",
    "from mylab.ana.miniscope.Mquality import *\n",
    "from mylab.ana.miniscope.Mgraph import *\n",
    "\n",
    "# f = h5py.File(r\"aCA3_shock_activated_.h5\")\n",
    "f = h5py.File(r\"aCA3_pre_post_all_cells_excl_freeze.h5\")\n",
    "ShockActivated=[]\n",
    "f.keys()"
   ]
  },
  {
   "cell_type": "code",
   "execution_count": 3,
   "metadata": {},
   "outputs": [
    {
     "data": {
      "text/plain": [
       "array([[  5.,   8.,  31.,  56.,  62.,  77.,  94.,  79.,  45.,  88., 111.,\n",
       "         69.,   3.,  86.,  99.,  41.,  89.,  30.,  73.,   4.,  24.,  13.,\n",
       "         27.,   8.,  31.,   1.,   5.,  22.,  20.,  68.,  92.,  93., 113.,\n",
       "        120., 131.,  36.,  15.,  27.,  77., 109., 119., 138., 144., 157.,\n",
       "        155., 132.,  86.,  76., 121.,  20.,  26., 137., 149.,   2.,  73.,\n",
       "         99.,  90., 101.,  30., 106., 129.,  48., 111.,  98.,  56.,  64.,\n",
       "          4., 103., 151., 158.,  96.,  34.,  42., 134.,  12.,  16.,  23.,\n",
       "        114.,  28.,  70.,   6.,   1.,  57.,  85., 148., 123., 133.,  32.,\n",
       "        116.,  38.,  43.,  62.,  65.,  74., 108., 124., 127., 149.,  33.,\n",
       "         53., 103., 122., 138.,  80., 144.,  10.,  71., 143., 134.,  56.,\n",
       "         24., 146., 132.,  22.,  61.,   8.,  57.,  96.,  19., 128.,  39.,\n",
       "         50., 157., 102.,  54.,  44.,  98., 119., 141.,   4.,  13.,   2.,\n",
       "          8.,  19.,   5.,  52.,   4.,  18.,  13.,   2.,  21.,  11.,   8.,\n",
       "         33.,   3.,  20.,  46.,  22.,   3.,  57.,  76.,  34.,  43.,  58.,\n",
       "         26.,  29.,  42.,  53.,   1.,  60.,  48.,  11.,  45.,  55.,  46.,\n",
       "          7.,  10.,  68.,  25.,  36.,  40.,  49.,  52.,  54.,  57.,  61.,\n",
       "         84.,  31.,  78.,  88.,  79.,  12.,  70.,  24.,  63.,   2.,  50.,\n",
       "         96.,   4.,  28.,  72.,  77.,  46.,  37.,  35.,  43.,  58.]])"
      ]
     },
     "execution_count": 3,
     "metadata": {},
     "output_type": "execute_result"
    }
   ],
   "source": [
    "np.array(f[\"ShockInhibited\"])"
   ]
  },
  {
   "cell_type": "code",
   "execution_count": 37,
   "metadata": {},
   "outputs": [],
   "source": [
    "# time_points,cell_id\n",
    "preA = np.array(f[\"preA\"])\n",
    "preB = np.array(f[\"preB\"])\n",
    "postA = np.array(f[\"postA\"])\n",
    "postB = np.array(f[\"postB\"])\n",
    "Total_cell_ids = [int(i) for i in np.arange(0,preA.shape[0])]"
   ]
  },
  {
   "cell_type": "markdown",
   "metadata": {},
   "source": [
    "#  Compute \"correlated pair ratio\" for each neuron\n",
    "$$The\\ correlated\\ pair\\ ratio =\\frac{\\#pairs}{\\#total\\ cells\\ in\\ FOV}$$\n",
    "\n",
    "#pairs: shuffle_pvalue < 0.05"
   ]
  },
  {
   "cell_type": "code",
   "execution_count": 5,
   "metadata": {
    "scrolled": true
   },
   "outputs": [
    {
     "name": "stdout",
     "output_type": "stream",
     "text": [
      "shuffle for 1000/1000 times \n",
      "shuffle for 1000/1000 times \n",
      "shuffle for 1000/1000 times \n",
      "shuffle for 1000/1000 times \n"
     ]
    }
   ],
   "source": [
    "correlated_pair_ratio_preA = compute_correlated_pair_ratio(preA,Total_cell_ids)\n",
    "correlated_pair_ratio_preB = compute_correlated_pair_ratio(preB,Total_cell_ids)\n",
    "correlated_pair_ratio_postA = compute_correlated_pair_ratio(postA,Total_cell_ids)\n",
    "correlated_pair_ratio_postB = compute_correlated_pair_ratio(postB,Total_cell_ids)"
   ]
  },
  {
   "cell_type": "code",
   "execution_count": 116,
   "metadata": {},
   "outputs": [],
   "source": [
    "cpr = pd.Series(correlated_pair_ratio_preB)\n",
    "cpr.to_csv(r\"C:\\Users\\qiushou\\.conda\\envs\\mylab\\Lib\\site-packages\\mylab\\developing\\graph\\correlated_pair_ratio_preB.csv\")"
   ]
  },
  {
   "cell_type": "code",
   "execution_count": 38,
   "metadata": {},
   "outputs": [
    {
     "name": "stdout",
     "output_type": "stream",
     "text": [
      "0.1255770827352364 0.14571969491236103 0.11964525414917637 0.15566297592352635\n"
     ]
    }
   ],
   "source": [
    "print(np.mean(list(correlated_pair_ratio_preB.values())),\n",
    "np.mean(list(correlated_pair_ratio_postB.values())),\n",
    "np.mean(list(correlated_pair_ratio_preA.values())),\n",
    "np.mean(list(correlated_pair_ratio_postA.values())))"
   ]
  },
  {
   "cell_type": "code",
   "execution_count": 15,
   "metadata": {},
   "outputs": [
    {
     "data": {
      "text/plain": [
       "0.11964525414917637"
      ]
     },
     "execution_count": 15,
     "metadata": {},
     "output_type": "execute_result"
    }
   ],
   "source": [
    "# we have calculate \"correlated_pair_ratio\" for each cell,\n",
    "# next we need the result of following group cells \n",
    "#  \"ShockActivated\",\"ShockActivated-partner\",\n",
    "#  \"ShockInhibited\",\"ShockInhibited-partner\",\n",
    "#  \"ShockNoResponse\",\"ShockNoResponse-partner\""
   ]
  },
  {
   "cell_type": "markdown",
   "metadata": {},
   "source": [
    "# Compute \"clustering coefficient\" for each neuron\n",
    "\n",
    "$$Clustering\\ coefficient =\\frac{\\# edges\\ among\\ neighbors}{\\# possible\\ edges\\ among\\ neighbors} $$"
   ]
  },
  {
   "cell_type": "code",
   "execution_count": 90,
   "metadata": {},
   "outputs": [],
   "source": [
    "def comput_clustering_coefficient_by_session(arr,Total_cell_ids):\n",
    "    \n",
    "    matrix = pd.DataFrame(np.corrcoef(preA),columns=Total_cell_ids)\n",
    "    Ng= make_graph(matrix,threshold=0.6)\n",
    "    _,clustering_coefficient = get_metrics(Ng)\n",
    "    return clustering_coefficient"
   ]
  },
  {
   "cell_type": "code",
   "execution_count": 110,
   "metadata": {},
   "outputs": [],
   "source": [
    "cc_csv = comput_clustering_coefficient_by_session(postB,Total_cell_ids)"
   ]
  },
  {
   "cell_type": "code",
   "execution_count": 111,
   "metadata": {},
   "outputs": [],
   "source": [
    "cc_csv.to_csv(r\"C:\\Users\\qiushou\\.conda\\envs\\mylab\\Lib\\site-packages\\mylab\\developing\\graph\\clustering_coefficient_postB_csv.csv\")"
   ]
  },
  {
   "cell_type": "markdown",
   "metadata": {},
   "source": [
    "# Compute \"component probability\" for each session\n",
    "\n",
    "$$Component\\ probability =\\frac{\\#\\ neurons\\  in\\  a\\ component}{\\#neurons\\ in\\  session}$$"
   ]
  },
  {
   "cell_type": "code",
   "execution_count": 68,
   "metadata": {},
   "outputs": [],
   "source": [
    "def comput_component_probability_by_session(arr,threshold):\n",
    "    \"\"\"\n",
    "    arr: coloumns means each observation, raws means firing rate in each timestamps\n",
    "    threshold: the Pearson's correlation coefficient of two neurons are paired\n",
    "    \"\"\"\n",
    "    \n",
    "    matrix = pd.DataFrame(np.corrcoef(arr),columns=Total_cell_ids)\n",
    "    Ng= make_graph(matrix,threshold=threshold)\n",
    "    return frac_nodes_in_component(Ng.network,3)"
   ]
  },
  {
   "cell_type": "code",
   "execution_count": 80,
   "metadata": {},
   "outputs": [],
   "source": [
    "component_probability_preA = comput_component_probability_by_session(preA,threshold=0.6)\n",
    "component_probability_postA = comput_component_probability_by_session(postA,threshold=0.6)\n",
    "component_probability_preB = comput_component_probability_by_session(preB,threshold=0.6)\n",
    "component_probability_postB = comput_component_probability_by_session(postB,threshold=0.6)"
   ]
  },
  {
   "cell_type": "code",
   "execution_count": 81,
   "metadata": {},
   "outputs": [
    {
     "name": "stdout",
     "output_type": "stream",
     "text": [
      "0.5696378830083565 0.5974930362116991 0.6058495821727019 0.5222841225626741\n"
     ]
    }
   ],
   "source": [
    "print(\n",
    "component_probability_preA,component_probability_postA,\n",
    "component_probability_preB,component_probability_postB\n",
    ")"
   ]
  },
  {
   "cell_type": "markdown",
   "metadata": {},
   "source": [
    "\n",
    "\n",
    "### correlated pair ratio\n",
    "**Significantly correlated pairs of neurons** were defined based on\n",
    "the correlation coefficients of Ca2+ transient events within one\n",
    "second time bins during context exploration.\n",
    "\n",
    "**were computed for each neuron**\n",
    "\n",
    "$$The\\ correlated\\ pair\\ ratio =\\frac{\\#pairs}{\\#total\\ cells\\ in\\ FOV}$$\n",
    "\n",
    "\n",
    "`An R thresholds of 0.3 was applied to this matrix to reduce bias from noise.\n",
    "R thresholds at p < 0.05 from the shuffle distribution were then applied to determine the number of correlated pairs with shuffled R thresholds(Jimenez et al. 2020)`\n",
    "\n",
    "\n",
    "            \n",
    "        \n",
    "### component probability\n",
    "A connected component is defined as a subgraph of nodes connected to each other by paths but not\n",
    "connected to any other nodes. **Each neuron was assigned either a 0 or 1 indicating\n",
    "whether it was a component member**, and the proportion of neurons in a component (component probability) was computed for each imaging session\n",
    "\n",
    "\n",
    "\n",
    "correlated function in module `Mgraph.py`\n",
    "`frac_nodes_in_component(g,threshold)`\n",
    "**threshold** means the minimum component size.\n",
    "`Due to the sparse nature of these neural graphs, we also determined whether each neuron was as member of a connected component containing at least two other neurons(Jimenez et al. 2020)`which means threshold in this paper is **3**.\n",
    "$$Component\\ probability =\\frac{\\#\\ neurons\\  in\\  a\\ component}{\\#neurons\\ in\\  session}$$\n",
    "\n",
    "### clustering coefficient\n",
    " the\n",
    "extent to which a given neuron’s pairs were also correlated with\n",
    "each other (clustering coefficient)\n",
    "$$Clustering\\ coefficient =\\frac{\\# edges\\ among\\ neighbors}{\\# possible\\ edges\\ among\\ neighbors} $$\n",
    "\n",
    "`Connection density is the actual number of edges in the graph as a            proportion of the total number of possible edges and is the simplest            estimator of the physical cost — for example, the energy or other resource requirements — of a network. (Bullmore et al. 2009)`\n",
    "\n",
    "**were computed for each neuron**\n",
    "\n",
    "Total number of possible edges is: n(n-1)/2,where n is the number of nodes (neurons) in the graph.\n",
    "\n",
    "correlated function in class NeuronalNetwork: `self.compute_connection_density()`"
   ]
  },
  {
   "cell_type": "code",
   "execution_count": 18,
   "metadata": {},
   "outputs": [
    {
     "data": {
      "text/plain": [
       "0.005971181377062427"
      ]
     },
     "execution_count": 18,
     "metadata": {},
     "output_type": "execute_result"
    }
   ],
   "source": [
    "g.compute_connection_density()"
   ]
  },
  {
   "cell_type": "code",
   "execution_count": 57,
   "metadata": {},
   "outputs": [],
   "source": [
    "np.corrcoef? "
   ]
  },
  {
   "cell_type": "code",
   "execution_count": 56,
   "metadata": {},
   "outputs": [],
   "source": [
    "np.cov?"
   ]
  }
 ],
 "metadata": {
  "kernelspec": {
   "display_name": "Python 3",
   "language": "python",
   "name": "python3"
  },
  "language_info": {
   "codemirror_mode": {
    "name": "ipython",
    "version": 3
   },
   "file_extension": ".py",
   "mimetype": "text/x-python",
   "name": "python",
   "nbconvert_exporter": "python",
   "pygments_lexer": "ipython3",
   "version": "3.8.3"
  },
  "toc": {
   "base_numbering": 1,
   "nav_menu": {},
   "number_sections": true,
   "sideBar": true,
   "skip_h1_title": false,
   "title_cell": "Table of Contents",
   "title_sidebar": "Contents",
   "toc_cell": false,
   "toc_position": {},
   "toc_section_display": true,
   "toc_window_display": true
  }
 },
 "nbformat": 4,
 "nbformat_minor": 4
}
