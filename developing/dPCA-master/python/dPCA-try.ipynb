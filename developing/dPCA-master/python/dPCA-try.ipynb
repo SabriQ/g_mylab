{
 "cells": [
  {
   "cell_type": "code",
   "execution_count": 1,
   "metadata": {},
   "outputs": [],
   "source": [
    "import numpy as np\n",
    "import pandas as pd\n",
    "import pickle\n",
    "from mylab.ana.miniscope.context_exposure.Cminiana import MiniAna as MA\n",
    "import matplotlib.pyplot as plt"
   ]
  },
  {
   "cell_type": "code",
   "execution_count": 2,
   "metadata": {},
   "outputs": [],
   "source": [
    "file_path = r\"C:\\Users\\Sabri\\Desktop\\program\\Data\\miniscope\\part6\\session2.pkl\""
   ]
  },
  {
   "cell_type": "code",
   "execution_count": 3,
   "metadata": {},
   "outputs": [
    {
     "name": "stdout",
     "output_type": "stream",
     "text": [
      "FUN:: _load_session\n",
      "FUN:: _load_session\n",
      "loading C:\\Users\\Sabri\\Desktop\\program\\Data\\miniscope\\part6\\session2.pkl\n",
      "loaded\n",
      "loaded\n",
      "dict_keys(['ms_ts', 'S_dff', 'sigraw', 'idx_accepted', 'corrected_ms_ts', 'behavevideo', 'behavelog_time', 'behavelog_info', 'behave_track', 'in_context_mask', 'in_context_coords', 'in_lineartrack_mask', 'in_lineartrack_coords', 'all_track_points', 'Trial_Num', 'process', 'aligned_behave2ms'])\n",
      "'sigraw' is taken as original self.df\n",
      "'sigraw' is taken as original self.df\n"
     ]
    }
   ],
   "source": [
    "s = MA(file_path)"
   ]
  },
  {
   "cell_type": "code",
   "execution_count": 10,
   "metadata": {},
   "outputs": [
    {
     "data": {
      "text/plain": [
       "(38531, 135)"
      ]
     },
     "execution_count": 10,
     "metadata": {},
     "output_type": "execute_result"
    }
   ],
   "source": [
    "s.result[\"S_dff\"].shape"
   ]
  },
  {
   "cell_type": "code",
   "execution_count": 11,
   "metadata": {},
   "outputs": [
    {
     "name": "stdout",
     "output_type": "stream",
     "text": [
      "'place_bin_No' has been there\n",
      "'place_bin_No' has been there\n"
     ]
    }
   ],
   "source": [
    "s.add_alltrack_placebin_num(according=\"Body\",place_bin_nums=[3,3,20,3,3,3],behavevideo=r\"X:\\linear_track_behavior\\20200820\\CDC-test-201033-20200820-132809.mp4\")"
   ]
  },
  {
   "cell_type": "code",
   "execution_count": 12,
   "metadata": {},
   "outputs": [],
   "source": [
    "choice_side = []\n",
    "if s.result[\"behavelog_info\"][\"Left_choice\"][0]>s.result[\"behavelog_info\"][\"Right_choice\"][0]:\n",
    "    choice_side.append(0)\n",
    "else:\n",
    "    choice_side.append(1)\n",
    "for i in np.diff(s.result[\"behavelog_info\"][\"Left_choice\"]):\n",
    "    if i == 0:\n",
    "        choice_side.append(1)\n",
    "    else:\n",
    "        choice_side.append(0)\n",
    "s.result[\"behavelog_info\"][\"choice_side\"]=choice_side\n"
   ]
  },
  {
   "cell_type": "code",
   "execution_count": 188,
   "metadata": {},
   "outputs": [
    {
     "data": {
      "text/html": [
       "<div>\n",
       "<style scoped>\n",
       "    .dataframe tbody tr th:only-of-type {\n",
       "        vertical-align: middle;\n",
       "    }\n",
       "\n",
       "    .dataframe tbody tr th {\n",
       "        vertical-align: top;\n",
       "    }\n",
       "\n",
       "    .dataframe thead th {\n",
       "        text-align: right;\n",
       "    }\n",
       "</style>\n",
       "<table border=\"1\" class=\"dataframe\">\n",
       "  <thead>\n",
       "    <tr style=\"text-align: right;\">\n",
       "      <th></th>\n",
       "      <th></th>\n",
       "      <th>0</th>\n",
       "      <th>1</th>\n",
       "      <th>2</th>\n",
       "      <th>3</th>\n",
       "      <th>4</th>\n",
       "      <th>5</th>\n",
       "      <th>6</th>\n",
       "      <th>7</th>\n",
       "      <th>8</th>\n",
       "      <th>9</th>\n",
       "      <th>...</th>\n",
       "      <th>125</th>\n",
       "      <th>126</th>\n",
       "      <th>127</th>\n",
       "      <th>128</th>\n",
       "      <th>129</th>\n",
       "      <th>130</th>\n",
       "      <th>131</th>\n",
       "      <th>132</th>\n",
       "      <th>133</th>\n",
       "      <th>134</th>\n",
       "    </tr>\n",
       "    <tr>\n",
       "      <th>Trial_Num</th>\n",
       "      <th>place_bin_No</th>\n",
       "      <th></th>\n",
       "      <th></th>\n",
       "      <th></th>\n",
       "      <th></th>\n",
       "      <th></th>\n",
       "      <th></th>\n",
       "      <th></th>\n",
       "      <th></th>\n",
       "      <th></th>\n",
       "      <th></th>\n",
       "      <th></th>\n",
       "      <th></th>\n",
       "      <th></th>\n",
       "      <th></th>\n",
       "      <th></th>\n",
       "      <th></th>\n",
       "      <th></th>\n",
       "      <th></th>\n",
       "      <th></th>\n",
       "      <th></th>\n",
       "      <th></th>\n",
       "    </tr>\n",
       "  </thead>\n",
       "  <tbody>\n",
       "    <tr>\n",
       "      <th rowspan=\"5\" valign=\"top\">1</th>\n",
       "      <th>0</th>\n",
       "      <td>0.072900</td>\n",
       "      <td>0.000000</td>\n",
       "      <td>0.485032</td>\n",
       "      <td>0.123376</td>\n",
       "      <td>0.072374</td>\n",
       "      <td>0.935841</td>\n",
       "      <td>0.000325</td>\n",
       "      <td>0.689392</td>\n",
       "      <td>0.000000</td>\n",
       "      <td>0.000455</td>\n",
       "      <td>...</td>\n",
       "      <td>0.288501</td>\n",
       "      <td>6.187250</td>\n",
       "      <td>0.000000</td>\n",
       "      <td>0.000000</td>\n",
       "      <td>2.126566</td>\n",
       "      <td>1.781187</td>\n",
       "      <td>2.707789</td>\n",
       "      <td>10.251923</td>\n",
       "      <td>2.489951</td>\n",
       "      <td>2.973537</td>\n",
       "    </tr>\n",
       "    <tr>\n",
       "      <th>3</th>\n",
       "      <td>0.000000</td>\n",
       "      <td>0.066447</td>\n",
       "      <td>0.000000</td>\n",
       "      <td>0.000000</td>\n",
       "      <td>0.023282</td>\n",
       "      <td>0.000000</td>\n",
       "      <td>0.000000</td>\n",
       "      <td>0.874794</td>\n",
       "      <td>0.446504</td>\n",
       "      <td>0.163149</td>\n",
       "      <td>...</td>\n",
       "      <td>0.534651</td>\n",
       "      <td>0.000000</td>\n",
       "      <td>0.202768</td>\n",
       "      <td>0.000000</td>\n",
       "      <td>0.000000</td>\n",
       "      <td>0.000000</td>\n",
       "      <td>0.000000</td>\n",
       "      <td>4.361157</td>\n",
       "      <td>0.756791</td>\n",
       "      <td>0.000000</td>\n",
       "    </tr>\n",
       "    <tr>\n",
       "      <th>4</th>\n",
       "      <td>0.000000</td>\n",
       "      <td>1.238794</td>\n",
       "      <td>0.000000</td>\n",
       "      <td>0.000000</td>\n",
       "      <td>0.050180</td>\n",
       "      <td>0.306906</td>\n",
       "      <td>0.000000</td>\n",
       "      <td>0.688965</td>\n",
       "      <td>0.869634</td>\n",
       "      <td>0.352051</td>\n",
       "      <td>...</td>\n",
       "      <td>0.146259</td>\n",
       "      <td>0.394927</td>\n",
       "      <td>0.665685</td>\n",
       "      <td>0.000000</td>\n",
       "      <td>0.000000</td>\n",
       "      <td>0.000000</td>\n",
       "      <td>0.000000</td>\n",
       "      <td>3.131985</td>\n",
       "      <td>0.522323</td>\n",
       "      <td>0.182403</td>\n",
       "    </tr>\n",
       "    <tr>\n",
       "      <th>5</th>\n",
       "      <td>0.236633</td>\n",
       "      <td>1.071724</td>\n",
       "      <td>0.138462</td>\n",
       "      <td>0.000000</td>\n",
       "      <td>0.206118</td>\n",
       "      <td>0.115824</td>\n",
       "      <td>0.000000</td>\n",
       "      <td>0.121892</td>\n",
       "      <td>0.785719</td>\n",
       "      <td>1.783660</td>\n",
       "      <td>...</td>\n",
       "      <td>0.874126</td>\n",
       "      <td>0.147076</td>\n",
       "      <td>1.117799</td>\n",
       "      <td>0.000000</td>\n",
       "      <td>0.000000</td>\n",
       "      <td>0.000000</td>\n",
       "      <td>0.000000</td>\n",
       "      <td>0.000000</td>\n",
       "      <td>0.000000</td>\n",
       "      <td>0.000000</td>\n",
       "    </tr>\n",
       "    <tr>\n",
       "      <th>6</th>\n",
       "      <td>0.000000</td>\n",
       "      <td>0.198884</td>\n",
       "      <td>1.006155</td>\n",
       "      <td>0.016218</td>\n",
       "      <td>0.000000</td>\n",
       "      <td>0.000000</td>\n",
       "      <td>0.000000</td>\n",
       "      <td>0.000000</td>\n",
       "      <td>0.380421</td>\n",
       "      <td>1.391857</td>\n",
       "      <td>...</td>\n",
       "      <td>0.513841</td>\n",
       "      <td>0.019680</td>\n",
       "      <td>0.326854</td>\n",
       "      <td>0.041217</td>\n",
       "      <td>0.000000</td>\n",
       "      <td>0.000000</td>\n",
       "      <td>0.000000</td>\n",
       "      <td>1.282193</td>\n",
       "      <td>0.002564</td>\n",
       "      <td>0.662130</td>\n",
       "    </tr>\n",
       "    <tr>\n",
       "      <th>...</th>\n",
       "      <th>...</th>\n",
       "      <td>...</td>\n",
       "      <td>...</td>\n",
       "      <td>...</td>\n",
       "      <td>...</td>\n",
       "      <td>...</td>\n",
       "      <td>...</td>\n",
       "      <td>...</td>\n",
       "      <td>...</td>\n",
       "      <td>...</td>\n",
       "      <td>...</td>\n",
       "      <td>...</td>\n",
       "      <td>...</td>\n",
       "      <td>...</td>\n",
       "      <td>...</td>\n",
       "      <td>...</td>\n",
       "      <td>...</td>\n",
       "      <td>...</td>\n",
       "      <td>...</td>\n",
       "      <td>...</td>\n",
       "      <td>...</td>\n",
       "      <td>...</td>\n",
       "    </tr>\n",
       "    <tr>\n",
       "      <th rowspan=\"5\" valign=\"top\">131</th>\n",
       "      <th>27</th>\n",
       "      <td>0.161131</td>\n",
       "      <td>0.000000</td>\n",
       "      <td>0.064085</td>\n",
       "      <td>0.000000</td>\n",
       "      <td>0.262911</td>\n",
       "      <td>0.000000</td>\n",
       "      <td>0.017778</td>\n",
       "      <td>0.000000</td>\n",
       "      <td>0.410041</td>\n",
       "      <td>0.435785</td>\n",
       "      <td>...</td>\n",
       "      <td>0.000000</td>\n",
       "      <td>0.000000</td>\n",
       "      <td>0.215301</td>\n",
       "      <td>0.000000</td>\n",
       "      <td>0.000000</td>\n",
       "      <td>0.000000</td>\n",
       "      <td>0.000000</td>\n",
       "      <td>0.000000</td>\n",
       "      <td>1.458560</td>\n",
       "      <td>0.000000</td>\n",
       "    </tr>\n",
       "    <tr>\n",
       "      <th>28</th>\n",
       "      <td>0.054234</td>\n",
       "      <td>0.000000</td>\n",
       "      <td>0.558062</td>\n",
       "      <td>0.000000</td>\n",
       "      <td>0.151923</td>\n",
       "      <td>0.000000</td>\n",
       "      <td>0.000000</td>\n",
       "      <td>0.000000</td>\n",
       "      <td>0.209005</td>\n",
       "      <td>0.225448</td>\n",
       "      <td>...</td>\n",
       "      <td>0.000000</td>\n",
       "      <td>0.000000</td>\n",
       "      <td>0.000000</td>\n",
       "      <td>0.000000</td>\n",
       "      <td>0.026019</td>\n",
       "      <td>0.000000</td>\n",
       "      <td>0.000000</td>\n",
       "      <td>0.000000</td>\n",
       "      <td>0.530047</td>\n",
       "      <td>0.000000</td>\n",
       "    </tr>\n",
       "    <tr>\n",
       "      <th>32</th>\n",
       "      <td>0.000000</td>\n",
       "      <td>0.000000</td>\n",
       "      <td>0.000000</td>\n",
       "      <td>0.000000</td>\n",
       "      <td>0.000000</td>\n",
       "      <td>0.000000</td>\n",
       "      <td>0.198371</td>\n",
       "      <td>0.000000</td>\n",
       "      <td>0.636533</td>\n",
       "      <td>1.208670</td>\n",
       "      <td>...</td>\n",
       "      <td>0.000000</td>\n",
       "      <td>0.000000</td>\n",
       "      <td>0.000000</td>\n",
       "      <td>0.000000</td>\n",
       "      <td>0.000000</td>\n",
       "      <td>0.000000</td>\n",
       "      <td>0.000000</td>\n",
       "      <td>0.000000</td>\n",
       "      <td>0.000000</td>\n",
       "      <td>0.000000</td>\n",
       "    </tr>\n",
       "    <tr>\n",
       "      <th>33</th>\n",
       "      <td>0.084775</td>\n",
       "      <td>0.000000</td>\n",
       "      <td>0.406236</td>\n",
       "      <td>0.000000</td>\n",
       "      <td>0.457301</td>\n",
       "      <td>0.000000</td>\n",
       "      <td>0.071174</td>\n",
       "      <td>0.000000</td>\n",
       "      <td>0.000000</td>\n",
       "      <td>0.113824</td>\n",
       "      <td>...</td>\n",
       "      <td>0.000000</td>\n",
       "      <td>0.000000</td>\n",
       "      <td>0.000000</td>\n",
       "      <td>0.000000</td>\n",
       "      <td>0.000000</td>\n",
       "      <td>0.000000</td>\n",
       "      <td>0.000000</td>\n",
       "      <td>0.000000</td>\n",
       "      <td>1.195778</td>\n",
       "      <td>0.000000</td>\n",
       "    </tr>\n",
       "    <tr>\n",
       "      <th>34</th>\n",
       "      <td>0.022617</td>\n",
       "      <td>0.045732</td>\n",
       "      <td>0.017306</td>\n",
       "      <td>0.000000</td>\n",
       "      <td>0.141807</td>\n",
       "      <td>0.000000</td>\n",
       "      <td>0.000000</td>\n",
       "      <td>0.000000</td>\n",
       "      <td>0.045071</td>\n",
       "      <td>0.295480</td>\n",
       "      <td>...</td>\n",
       "      <td>0.185726</td>\n",
       "      <td>0.152675</td>\n",
       "      <td>0.000000</td>\n",
       "      <td>0.000000</td>\n",
       "      <td>0.000000</td>\n",
       "      <td>0.000000</td>\n",
       "      <td>0.004272</td>\n",
       "      <td>0.479682</td>\n",
       "      <td>0.241951</td>\n",
       "      <td>0.000000</td>\n",
       "    </tr>\n",
       "  </tbody>\n",
       "</table>\n",
       "<p>4183 rows × 135 columns</p>\n",
       "</div>"
      ],
      "text/plain": [
       "                             0         1         2         3         4    \\\n",
       "Trial_Num place_bin_No                                                     \n",
       "1         0             0.072900  0.000000  0.485032  0.123376  0.072374   \n",
       "          3             0.000000  0.066447  0.000000  0.000000  0.023282   \n",
       "          4             0.000000  1.238794  0.000000  0.000000  0.050180   \n",
       "          5             0.236633  1.071724  0.138462  0.000000  0.206118   \n",
       "          6             0.000000  0.198884  1.006155  0.016218  0.000000   \n",
       "...                          ...       ...       ...       ...       ...   \n",
       "131       27            0.161131  0.000000  0.064085  0.000000  0.262911   \n",
       "          28            0.054234  0.000000  0.558062  0.000000  0.151923   \n",
       "          32            0.000000  0.000000  0.000000  0.000000  0.000000   \n",
       "          33            0.084775  0.000000  0.406236  0.000000  0.457301   \n",
       "          34            0.022617  0.045732  0.017306  0.000000  0.141807   \n",
       "\n",
       "                             5         6         7         8         9    ...  \\\n",
       "Trial_Num place_bin_No                                                    ...   \n",
       "1         0             0.935841  0.000325  0.689392  0.000000  0.000455  ...   \n",
       "          3             0.000000  0.000000  0.874794  0.446504  0.163149  ...   \n",
       "          4             0.306906  0.000000  0.688965  0.869634  0.352051  ...   \n",
       "          5             0.115824  0.000000  0.121892  0.785719  1.783660  ...   \n",
       "          6             0.000000  0.000000  0.000000  0.380421  1.391857  ...   \n",
       "...                          ...       ...       ...       ...       ...  ...   \n",
       "131       27            0.000000  0.017778  0.000000  0.410041  0.435785  ...   \n",
       "          28            0.000000  0.000000  0.000000  0.209005  0.225448  ...   \n",
       "          32            0.000000  0.198371  0.000000  0.636533  1.208670  ...   \n",
       "          33            0.000000  0.071174  0.000000  0.000000  0.113824  ...   \n",
       "          34            0.000000  0.000000  0.000000  0.045071  0.295480  ...   \n",
       "\n",
       "                             125       126       127       128       129  \\\n",
       "Trial_Num place_bin_No                                                     \n",
       "1         0             0.288501  6.187250  0.000000  0.000000  2.126566   \n",
       "          3             0.534651  0.000000  0.202768  0.000000  0.000000   \n",
       "          4             0.146259  0.394927  0.665685  0.000000  0.000000   \n",
       "          5             0.874126  0.147076  1.117799  0.000000  0.000000   \n",
       "          6             0.513841  0.019680  0.326854  0.041217  0.000000   \n",
       "...                          ...       ...       ...       ...       ...   \n",
       "131       27            0.000000  0.000000  0.215301  0.000000  0.000000   \n",
       "          28            0.000000  0.000000  0.000000  0.000000  0.026019   \n",
       "          32            0.000000  0.000000  0.000000  0.000000  0.000000   \n",
       "          33            0.000000  0.000000  0.000000  0.000000  0.000000   \n",
       "          34            0.185726  0.152675  0.000000  0.000000  0.000000   \n",
       "\n",
       "                             130       131        132       133       134  \n",
       "Trial_Num place_bin_No                                                     \n",
       "1         0             1.781187  2.707789  10.251923  2.489951  2.973537  \n",
       "          3             0.000000  0.000000   4.361157  0.756791  0.000000  \n",
       "          4             0.000000  0.000000   3.131985  0.522323  0.182403  \n",
       "          5             0.000000  0.000000   0.000000  0.000000  0.000000  \n",
       "          6             0.000000  0.000000   1.282193  0.002564  0.662130  \n",
       "...                          ...       ...        ...       ...       ...  \n",
       "131       27            0.000000  0.000000   0.000000  1.458560  0.000000  \n",
       "          28            0.000000  0.000000   0.000000  0.530047  0.000000  \n",
       "          32            0.000000  0.000000   0.000000  0.000000  0.000000  \n",
       "          33            0.000000  0.000000   0.000000  1.195778  0.000000  \n",
       "          34            0.000000  0.004272   0.479682  0.241951  0.000000  \n",
       "\n",
       "[4183 rows x 135 columns]"
      ]
     },
     "execution_count": 188,
     "metadata": {},
     "output_type": "execute_result"
    }
   ],
   "source": [
    "dpca_matrix = pd.DataFrame(s.result[\"S_dff\"]).groupby([s.result[\"Trial_Num\"],s.result[\"place_bin_No\"]]).mean()\n",
    "dpca_matrix = dpca_matrix.drop(index=(-1))\n",
    "dpca_matrix\n",
    "\n",
    "context = s.result[\"behavelog_info\"][\"Enter_ctx\"]\n",
    "decision = s.result[\"behavelog_info\"][\"choice_side\"]\n",
    "ctx0_decision0_trial = s.result[\"behavelog_info\"][\"Trial_Num\"][(context==0)&(decision==0)]\n",
    "ctx0_decision1_trial = s.result[\"behavelog_info\"][\"Trial_Num\"][(context==0)&(decision==1)]\n",
    "ctx1_decision0_trial = s.result[\"behavelog_info\"][\"Trial_Num\"][(context==1)&(decision==0)]\n",
    "ctx1_decision1_trial = s.result[\"behavelog_info\"][\"Trial_Num\"][(context==1)&(decision==1)]\n",
    "\n",
    "\n",
    "# 判断以下变量的size\n",
    "max_Trial_Num = max(ctx0_decision0_trial.shape[0],ctx0_decision1_trial.shape[0]\n",
    "     ,ctx1_decision0_trial.shape[0] ,ctx1_decision1_trial.shape[0])# 这个Trial_Num应该是每单个（Trial_Num,feature1,featurn2,...）组合的最大值\n",
    "neurons = dpca_matrix.shape[1]\n",
    "placebin = len(set(s.result[\"place_bin_No\"]))\n",
    "context = len(set(context))\n",
    "decision = len(set(decision))\n",
    "print(max_Trial_Num,neurons,place_bin,context,decision)\n",
    "\n",
    "#构建 空的np.array\n",
    "trialR = np.full((max_Trial_Num,neurons,placebin,context,decision),np.nan)\n",
    "trialR.shape\n",
    "\n",
    "for i,trial in enumerate(ctx0_decision0_trial,0):\n",
    "    temp_trial_matrix = dpca_matrix.loc[trial]\n",
    "#     print(temp_trial_matrix.shape,trialR[i,:,temp_trial_matrix.index,0,0].shape)\n",
    "    trialR[i,:,temp_trial_matrix.index,0,0]=temp_trial_matrix\n",
    "    \n",
    "for i,trial in enumerate(ctx0_decision1_trial,0):\n",
    "    temp_trial_matrix = dpca_matrix.loc[trial]\n",
    "#     print(temp_trial_matrix.shape,trialR[i,:,temp_trial_matrix.index,0,1].shape)\n",
    "    trialR[i,:,temp_trial_matrix.index,0,1]=temp_trial_matrix\n",
    "    \n",
    "for i,trial in enumerate(ctx1_decision0_trial,0):\n",
    "    temp_trial_matrix = dpca_matrix.loc[trial]\n",
    "#     print(temp_trial_matrix.shape,trialR[i,:,temp_trial_matrix.index,1,0].shape)\n",
    "    trialR[i,:,temp_trial_matrix.index,1,0]=temp_trial_matrix\n",
    "    \n",
    "for i,trial in enumerate(ctx1_decision1_trial,0):\n",
    "    temp_trial_matrix = dpca_matrix.loc[trial]\n",
    "#     print(temp_trial_matrix.shape,trialR[i,:,temp_trial_matrix.index,1,1].shape)\n",
    "    trialR[i,:,temp_trial_matrix.index,1,1]=temp_trial_matrix\n",
    "\n",
    "        "
   ]
  },
  {
   "cell_type": "code",
   "execution_count": 294,
   "metadata": {},
   "outputs": [],
   "source": []
  },
  {
   "cell_type": "code",
   "execution_count": 295,
   "metadata": {},
   "outputs": [],
   "source": [
    "from dPCA import dPCA"
   ]
  },
  {
   "cell_type": "code",
   "execution_count": 299,
   "metadata": {},
   "outputs": [
    {
     "name": "stdout",
     "output_type": "stream",
     "text": [
      "You chose to determine the regularization parameter automatically. This can\n",
      "                    take substantial time and grows linearly with the number of crossvalidation\n",
      "                    folds. The latter can be set by changing self.n_trials (default = 3). Similarly,\n",
      "                    use self.protect to set the list of axes that are not supposed to get to get shuffled\n",
      "                    (e.g. upon splitting the data into test- and training, time-points should always\n",
      "                    be drawn from the same trial, i.e. self.protect = ['t']). This can significantly\n",
      "                    speed up the code.\n",
      "Start optimizing regularization.\n",
      "Starting trial  1 / 3\n",
      "Not all protected axis are at the end! While the algorithm will still work, the performance of the shuffling algorithm will substantially decrease due to unavoidable copies.\n"
     ]
    },
    {
     "ename": "IndexError",
     "evalue": "index 2 is out of bounds for axis 2 with size 2",
     "output_type": "error",
     "traceback": [
      "\u001b[1;31m---------------------------------------------------------------------------\u001b[0m",
      "\u001b[1;31mIndexError\u001b[0m                                Traceback (most recent call last)",
      "\u001b[1;32m<ipython-input-299-2f423ed4cdab>\u001b[0m in \u001b[0;36m<module>\u001b[1;34m\u001b[0m\n\u001b[0;32m      2\u001b[0m \u001b[0mdpca\u001b[0m\u001b[1;33m.\u001b[0m\u001b[0mprotect\u001b[0m \u001b[1;33m=\u001b[0m \u001b[1;33m[\u001b[0m\u001b[1;34m'p'\u001b[0m\u001b[1;33m]\u001b[0m\u001b[1;33m\u001b[0m\u001b[1;33m\u001b[0m\u001b[0m\n\u001b[0;32m      3\u001b[0m \u001b[1;33m\u001b[0m\u001b[0m\n\u001b[1;32m----> 4\u001b[1;33m \u001b[0mZ\u001b[0m \u001b[1;33m=\u001b[0m \u001b[0mdpca\u001b[0m\u001b[1;33m.\u001b[0m\u001b[0mfit_transform\u001b[0m\u001b[1;33m(\u001b[0m\u001b[0mR\u001b[0m\u001b[1;33m,\u001b[0m\u001b[0mtrialR\u001b[0m\u001b[1;33m)\u001b[0m\u001b[1;33m\u001b[0m\u001b[1;33m\u001b[0m\u001b[0m\n\u001b[0m",
      "\u001b[1;32m~\\Downloads\\dPCA-master\\dPCA-master\\python\\dPCA\\dPCA.py\u001b[0m in \u001b[0;36mfit_transform\u001b[1;34m(self, X, trialX)\u001b[0m\n\u001b[0;32m    160\u001b[0m \u001b[1;33m\u001b[0m\u001b[0m\n\u001b[0;32m    161\u001b[0m         \"\"\"\n\u001b[1;32m--> 162\u001b[1;33m         \u001b[0mself\u001b[0m\u001b[1;33m.\u001b[0m\u001b[0m_fit\u001b[0m\u001b[1;33m(\u001b[0m\u001b[0mX\u001b[0m\u001b[1;33m,\u001b[0m\u001b[0mtrialX\u001b[0m\u001b[1;33m=\u001b[0m\u001b[0mtrialX\u001b[0m\u001b[1;33m)\u001b[0m\u001b[1;33m\u001b[0m\u001b[1;33m\u001b[0m\u001b[0m\n\u001b[0m\u001b[0;32m    163\u001b[0m \u001b[1;33m\u001b[0m\u001b[0m\n\u001b[0;32m    164\u001b[0m         \u001b[1;32mreturn\u001b[0m \u001b[0mself\u001b[0m\u001b[1;33m.\u001b[0m\u001b[0mtransform\u001b[0m\u001b[1;33m(\u001b[0m\u001b[0mX\u001b[0m\u001b[1;33m)\u001b[0m\u001b[1;33m\u001b[0m\u001b[1;33m\u001b[0m\u001b[0m\n",
      "\u001b[1;32m~\\Downloads\\dPCA-master\\dPCA-master\\python\\dPCA\\dPCA.py\u001b[0m in \u001b[0;36m_fit\u001b[1;34m(self, X, trialX, mXs, center, SVD, optimize)\u001b[0m\n\u001b[0;32m    553\u001b[0m                 \u001b[1;32mraise\u001b[0m \u001b[0mValueError\u001b[0m\u001b[1;33m(\u001b[0m\u001b[1;34m'To optimize the regularization parameter, the trial-by-trial data trialX needs to be provided.'\u001b[0m\u001b[1;33m)\u001b[0m\u001b[1;33m\u001b[0m\u001b[1;33m\u001b[0m\u001b[0m\n\u001b[0;32m    554\u001b[0m \u001b[1;33m\u001b[0m\u001b[0m\n\u001b[1;32m--> 555\u001b[1;33m             \u001b[0mself\u001b[0m\u001b[1;33m.\u001b[0m\u001b[0m_optimize_regularization\u001b[0m\u001b[1;33m(\u001b[0m\u001b[0mX\u001b[0m\u001b[1;33m,\u001b[0m\u001b[0mtrialX\u001b[0m\u001b[1;33m)\u001b[0m\u001b[1;33m\u001b[0m\u001b[1;33m\u001b[0m\u001b[0m\n\u001b[0m\u001b[0;32m    556\u001b[0m \u001b[1;33m\u001b[0m\u001b[0m\n\u001b[0;32m    557\u001b[0m         \u001b[1;31m# add regularization\u001b[0m\u001b[1;33m\u001b[0m\u001b[1;33m\u001b[0m\u001b[1;33m\u001b[0m\u001b[0m\n",
      "\u001b[1;32m~\\Downloads\\dPCA-master\\dPCA-master\\python\\dPCA\\dPCA.py\u001b[0m in \u001b[0;36m_optimize_regularization\u001b[1;34m(self, X, trialX, center, lams)\u001b[0m\n\u001b[0;32m    332\u001b[0m \u001b[1;33m\u001b[0m\u001b[0m\n\u001b[0;32m    333\u001b[0m         \u001b[1;31m# compute crossvalidated score over n_trials repetitions\u001b[0m\u001b[1;33m\u001b[0m\u001b[1;33m\u001b[0m\u001b[1;33m\u001b[0m\u001b[0m\n\u001b[1;32m--> 334\u001b[1;33m         \u001b[0mscores\u001b[0m \u001b[1;33m=\u001b[0m \u001b[0mself\u001b[0m\u001b[1;33m.\u001b[0m\u001b[0mcrossval_score\u001b[0m\u001b[1;33m(\u001b[0m\u001b[0mlams\u001b[0m\u001b[1;33m,\u001b[0m\u001b[0mX\u001b[0m\u001b[1;33m,\u001b[0m\u001b[0mtrialX\u001b[0m\u001b[1;33m,\u001b[0m\u001b[0mmean\u001b[0m\u001b[1;33m=\u001b[0m\u001b[1;32mFalse\u001b[0m\u001b[1;33m)\u001b[0m\u001b[1;33m\u001b[0m\u001b[1;33m\u001b[0m\u001b[0m\n\u001b[0m\u001b[0;32m    335\u001b[0m \u001b[1;33m\u001b[0m\u001b[0m\n\u001b[0;32m    336\u001b[0m         \u001b[1;31m# take mean over total scores\u001b[0m\u001b[1;33m\u001b[0m\u001b[1;33m\u001b[0m\u001b[1;33m\u001b[0m\u001b[0m\n",
      "\u001b[1;32m~\\Downloads\\dPCA-master\\dPCA-master\\python\\dPCA\\dPCA.py\u001b[0m in \u001b[0;36mcrossval_score\u001b[1;34m(self, lams, X, trialX, mean)\u001b[0m\n\u001b[0;32m    396\u001b[0m \u001b[1;33m\u001b[0m\u001b[0m\n\u001b[0;32m    397\u001b[0m             \u001b[1;31m# perform split into training and test trials\u001b[0m\u001b[1;33m\u001b[0m\u001b[1;33m\u001b[0m\u001b[1;33m\u001b[0m\u001b[0m\n\u001b[1;32m--> 398\u001b[1;33m             \u001b[0mtrainX\u001b[0m\u001b[1;33m,\u001b[0m \u001b[0mvalidX\u001b[0m \u001b[1;33m=\u001b[0m \u001b[0mself\u001b[0m\u001b[1;33m.\u001b[0m\u001b[0mtrain_test_split\u001b[0m\u001b[1;33m(\u001b[0m\u001b[0mX\u001b[0m\u001b[1;33m,\u001b[0m\u001b[0mtrialX\u001b[0m\u001b[1;33m,\u001b[0m\u001b[0mN_samples\u001b[0m\u001b[1;33m=\u001b[0m\u001b[0mN_samples\u001b[0m\u001b[1;33m)\u001b[0m\u001b[1;33m\u001b[0m\u001b[1;33m\u001b[0m\u001b[0m\n\u001b[0m\u001b[0;32m    399\u001b[0m \u001b[1;33m\u001b[0m\u001b[0m\n\u001b[0;32m    400\u001b[0m             \u001b[1;31m# compute marginalization of test and validation data\u001b[0m\u001b[1;33m\u001b[0m\u001b[1;33m\u001b[0m\u001b[1;33m\u001b[0m\u001b[0m\n",
      "\u001b[1;32m~\\Downloads\\dPCA-master\\dPCA-master\\python\\dPCA\\dPCA.py\u001b[0m in \u001b[0;36mtrain_test_split\u001b[1;34m(self, X, trialX, N_samples, sample_ax)\u001b[0m\n\u001b[0;32m    674\u001b[0m \u001b[1;33m\u001b[0m\u001b[0m\n\u001b[0;32m    675\u001b[0m         \u001b[1;32mwhile\u001b[0m \u001b[1;32mnot\u001b[0m \u001b[0mit\u001b[0m\u001b[1;33m.\u001b[0m\u001b[0mfinished\u001b[0m\u001b[1;33m:\u001b[0m\u001b[1;33m\u001b[0m\u001b[1;33m\u001b[0m\u001b[0m\n\u001b[1;32m--> 676\u001b[1;33m             \u001b[0mblindX\u001b[0m\u001b[1;33m[\u001b[0m\u001b[0mit\u001b[0m\u001b[1;33m.\u001b[0m\u001b[0mmulti_index\u001b[0m \u001b[1;33m+\u001b[0m \u001b[1;33m(\u001b[0m\u001b[0mnp\u001b[0m\u001b[1;33m.\u001b[0m\u001b[0ms_\u001b[0m\u001b[1;33m[\u001b[0m\u001b[1;33m:\u001b[0m\u001b[1;33m]\u001b[0m\u001b[1;33m,\u001b[0m\u001b[1;33m)\u001b[0m\u001b[1;33m*\u001b[0m\u001b[0mn_protect\u001b[0m\u001b[1;33m]\u001b[0m \u001b[1;33m=\u001b[0m \u001b[0mtrialX\u001b[0m\u001b[1;33m[\u001b[0m\u001b[1;33m(\u001b[0m\u001b[0midx\u001b[0m\u001b[1;33m[\u001b[0m\u001b[0mit\u001b[0m\u001b[1;33m.\u001b[0m\u001b[0mmulti_index\u001b[0m\u001b[1;33m]\u001b[0m\u001b[1;33m,\u001b[0m\u001b[1;33m)\u001b[0m \u001b[1;33m+\u001b[0m \u001b[0mit\u001b[0m\u001b[1;33m.\u001b[0m\u001b[0mmulti_index\u001b[0m \u001b[1;33m+\u001b[0m \u001b[1;33m(\u001b[0m\u001b[0mnp\u001b[0m\u001b[1;33m.\u001b[0m\u001b[0ms_\u001b[0m\u001b[1;33m[\u001b[0m\u001b[1;33m:\u001b[0m\u001b[1;33m]\u001b[0m\u001b[1;33m,\u001b[0m\u001b[1;33m)\u001b[0m\u001b[1;33m*\u001b[0m\u001b[0mn_protect\u001b[0m\u001b[1;33m]\u001b[0m\u001b[1;33m\u001b[0m\u001b[1;33m\u001b[0m\u001b[0m\n\u001b[0m\u001b[0;32m    677\u001b[0m             \u001b[0mit\u001b[0m\u001b[1;33m.\u001b[0m\u001b[0miternext\u001b[0m\u001b[1;33m(\u001b[0m\u001b[1;33m)\u001b[0m\u001b[1;33m\u001b[0m\u001b[1;33m\u001b[0m\u001b[0m\n\u001b[0;32m    678\u001b[0m \u001b[1;33m\u001b[0m\u001b[0m\n",
      "\u001b[1;31mIndexError\u001b[0m: index 2 is out of bounds for axis 2 with size 2"
     ]
    }
   ],
   "source": [
    "dpca = dPCA.dPCA(labels='pcd',regularizer='auto') \n",
    "dpca.protect = ['p']\n",
    "\n",
    "Z = dpca.fit_transform(R,trialR)"
   ]
  },
  {
   "cell_type": "code",
   "execution_count": 194,
   "metadata": {},
   "outputs": [],
   "source": [
    "dpca_matrix_mean = np.expand_dims(dpca_matrix,0)"
   ]
  },
  {
   "cell_type": "code",
   "execution_count": 301,
   "metadata": {},
   "outputs": [
    {
     "name": "stdout",
     "output_type": "stream",
     "text": [
      "Regularization not optimized yet; start optimization now.\n",
      "Starting trial  1 / 3\n",
      "Not all protected axis are at the end! While the algorithm will still work, the performance of the shuffling algorithm will substantially decrease due to unavoidable copies.\n"
     ]
    },
    {
     "ename": "IndexError",
     "evalue": "index 2 is out of bounds for axis 2 with size 2",
     "output_type": "error",
     "traceback": [
      "\u001b[1;31m---------------------------------------------------------------------------\u001b[0m",
      "\u001b[1;31mIndexError\u001b[0m                                Traceback (most recent call last)",
      "\u001b[1;32m<ipython-input-301-4b8013a8ced4>\u001b[0m in \u001b[0;36m<module>\u001b[1;34m\u001b[0m\n\u001b[1;32m----> 1\u001b[1;33m \u001b[0msignificance_masks\u001b[0m \u001b[1;33m=\u001b[0m \u001b[0mdpca\u001b[0m\u001b[1;33m.\u001b[0m\u001b[0msignificance_analysis\u001b[0m\u001b[1;33m(\u001b[0m\u001b[0mX\u001b[0m \u001b[1;33m=\u001b[0m \u001b[0mR\u001b[0m\u001b[1;33m,\u001b[0m\u001b[0mtrialX\u001b[0m\u001b[1;33m=\u001b[0m\u001b[0mtrialR\u001b[0m \u001b[1;33m,\u001b[0m\u001b[0mn_shuffles\u001b[0m\u001b[1;33m=\u001b[0m\u001b[1;36m10\u001b[0m\u001b[1;33m,\u001b[0m \u001b[0mn_splits\u001b[0m\u001b[1;33m=\u001b[0m\u001b[1;36m10\u001b[0m\u001b[1;33m,\u001b[0m \u001b[0mn_consecutive\u001b[0m\u001b[1;33m=\u001b[0m\u001b[1;36m10\u001b[0m\u001b[1;33m)\u001b[0m\u001b[1;33m\u001b[0m\u001b[1;33m\u001b[0m\u001b[0m\n\u001b[0m",
      "\u001b[1;32m~\\Downloads\\dPCA-master\\dPCA-master\\python\\dPCA\\dPCA.py\u001b[0m in \u001b[0;36msignificance_analysis\u001b[1;34m(self, X, trialX, n_shuffles, n_splits, n_consecutive, axis, full)\u001b[0m\n\u001b[0;32m    851\u001b[0m         \u001b[1;32mif\u001b[0m \u001b[0mself\u001b[0m\u001b[1;33m.\u001b[0m\u001b[0mopt_regularizer_flag\u001b[0m\u001b[1;33m:\u001b[0m\u001b[1;33m\u001b[0m\u001b[1;33m\u001b[0m\u001b[0m\n\u001b[0;32m    852\u001b[0m             \u001b[0mprint\u001b[0m\u001b[1;33m(\u001b[0m\u001b[1;34m\"Regularization not optimized yet; start optimization now.\"\u001b[0m\u001b[1;33m)\u001b[0m\u001b[1;33m\u001b[0m\u001b[1;33m\u001b[0m\u001b[0m\n\u001b[1;32m--> 853\u001b[1;33m             \u001b[0mself\u001b[0m\u001b[1;33m.\u001b[0m\u001b[0m_optimize_regularization\u001b[0m\u001b[1;33m(\u001b[0m\u001b[0mX\u001b[0m\u001b[1;33m,\u001b[0m\u001b[0mtrialX\u001b[0m\u001b[1;33m)\u001b[0m\u001b[1;33m\u001b[0m\u001b[1;33m\u001b[0m\u001b[0m\n\u001b[0m\u001b[0;32m    854\u001b[0m \u001b[1;33m\u001b[0m\u001b[0m\n\u001b[0;32m    855\u001b[0m         \u001b[0mkeys\u001b[0m \u001b[1;33m=\u001b[0m \u001b[0mlist\u001b[0m\u001b[1;33m(\u001b[0m\u001b[0mself\u001b[0m\u001b[1;33m.\u001b[0m\u001b[0mmarginalizations\u001b[0m\u001b[1;33m.\u001b[0m\u001b[0mkeys\u001b[0m\u001b[1;33m(\u001b[0m\u001b[1;33m)\u001b[0m\u001b[1;33m)\u001b[0m\u001b[1;33m\u001b[0m\u001b[1;33m\u001b[0m\u001b[0m\n",
      "\u001b[1;32m~\\Downloads\\dPCA-master\\dPCA-master\\python\\dPCA\\dPCA.py\u001b[0m in \u001b[0;36m_optimize_regularization\u001b[1;34m(self, X, trialX, center, lams)\u001b[0m\n\u001b[0;32m    332\u001b[0m \u001b[1;33m\u001b[0m\u001b[0m\n\u001b[0;32m    333\u001b[0m         \u001b[1;31m# compute crossvalidated score over n_trials repetitions\u001b[0m\u001b[1;33m\u001b[0m\u001b[1;33m\u001b[0m\u001b[1;33m\u001b[0m\u001b[0m\n\u001b[1;32m--> 334\u001b[1;33m         \u001b[0mscores\u001b[0m \u001b[1;33m=\u001b[0m \u001b[0mself\u001b[0m\u001b[1;33m.\u001b[0m\u001b[0mcrossval_score\u001b[0m\u001b[1;33m(\u001b[0m\u001b[0mlams\u001b[0m\u001b[1;33m,\u001b[0m\u001b[0mX\u001b[0m\u001b[1;33m,\u001b[0m\u001b[0mtrialX\u001b[0m\u001b[1;33m,\u001b[0m\u001b[0mmean\u001b[0m\u001b[1;33m=\u001b[0m\u001b[1;32mFalse\u001b[0m\u001b[1;33m)\u001b[0m\u001b[1;33m\u001b[0m\u001b[1;33m\u001b[0m\u001b[0m\n\u001b[0m\u001b[0;32m    335\u001b[0m \u001b[1;33m\u001b[0m\u001b[0m\n\u001b[0;32m    336\u001b[0m         \u001b[1;31m# take mean over total scores\u001b[0m\u001b[1;33m\u001b[0m\u001b[1;33m\u001b[0m\u001b[1;33m\u001b[0m\u001b[0m\n",
      "\u001b[1;32m~\\Downloads\\dPCA-master\\dPCA-master\\python\\dPCA\\dPCA.py\u001b[0m in \u001b[0;36mcrossval_score\u001b[1;34m(self, lams, X, trialX, mean)\u001b[0m\n\u001b[0;32m    396\u001b[0m \u001b[1;33m\u001b[0m\u001b[0m\n\u001b[0;32m    397\u001b[0m             \u001b[1;31m# perform split into training and test trials\u001b[0m\u001b[1;33m\u001b[0m\u001b[1;33m\u001b[0m\u001b[1;33m\u001b[0m\u001b[0m\n\u001b[1;32m--> 398\u001b[1;33m             \u001b[0mtrainX\u001b[0m\u001b[1;33m,\u001b[0m \u001b[0mvalidX\u001b[0m \u001b[1;33m=\u001b[0m \u001b[0mself\u001b[0m\u001b[1;33m.\u001b[0m\u001b[0mtrain_test_split\u001b[0m\u001b[1;33m(\u001b[0m\u001b[0mX\u001b[0m\u001b[1;33m,\u001b[0m\u001b[0mtrialX\u001b[0m\u001b[1;33m,\u001b[0m\u001b[0mN_samples\u001b[0m\u001b[1;33m=\u001b[0m\u001b[0mN_samples\u001b[0m\u001b[1;33m)\u001b[0m\u001b[1;33m\u001b[0m\u001b[1;33m\u001b[0m\u001b[0m\n\u001b[0m\u001b[0;32m    399\u001b[0m \u001b[1;33m\u001b[0m\u001b[0m\n\u001b[0;32m    400\u001b[0m             \u001b[1;31m# compute marginalization of test and validation data\u001b[0m\u001b[1;33m\u001b[0m\u001b[1;33m\u001b[0m\u001b[1;33m\u001b[0m\u001b[0m\n",
      "\u001b[1;32m~\\Downloads\\dPCA-master\\dPCA-master\\python\\dPCA\\dPCA.py\u001b[0m in \u001b[0;36mtrain_test_split\u001b[1;34m(self, X, trialX, N_samples, sample_ax)\u001b[0m\n\u001b[0;32m    674\u001b[0m \u001b[1;33m\u001b[0m\u001b[0m\n\u001b[0;32m    675\u001b[0m         \u001b[1;32mwhile\u001b[0m \u001b[1;32mnot\u001b[0m \u001b[0mit\u001b[0m\u001b[1;33m.\u001b[0m\u001b[0mfinished\u001b[0m\u001b[1;33m:\u001b[0m\u001b[1;33m\u001b[0m\u001b[1;33m\u001b[0m\u001b[0m\n\u001b[1;32m--> 676\u001b[1;33m             \u001b[0mblindX\u001b[0m\u001b[1;33m[\u001b[0m\u001b[0mit\u001b[0m\u001b[1;33m.\u001b[0m\u001b[0mmulti_index\u001b[0m \u001b[1;33m+\u001b[0m \u001b[1;33m(\u001b[0m\u001b[0mnp\u001b[0m\u001b[1;33m.\u001b[0m\u001b[0ms_\u001b[0m\u001b[1;33m[\u001b[0m\u001b[1;33m:\u001b[0m\u001b[1;33m]\u001b[0m\u001b[1;33m,\u001b[0m\u001b[1;33m)\u001b[0m\u001b[1;33m*\u001b[0m\u001b[0mn_protect\u001b[0m\u001b[1;33m]\u001b[0m \u001b[1;33m=\u001b[0m \u001b[0mtrialX\u001b[0m\u001b[1;33m[\u001b[0m\u001b[1;33m(\u001b[0m\u001b[0midx\u001b[0m\u001b[1;33m[\u001b[0m\u001b[0mit\u001b[0m\u001b[1;33m.\u001b[0m\u001b[0mmulti_index\u001b[0m\u001b[1;33m]\u001b[0m\u001b[1;33m,\u001b[0m\u001b[1;33m)\u001b[0m \u001b[1;33m+\u001b[0m \u001b[0mit\u001b[0m\u001b[1;33m.\u001b[0m\u001b[0mmulti_index\u001b[0m \u001b[1;33m+\u001b[0m \u001b[1;33m(\u001b[0m\u001b[0mnp\u001b[0m\u001b[1;33m.\u001b[0m\u001b[0ms_\u001b[0m\u001b[1;33m[\u001b[0m\u001b[1;33m:\u001b[0m\u001b[1;33m]\u001b[0m\u001b[1;33m,\u001b[0m\u001b[1;33m)\u001b[0m\u001b[1;33m*\u001b[0m\u001b[0mn_protect\u001b[0m\u001b[1;33m]\u001b[0m\u001b[1;33m\u001b[0m\u001b[1;33m\u001b[0m\u001b[0m\n\u001b[0m\u001b[0;32m    677\u001b[0m             \u001b[0mit\u001b[0m\u001b[1;33m.\u001b[0m\u001b[0miternext\u001b[0m\u001b[1;33m(\u001b[0m\u001b[1;33m)\u001b[0m\u001b[1;33m\u001b[0m\u001b[1;33m\u001b[0m\u001b[0m\n\u001b[0;32m    678\u001b[0m \u001b[1;33m\u001b[0m\u001b[0m\n",
      "\u001b[1;31mIndexError\u001b[0m: index 2 is out of bounds for axis 2 with size 2"
     ]
    }
   ],
   "source": [
    "significance_masks = dpca.significance_analysis(X = R,trialX=trialR ,n_shuffles=10, n_splits=10, n_consecutive=10)"
   ]
  },
  {
   "cell_type": "code",
   "execution_count": 176,
   "metadata": {},
   "outputs": [
    {
     "data": {
      "text/plain": [
       "(10, 2, 2, 35)"
      ]
     },
     "execution_count": 176,
     "metadata": {},
     "output_type": "execute_result"
    }
   ],
   "source": [
    "Z['c'].shape"
   ]
  },
  {
   "cell_type": "code",
   "execution_count": 190,
   "metadata": {},
   "outputs": [
    {
     "ename": "IndexError",
     "evalue": "index 10 is out of bounds for axis 0 with size 10",
     "output_type": "error",
     "traceback": [
      "\u001b[1;31m---------------------------------------------------------------------------\u001b[0m",
      "\u001b[1;31mIndexError\u001b[0m                                Traceback (most recent call last)",
      "\u001b[1;32m<ipython-input-190-b8be8adc30b7>\u001b[0m in \u001b[0;36m<module>\u001b[1;34m\u001b[0m\n\u001b[0;32m      5\u001b[0m \u001b[1;33m\u001b[0m\u001b[0m\n\u001b[0;32m      6\u001b[0m \u001b[1;32mfor\u001b[0m \u001b[0ms\u001b[0m \u001b[1;32min\u001b[0m \u001b[0mrange\u001b[0m\u001b[1;33m(\u001b[0m\u001b[1;36m2\u001b[0m\u001b[1;33m)\u001b[0m\u001b[1;33m:\u001b[0m\u001b[1;33m\u001b[0m\u001b[1;33m\u001b[0m\u001b[0m\n\u001b[1;32m----> 7\u001b[1;33m     \u001b[0mplt\u001b[0m\u001b[1;33m.\u001b[0m\u001b[0mplot\u001b[0m\u001b[1;33m(\u001b[0m\u001b[0mplacebin\u001b[0m\u001b[1;33m,\u001b[0m\u001b[0mZ\u001b[0m\u001b[1;33m[\u001b[0m\u001b[1;34m'c'\u001b[0m\u001b[1;33m]\u001b[0m\u001b[1;33m[\u001b[0m\u001b[1;36m10\u001b[0m\u001b[1;33m,\u001b[0m\u001b[1;36m0\u001b[0m\u001b[1;33m,\u001b[0m\u001b[0ms\u001b[0m\u001b[1;33m]\u001b[0m\u001b[1;33m)\u001b[0m\u001b[1;33m\u001b[0m\u001b[1;33m\u001b[0m\u001b[0m\n\u001b[0m\u001b[0;32m      8\u001b[0m \u001b[1;33m\u001b[0m\u001b[0m\n\u001b[0;32m      9\u001b[0m \u001b[0mplt\u001b[0m\u001b[1;33m.\u001b[0m\u001b[0mtitle\u001b[0m\u001b[1;33m(\u001b[0m\u001b[1;34m'1st time component'\u001b[0m\u001b[1;33m)\u001b[0m\u001b[1;33m\u001b[0m\u001b[1;33m\u001b[0m\u001b[0m\n",
      "\u001b[1;31mIndexError\u001b[0m: index 10 is out of bounds for axis 0 with size 10"
     ]
    },
    {
     "data": {
      "text/plain": [
       "<Figure size 720x288 with 0 Axes>"
      ]
     },
     "metadata": {},
     "output_type": "display_data"
    }
   ],
   "source": [
    "placebin = np.arange(35)\n",
    "\n",
    "plt.figure(figsize=(10,4))\n",
    "#####\n",
    "\n",
    "for s in range(2):\n",
    "    plt.plot(placebin,Z['c'][10,0,s])\n",
    "\n",
    "plt.title('1st time component')\n"
   ]
  },
  {
   "cell_type": "code",
   "execution_count": 154,
   "metadata": {},
   "outputs": [
    {
     "data": {
      "text/plain": [
       "(10, 2, 2, 35)"
      ]
     },
     "execution_count": 154,
     "metadata": {},
     "output_type": "execute_result"
    }
   ],
   "source": [
    "Z[\"n\"].shape"
   ]
  },
  {
   "cell_type": "code",
   "execution_count": 157,
   "metadata": {},
   "outputs": [
    {
     "data": {
      "text/plain": [
       "(10, 2, 2, 35)"
      ]
     },
     "execution_count": 157,
     "metadata": {},
     "output_type": "execute_result"
    }
   ],
   "source": [
    "Z[\"c\"].shape"
   ]
  },
  {
   "cell_type": "code",
   "execution_count": 158,
   "metadata": {},
   "outputs": [
    {
     "data": {
      "text/plain": [
       "(10, 2, 2, 35)"
      ]
     },
     "execution_count": 158,
     "metadata": {},
     "output_type": "execute_result"
    }
   ],
   "source": [
    "Z[\"d\"].shape"
   ]
  },
  {
   "cell_type": "code",
   "execution_count": 159,
   "metadata": {},
   "outputs": [
    {
     "data": {
      "text/plain": [
       "(10, 2, 2, 35)"
      ]
     },
     "execution_count": 159,
     "metadata": {},
     "output_type": "execute_result"
    }
   ],
   "source": [
    "try:\n",
    "    del s.result[\"place_bin_No\"]\n",
    "except:\n",
    "    pass"
   ]
  }
 ],
 "metadata": {
  "kernelspec": {
   "display_name": "Python 3",
   "language": "python",
   "name": "python3"
  },
  "language_info": {
   "codemirror_mode": {
    "name": "ipython",
    "version": 3
   },
   "file_extension": ".py",
   "mimetype": "text/x-python",
   "name": "python",
   "nbconvert_exporter": "python",
   "pygments_lexer": "ipython3",
   "version": "3.7.5"
  },
  "toc": {
   "base_numbering": 1,
   "nav_menu": {},
   "number_sections": true,
   "sideBar": true,
   "skip_h1_title": false,
   "title_cell": "Table of Contents",
   "title_sidebar": "Contents",
   "toc_cell": false,
   "toc_position": {},
   "toc_section_display": true,
   "toc_window_display": false
  }
 },
 "nbformat": 4,
 "nbformat_minor": 4
}
