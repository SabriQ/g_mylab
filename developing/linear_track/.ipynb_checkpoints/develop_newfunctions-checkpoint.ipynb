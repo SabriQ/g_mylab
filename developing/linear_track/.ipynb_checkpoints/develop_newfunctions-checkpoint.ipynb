{
 "cells": [
  {
   "cell_type": "code",
   "execution_count": 1,
   "metadata": {},
   "outputs": [
    {
     "name": "stdout",
     "output_type": "stream",
     "text": [
      "NumExpr defaulting to 8 threads.\n",
      "NumExpr defaulting to 8 threads.\n"
     ]
    }
   ],
   "source": [
    "from mylab.ana.miniscope.context_exposure.Cminiana import MiniAna as MA\n",
    "import matplotlib.pyplot as plt\n",
    "import pandas as pd\n",
    "import numpy as np\n",
    "import sys\n",
    "from mylab.ana.miniscope.context_exposure.ana_funtions import *"
   ]
  },
  {
   "cell_type": "code",
   "execution_count": 2,
   "metadata": {
    "scrolled": true
   },
   "outputs": [
    {
     "name": "stdout",
     "output_type": "stream",
     "text": [
      "FUN:: _load_session\n",
      "FUN:: _load_session\n",
      "loading \\\\10.10.46.135\\Lab_Members\\_Lab Data Analysis\\02_Linear_Track\\Miniscope_Linear_Track\\batch3\\Results_201033-finish\\part1\\session2.pkl\n",
      "loaded\n",
      "dict_keys(['ms_ts', 'S_dff', 'sigraw', 'idx_accepted', 'corrected_ms_ts', 'behavevideo', 'behavevideoframe', 'behavelog_time', 'behavelog_info', 'behave_track', 'in_context_mask', 'in_context_coords', 'in_lineartrack_mask', 'in_lineartrack_coords', 'all_track_points', 'aligned_behave2ms', 'place_bin_No', 'Body_speed', 'Body_speed_angle', 'Trial_Num', 'process', 'is_in_context', 'in_context_running_direction_Body'])\n",
      "'sigraw' is taken as original self.df\n"
     ]
    }
   ],
   "source": [
    "s = MA(r\"\\\\10.10.46.135\\Lab_Members\\_Lab Data Analysis\\02_Linear_Track\\Miniscope_Linear_Track\\batch3\\Results_201033-finish\\part1\\session2.pkl\")\n"
   ]
  },
  {
   "cell_type": "code",
   "execution_count": 3,
   "metadata": {},
   "outputs": [
    {
     "name": "stdout",
     "output_type": "stream",
     "text": [
      "FUN:: aligned_behave2ms\n",
      "FUN:: aligned_behave2ms\n",
      "behaveiroal timestamps were aligned to ms\n",
      "FUN:: add_Trial_Num_Process\n",
      "FUN:: add_Trial_Num_Process\n",
      "'Trial_Num' and 'process' were added\n"
     ]
    },
    {
     "ename": "OSError",
     "evalue": "[Errno 22] Invalid argument",
     "output_type": "error",
     "traceback": [
      "\u001b[1;31m---------------------------------------------------------------------------\u001b[0m",
      "\u001b[1;31mOSError\u001b[0m                                   Traceback (most recent call last)",
      "\u001b[1;32m<ipython-input-3-3a91c5efefce>\u001b[0m in \u001b[0;36m<module>\u001b[1;34m\u001b[0m\n\u001b[0;32m      1\u001b[0m \u001b[0ms\u001b[0m\u001b[1;33m.\u001b[0m\u001b[0malign_behave_ms\u001b[0m\u001b[1;33m(\u001b[0m\u001b[1;33m)\u001b[0m\u001b[1;33m\u001b[0m\u001b[1;33m\u001b[0m\u001b[0m\n\u001b[1;32m----> 2\u001b[1;33m \u001b[0ms\u001b[0m\u001b[1;33m.\u001b[0m\u001b[0madd_Trial_Num_Process\u001b[0m\u001b[1;33m(\u001b[0m\u001b[1;33m)\u001b[0m\u001b[1;33m\u001b[0m\u001b[1;33m\u001b[0m\u001b[0m\n\u001b[0m\u001b[0;32m      3\u001b[0m s.add_alltrack_placebin_num(according=\"Head\",place_bin_nums=[4,4,30,4,4,4]\n\u001b[0;32m      4\u001b[0m                             ,behavevideo=r\"\\\\10.10.46.135\\data_archive\\qiushou\\linear_track_behavior\\20200721\\CDC-adaptation_80cm_CCC-201033-20200721-201748.mp4\")\n\u001b[0;32m      5\u001b[0m \u001b[1;33m\u001b[0m\u001b[0m\n",
      "\u001b[1;32m~\\Anaconda3\\envs\\mylab\\lib\\site-packages\\mylab\\ana\\miniscope\\context_exposure\\Cminiana.py\u001b[0m in \u001b[0;36madd_Trial_Num_Process\u001b[1;34m(self, hc_trial_bin)\u001b[0m\n\u001b[0;32m     61\u001b[0m \u001b[1;33m\u001b[0m\u001b[0m\n\u001b[0;32m     62\u001b[0m         \u001b[0mprint\u001b[0m\u001b[1;33m(\u001b[0m\u001b[1;34m\"'Trial_Num' and 'process' were added\"\u001b[0m\u001b[1;33m)\u001b[0m\u001b[1;33m\u001b[0m\u001b[1;33m\u001b[0m\u001b[0m\n\u001b[1;32m---> 63\u001b[1;33m         \u001b[0mself\u001b[0m\u001b[1;33m.\u001b[0m\u001b[0msavesession\u001b[0m\u001b[1;33m(\u001b[0m\u001b[1;34m\"Trial_Num\"\u001b[0m\u001b[1;33m,\u001b[0m\u001b[1;34m\"process\"\u001b[0m\u001b[1;33m)\u001b[0m\u001b[1;33m\u001b[0m\u001b[1;33m\u001b[0m\u001b[0m\n\u001b[0m\u001b[0;32m     64\u001b[0m \u001b[1;33m\u001b[0m\u001b[0m\n\u001b[0;32m     65\u001b[0m \u001b[1;33m\u001b[0m\u001b[0m\n",
      "\u001b[1;32m~\\Anaconda3\\envs\\mylab\\lib\\site-packages\\mylab\\ana\\miniscope\\Cminiana.py\u001b[0m in \u001b[0;36msavesession\u001b[1;34m(self, *args)\u001b[0m\n\u001b[0;32m     81\u001b[0m \u001b[1;33m\u001b[0m\u001b[0m\n\u001b[0;32m     82\u001b[0m         \u001b[1;32mwith\u001b[0m \u001b[0mopen\u001b[0m\u001b[1;33m(\u001b[0m\u001b[0mself\u001b[0m\u001b[1;33m.\u001b[0m\u001b[0msession_path\u001b[0m\u001b[1;33m,\u001b[0m\u001b[1;34m\"wb\"\u001b[0m\u001b[1;33m)\u001b[0m \u001b[1;32mas\u001b[0m \u001b[0mf\u001b[0m\u001b[1;33m:\u001b[0m\u001b[1;33m\u001b[0m\u001b[1;33m\u001b[0m\u001b[0m\n\u001b[1;32m---> 83\u001b[1;33m             \u001b[0mpickle\u001b[0m\u001b[1;33m.\u001b[0m\u001b[0mdump\u001b[0m\u001b[1;33m(\u001b[0m\u001b[0mself\u001b[0m\u001b[1;33m.\u001b[0m\u001b[0mresult\u001b[0m\u001b[1;33m,\u001b[0m\u001b[0mf\u001b[0m\u001b[1;33m)\u001b[0m\u001b[1;33m\u001b[0m\u001b[1;33m\u001b[0m\u001b[0m\n\u001b[0m\u001b[0;32m     84\u001b[0m         \u001b[1;32mif\u001b[0m \u001b[0mlen\u001b[0m\u001b[1;33m(\u001b[0m\u001b[0margs\u001b[0m\u001b[1;33m)\u001b[0m\u001b[1;33m==\u001b[0m\u001b[1;36m0\u001b[0m\u001b[1;33m:\u001b[0m\u001b[1;33m\u001b[0m\u001b[1;33m\u001b[0m\u001b[0m\n\u001b[0;32m     85\u001b[0m             \u001b[0mlogger\u001b[0m\u001b[1;33m.\u001b[0m\u001b[0mdebug\u001b[0m\u001b[1;33m(\u001b[0m\u001b[1;34m\"%s self.result is saved at %s\"\u001b[0m\u001b[1;33m%\u001b[0m\u001b[0mself\u001b[0m\u001b[1;33m.\u001b[0m\u001b[0msession_path\u001b[0m\u001b[1;33m)\u001b[0m\u001b[1;33m\u001b[0m\u001b[1;33m\u001b[0m\u001b[0m\n",
      "\u001b[1;31mOSError\u001b[0m: [Errno 22] Invalid argument"
     ]
    }
   ],
   "source": [
    "s.align_behave_ms()\n",
    "s.add_Trial_Num_Process()\n",
    "s.add_alltrack_placebin_num(according=\"Head\",place_bin_nums=[4,4,30,4,4,4]\n",
    "                            ,behavevideo=r\"\\\\10.10.46.135\\data_archive\\qiushou\\linear_track_behavior\\20200721\\CDC-adaptation_80cm_CCC-201033-20200721-201748.mp4\")\n",
    "\n",
    "s.add_Body_speed(scale=0.33)\n",
    "\n",
    "\n",
    "s.add_is_in_context()\n",
    "s.add_in_context_running_direction_Body()\n",
    "\n",
    "\n",
    "cellid_RD_incontext(s,\"S_dff\",idxes=None,in_context=True)\n",
    "\n",
    "\n",
    "# cellid_PC_incontext(s,\"S_dff\",idxes=None,placebin=np.arange(8,38))\n",
    "\n",
    "cellids_Context(s,\"S_dff\",idxes=None,placebin=np.arange(8,38))"
   ]
  },
  {
   "cell_type": "code",
   "execution_count": null,
   "metadata": {},
   "outputs": [],
   "source": [
    "import cv2"
   ]
  },
  {
   "cell_type": "code",
   "execution_count": null,
   "metadata": {},
   "outputs": [],
   "source": [
    "cv2.VideoCapture()"
   ]
  },
  {
   "cell_type": "code",
   "execution_count": null,
   "metadata": {},
   "outputs": [],
   "source": [
    "place_cells = s3.cellids_PC_incontext(s3.result[\"idx_accepted\"]\n",
    "                                      ,context_map=[\"A\",\"B\",\"C\",\"N\"]\n",
    "                                      ,in_process=False)\n",
    "place_cells2 = s3.cellids_PC_incontext(s3.result[\"idx_accepted\"]\n",
    "                                       ,context_map=[\"A\",\"B\",\"C\",\"N\"]\n",
    "                                       ,in_process=True,process=[1,2])\n",
    "place_cells3 = s3.cellids_PC_incontext(s3.result[\"idx_accepted\"]\n",
    "                                       ,context_map=[\"A\",\"B\",\"C\",\"N\"]\n",
    "                                       ,in_process=True,process=[4,5])"
   ]
  },
  {
   "cell_type": "code",
   "execution_count": null,
   "metadata": {},
   "outputs": [],
   "source": [
    "meanfr,plot1,plot2,plot3 = s3.plot_in_context_placefield(df=None                                                  \n",
    "                                                   ,Trial_Num=None\n",
    "                                                   ,in_process=True,process=[1,2]\n",
    "                                                   ,Context=None\n",
    "                                                   ,in_context_placebin_num=None\n",
    "                                                  ,context_map=[\"A\",\"B\",\"C\",\"N\"])"
   ]
  },
  {
   "cell_type": "code",
   "execution_count": null,
   "metadata": {},
   "outputs": [],
   "source": [
    "meanfr.xs(1,level=\"in_context_placebin_num\")"
   ]
  },
  {
   "cell_type": "code",
   "execution_count": null,
   "metadata": {},
   "outputs": [],
   "source": [
    "plot2(place_cells2[\"place_cells_B\"],interpolation=\"none\")\n",
    "\n",
    "# plot2(s3.result[\"idx_accepted\"],interpolation=\"none\")\n"
   ]
  },
  {
   "cell_type": "code",
   "execution_count": null,
   "metadata": {},
   "outputs": [],
   "source": [
    "df_A = meanfr.xs(\"A\",level=\"Context\").groupby([\"in_context_placebin_num\"]).mean()\n",
    "norm_df_A = df_A.apply(lambda x:(x-np.mean(x))/np.std(x,ddof=1)).T\n",
    "norm_df_A = norm_df_A.loc[place_cells3[\"place_cells_A\"],:]\n",
    "sorted_df_A = norm_df_A.loc[norm_df_A.idxmax(axis=1).sort_values().index,:]\n",
    "plt.imshow(sorted_df_A,aspect=\"auto\")\n",
    "# plt.xticks(set())\n",
    "plt.yticks([])\n",
    "plt.title(\"cells in Context A sorted in Context A\")"
   ]
  },
  {
   "cell_type": "code",
   "execution_count": null,
   "metadata": {
    "code_folding": [],
    "scrolled": true
   },
   "outputs": [],
   "source": [
    "from mylab.ana.miniscope.Mca_transient_detection import detect_ca_transients\n",
    "cal_transients,celldata,single_cell_detected_transient = detect_ca_transients(s3.result[\"idx_accepted\"][0:10],s3.result[\"dff\"],thresh=1.5,baseline=0.5)"
   ]
  },
  {
   "cell_type": "code",
   "execution_count": null,
   "metadata": {},
   "outputs": [],
   "source": [
    "single_cell_detected_transient(0)"
   ]
  },
  {
   "cell_type": "code",
   "execution_count": null,
   "metadata": {},
   "outputs": [],
   "source": [
    "plt.figure(figsize=(40,1))\n",
    "plt.plot(celldata[:,9],\"r\",linewidth=1)"
   ]
  },
  {
   "cell_type": "code",
   "execution_count": null,
   "metadata": {},
   "outputs": [],
   "source": [
    "list(celldata[:,9])"
   ]
  },
  {
   "cell_type": "code",
   "execution_count": null,
   "metadata": {},
   "outputs": [],
   "source": [
    "pd.DataFrame(celldata).loc[:,0:10]"
   ]
  },
  {
   "cell_type": "code",
   "execution_count": null,
   "metadata": {},
   "outputs": [],
   "source": [
    "pd.DataFrame(celldata[0]).plot"
   ]
  },
  {
   "cell_type": "code",
   "execution_count": null,
   "metadata": {},
   "outputs": [],
   "source": []
  },
  {
   "cell_type": "code",
   "execution_count": null,
   "metadata": {},
   "outputs": [],
   "source": [
    "# define minimum duration of calcium transient based on gcamp type used\n",
    "decayrate=0.693/t_half #simplified from (-ln(A/Ao)/t_half), [A/Ao]=0.5 at t half-life, [-ln(A/Ao)]=0.693\n",
    "minduration=-(np.log(baseline/thresh))/decayrate #minimum (s) duration for ca transient of minimum specified s.d. amplitude threshold\n",
    "minframes= round(minduration*FR); #minimum number of frames the ca transient should last above baseline"
   ]
  },
  {
   "cell_type": "code",
   "execution_count": null,
   "metadata": {},
   "outputs": [],
   "source": [
    "onset = np.argwhere(celldata[:,0]>thresh)\n",
    "offset = np.argwhere(celldata[:,0]>baseline)\n",
    "offset.shape"
   ]
  },
  {
   "cell_type": "code",
   "execution_count": null,
   "metadata": {},
   "outputs": [],
   "source": [
    "\n",
    "from numpy import trapz"
   ]
  },
  {
   "cell_type": "code",
   "execution_count": null,
   "metadata": {},
   "outputs": [],
   "source": [
    "#对每个细胞，要输出 cell_transients, cell_events, transient_area,cell_AUC\n",
    "cell = celldata[:,1]\n",
    "cell_transients=[]\n",
    "\n",
    "found = 1;\n",
    "for i in range(len(offset)-1):\n",
    "    if found == 1:\n",
    "        start = offset[i]\n",
    "        found=0\n",
    "    if offset[i+1]-offset[i]>1:\n",
    "        finish = offset[i]+1# 包括索引的最后一个\n",
    "        cell_transient = pd.Series(cell)[start[0]:finish[0]]\n",
    "        M = cell_transient.max()\n",
    "        maxamp_ind = cell_transient.idxmax()\n",
    "        peak_to_offset_vect= cell_transient[maxamp_ind:finish[0]]\n",
    "        found=1\n",
    "        if maxamp_ind in onset and peak_to_offset_vect.count()>minframes:\n",
    "            # cell transient,id, maximum,area_AUC\n",
    "            cell_transients.append((cell_transient,maxamp_ind,M,trapz(cell_transient)))\n",
    "    \n",
    "    if i == (len(offset)-1):\n",
    "        finish = offset[-1]\n",
    "        cell_transient = pd.Series(cell)[start[0]:finish[0]]\n",
    "        M = cell_transient.max()\n",
    "        maxamp_ind = cell_transient.idxmax()\n",
    "        peak_to_offset_vect= cell_transient[maxamp_ind:finish[0]]\n",
    "        found=1\n",
    "        if maxamp_ind in onset and peak_to_offset_vect.count()>minframes:\n",
    "            # cell_transient,id, maximum,area_AUC\n",
    "            cell_transients.append((cell_transient,maxamp_ind,M,trapz(cell_transient)))\n",
    "    "
   ]
  },
  {
   "cell_type": "code",
   "execution_count": null,
   "metadata": {},
   "outputs": [],
   "source": [
    "test = pd.DataFrame(cell_transients,columns=[\"cell_transient\",\"trace_index\", \"maximum\",\"area_AUC\"])"
   ]
  },
  {
   "cell_type": "code",
   "execution_count": null,
   "metadata": {},
   "outputs": [],
   "source": [
    "test.loc[1].cell_transient"
   ]
  },
  {
   "cell_type": "code",
   "execution_count": null,
   "metadata": {},
   "outputs": [],
   "source": []
  },
  {
   "cell_type": "code",
   "execution_count": null,
   "metadata": {},
   "outputs": [],
   "source": []
  },
  {
   "cell_type": "code",
   "execution_count": null,
   "metadata": {},
   "outputs": [],
   "source": [
    "np.ALLOW_THREADS =10\n"
   ]
  },
  {
   "cell_type": "code",
   "execution_count": null,
   "metadata": {},
   "outputs": [],
   "source": [
    "pd.DataFrame(celldata,columns=s3.result[\"idx_accepted\"])"
   ]
  },
  {
   "cell_type": "code",
   "execution_count": null,
   "metadata": {},
   "outputs": [],
   "source": []
  },
  {
   "cell_type": "code",
   "execution_count": null,
   "metadata": {},
   "outputs": [],
   "source": []
  },
  {
   "cell_type": "code",
   "execution_count": null,
   "metadata": {},
   "outputs": [],
   "source": []
  },
  {
   "cell_type": "code",
   "execution_count": null,
   "metadata": {},
   "outputs": [],
   "source": [
    "np.apply_along_axis(lambda x:(x-mu)/np.std(x,ddof=0),axis=0,arr=raw_cell)"
   ]
  },
  {
   "cell_type": "code",
   "execution_count": null,
   "metadata": {},
   "outputs": [],
   "source": []
  },
  {
   "cell_type": "code",
   "execution_count": null,
   "metadata": {},
   "outputs": [],
   "source": []
  },
  {
   "cell_type": "code",
   "execution_count": null,
   "metadata": {},
   "outputs": [],
   "source": []
  },
  {
   "cell_type": "code",
   "execution_count": null,
   "metadata": {},
   "outputs": [],
   "source": []
  },
  {
   "cell_type": "code",
   "execution_count": null,
   "metadata": {},
   "outputs": [],
   "source": [
    "idx=iter(place_cells[\"place_cells_B\"])\n",
    "\n",
    "fig = plt.figure(figsize=(40,30))\n",
    "for i in range(100):\n",
    "    plt.subplot(10,10,i+1)\n",
    "    try:\n",
    "        cell = next(idx)\n",
    "        plot1(cell,legend=False)\n",
    "        plt.title(cell)\n",
    "    except:\n",
    "        pass\n",
    "    sys.stdout.write(\"%s/%s figs\"%(i+1,100))\n",
    "    sys.stdout.write(\"\\r\")\n",
    "plt.tight_layout() \n"
   ]
  }
 ],
 "metadata": {
  "kernelspec": {
   "display_name": "Python 3",
   "language": "python",
   "name": "python3"
  },
  "language_info": {
   "codemirror_mode": {
    "name": "ipython",
    "version": 3
   },
   "file_extension": ".py",
   "mimetype": "text/x-python",
   "name": "python",
   "nbconvert_exporter": "python",
   "pygments_lexer": "ipython3",
   "version": "3.7.5"
  },
  "toc": {
   "base_numbering": 1,
   "nav_menu": {},
   "number_sections": true,
   "sideBar": true,
   "skip_h1_title": false,
   "title_cell": "Table of Contents",
   "title_sidebar": "Contents",
   "toc_cell": false,
   "toc_position": {},
   "toc_section_display": true,
   "toc_window_display": false
  }
 },
 "nbformat": 4,
 "nbformat_minor": 4
}
